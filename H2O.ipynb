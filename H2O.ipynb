{
 "cells": [
  {
   "cell_type": "code",
   "execution_count": 1,
   "metadata": {},
   "outputs": [],
   "source": [
    "import h2o\n",
    "from h2o.automl import H2OAutoML\n",
    "import random, os, sys\n",
    "from datetime import datetime\n",
    "import pandas as pd\n",
    "import logging\n",
    "import csv\n",
    "import optparse\n",
    "import time\n",
    "import json\n",
    "from distutils.util import strtobool\n",
    "import psutil\n",
    "import numpy as np"
   ]
  },
  {
   "cell_type": "code",
   "execution_count": 2,
   "metadata": {},
   "outputs": [],
   "source": [
    "import matplotlib.pyplot as plt\n",
    "%matplotlib inline\n",
    "\n",
    "import warnings\n",
    "import matplotlib.cbook\n",
    "warnings.filterwarnings(\"ignore\", category = matplotlib.cbook.mplDeprecation)"
   ]
  },
  {
   "cell_type": "code",
   "execution_count": 4,
   "metadata": {},
   "outputs": [],
   "source": [
    "target='transaction_real_price'\n",
    "min_mem_size=6 \n",
    "run_time=500"
   ]
  },
  {
   "cell_type": "code",
   "execution_count": 5,
   "metadata": {},
   "outputs": [
    {
     "name": "stdout",
     "output_type": "stream",
     "text": [
      "1\n"
     ]
    }
   ],
   "source": [
    "pct_memory=0.5\n",
    "virtual_memory=psutil.virtual_memory()\n",
    "min_mem_size=int(round(int(pct_memory*virtual_memory.available)/1073741824,0))\n",
    "print(min_mem_size)"
   ]
  },
  {
   "cell_type": "code",
   "execution_count": 6,
   "metadata": {},
   "outputs": [
    {
     "name": "stdout",
     "output_type": "stream",
     "text": [
      "Checking whether there is an H2O instance running at http://localhost:10000 ..... not found.\n",
      "Attempting to start a local H2O server...\n",
      "  Java Version: java version \"1.8.0_191\"; Java(TM) SE Runtime Environment (build 1.8.0_191-b12); Java HotSpot(TM) 64-Bit Server VM (build 25.191-b12, mixed mode)\n",
      "  Starting server from /Users/bonnie/anaconda3/lib/python3.7/site-packages/h2o/backend/bin/h2o.jar\n",
      "  Ice root: /var/folders/f1/2lb7b2n57j9d7ktf62rd4mkh0000gn/T/tmpecx_r09n\n",
      "  JVM stdout: /var/folders/f1/2lb7b2n57j9d7ktf62rd4mkh0000gn/T/tmpecx_r09n/h2o_bonnie_started_from_python.out\n",
      "  JVM stderr: /var/folders/f1/2lb7b2n57j9d7ktf62rd4mkh0000gn/T/tmpecx_r09n/h2o_bonnie_started_from_python.err\n",
      "  Server is running at http://127.0.0.1:10000\n",
      "Connecting to H2O server at http://127.0.0.1:10000 ... successful.\n"
     ]
    },
    {
     "data": {
      "text/html": [
       "<div style=\"overflow:auto\"><table style=\"width:50%\"><tr><td>H2O cluster uptime:</td>\n",
       "<td>02 secs</td></tr>\n",
       "<tr><td>H2O cluster timezone:</td>\n",
       "<td>America/New_York</td></tr>\n",
       "<tr><td>H2O data parsing timezone:</td>\n",
       "<td>UTC</td></tr>\n",
       "<tr><td>H2O cluster version:</td>\n",
       "<td>3.24.0.1</td></tr>\n",
       "<tr><td>H2O cluster version age:</td>\n",
       "<td>11 days </td></tr>\n",
       "<tr><td>H2O cluster name:</td>\n",
       "<td>H2O_from_python_bonnie_v132zi</td></tr>\n",
       "<tr><td>H2O cluster total nodes:</td>\n",
       "<td>1</td></tr>\n",
       "<tr><td>H2O cluster free memory:</td>\n",
       "<td>1.778 Gb</td></tr>\n",
       "<tr><td>H2O cluster total cores:</td>\n",
       "<td>4</td></tr>\n",
       "<tr><td>H2O cluster allowed cores:</td>\n",
       "<td>4</td></tr>\n",
       "<tr><td>H2O cluster status:</td>\n",
       "<td>accepting new members, healthy</td></tr>\n",
       "<tr><td>H2O connection url:</td>\n",
       "<td>http://127.0.0.1:10000</td></tr>\n",
       "<tr><td>H2O connection proxy:</td>\n",
       "<td>None</td></tr>\n",
       "<tr><td>H2O internal security:</td>\n",
       "<td>False</td></tr>\n",
       "<tr><td>H2O API Extensions:</td>\n",
       "<td>Amazon S3, XGBoost, Algos, AutoML, Core V3, Core V4</td></tr>\n",
       "<tr><td>Python version:</td>\n",
       "<td>3.7.1 final</td></tr></table></div>"
      ],
      "text/plain": [
       "--------------------------  ---------------------------------------------------\n",
       "H2O cluster uptime:         02 secs\n",
       "H2O cluster timezone:       America/New_York\n",
       "H2O data parsing timezone:  UTC\n",
       "H2O cluster version:        3.24.0.1\n",
       "H2O cluster version age:    11 days\n",
       "H2O cluster name:           H2O_from_python_bonnie_v132zi\n",
       "H2O cluster total nodes:    1\n",
       "H2O cluster free memory:    1.778 Gb\n",
       "H2O cluster total cores:    4\n",
       "H2O cluster allowed cores:  4\n",
       "H2O cluster status:         accepting new members, healthy\n",
       "H2O connection url:         http://127.0.0.1:10000\n",
       "H2O connection proxy:\n",
       "H2O internal security:      False\n",
       "H2O API Extensions:         Amazon S3, XGBoost, Algos, AutoML, Core V3, Core V4\n",
       "Python version:             3.7.1 final\n",
       "--------------------------  ---------------------------------------------------"
      ]
     },
     "metadata": {},
     "output_type": "display_data"
    }
   ],
   "source": [
    "# 65535 Highest port no\n",
    "port_no=random.randint(5555,55555)\n",
    "\n",
    "#  h2o.init(strict_version_check=False,min_mem_size_GB=min_mem_size,port=port_no) # start h2o\n",
    "try:\n",
    "  h2o.init(strict_version_check=False,min_mem_size_GB=min_mem_size,port=port_no) # start h2o\n",
    "except:\n",
    "  logging.critical('h2o.init')\n",
    "  h2o.download_all_logs(dirname=logs_path, filename=logfile)      \n",
    "  h2o.cluster().shutdown()\n",
    "  sys.exit(2)"
   ]
  },
  {
   "cell_type": "code",
   "execution_count": 7,
   "metadata": {},
   "outputs": [
    {
     "name": "stdout",
     "output_type": "stream",
     "text": [
      "Parse progress: |█████████████████████████████████████████████████████████| 100%\n"
     ]
    }
   ],
   "source": [
    "# https://s3-us-west-2.amazonaws.com/h2o-tutorials/data/topics/data/automl/loan.csv\n",
    "df = h2o.import_file(path = 'data/trainPriceCleaned.csv')\n",
    "#train[\"bad_loan\"] = train[\"bad_loan\"].asfactor()"
   ]
  },
  {
   "cell_type": "code",
   "execution_count": 6,
   "metadata": {},
   "outputs": [
    {
     "name": "stdout",
     "output_type": "stream",
     "text": [
      "Rows:4447\n",
      "Cols:19\n",
      "\n",
      "\n"
     ]
    },
    {
     "data": {
      "text/html": [
       "<table>\n",
       "<thead>\n",
       "<tr><th>       </th><th>transaction_real_price  </th><th>city              </th><th>exclusive_use_area  </th><th>floor             </th><th>total_parking_capacity_in_site  </th><th>total_household_count_in_sites  </th><th>apartment_building_count_in_sites  </th><th>supply_area       </th><th>total_household_count_of_area_type  </th><th>room_count        </th><th>bathroom_count    </th><th>heat_fuel_cogeneration  </th><th>heat_fuel_gas     </th><th>heat_type_central  </th><th>heat_type_district  </th><th>heat_type_individual  </th><th>front_door_structure_corridor  </th><th>front_door_structure_mixed  </th><th>front_door_structure_stairway  </th></tr>\n",
       "</thead>\n",
       "<tbody>\n",
       "<tr><td>type   </td><td>int                     </td><td>int               </td><td>real                </td><td>int               </td><td>int                             </td><td>int                             </td><td>int                                </td><td>real              </td><td>int                                 </td><td>int               </td><td>int               </td><td>int                     </td><td>int               </td><td>int                </td><td>int                 </td><td>int                   </td><td>int                            </td><td>int                         </td><td>int                            </td></tr>\n",
       "<tr><td>mins   </td><td>15150000.0              </td><td>0.0               </td><td>24.2475             </td><td>1.0               </td><td>0.0                             </td><td>100.0                           </td><td>1.0                                </td><td>33.59             </td><td>0.0                                 </td><td>0.0               </td><td>0.0               </td><td>0.0                     </td><td>0.0               </td><td>0.0                </td><td>0.0                 </td><td>0.0                   </td><td>0.0                            </td><td>0.0                         </td><td>0.0                            </td></tr>\n",
       "<tr><td>mean   </td><td>414823366.3143693       </td><td>0.633235889363616 </td><td>80.43324200584667   </td><td>10.161457162131775</td><td>1320.9788621542616              </td><td>1191.7533168428156              </td><td>12.970991679784124                 </td><td>103.30118956599955</td><td>292.6532493816056                   </td><td>2.9759388351697784</td><td>1.597031706768608 </td><td>0.2397121655048347      </td><td>0.7602878344951652</td><td>0.08162806386327862</td><td>0.24061164830222623 </td><td>0.6777602878344952    </td><td>0.259051045648752              </td><td>0.016865302451090622        </td><td>0.7240836519001574             </td></tr>\n",
       "<tr><td>maxs   </td><td>4240000000.0            </td><td>1.0               </td><td>266.8181            </td><td>66.0              </td><td>9766.0                          </td><td>6864.0                          </td><td>124.0                              </td><td>343.89            </td><td>2960.0                              </td><td>6.0               </td><td>4.0               </td><td>1.0                     </td><td>1.0               </td><td>1.0                </td><td>1.0                 </td><td>1.0                   </td><td>1.0                            </td><td>1.0                         </td><td>1.0                            </td></tr>\n",
       "<tr><td>sigma  </td><td>334805341.89587265      </td><td>0.4819755547191596</td><td>28.772107257421734  </td><td>7.028892141141552 </td><td>1448.080749614069               </td><td>1135.12591706417                </td><td>14.331711124397955                 </td><td>33.90022505192435 </td><td>329.45238690672653                  </td><td>0.6674127834544982</td><td>0.5081169355394869</td><td>0.4269557765991174      </td><td>0.4269557765991174</td><td>0.27382801949303126</td><td>0.427502959168945   </td><td>0.46738678111809034   </td><td>0.43816295324580384            </td><td>0.12878118423684082         </td><td>0.4470251147192063             </td></tr>\n",
       "<tr><td>zeros  </td><td>0                       </td><td>1631              </td><td>0                   </td><td>0                 </td><td>3                               </td><td>0                               </td><td>0                                  </td><td>0                 </td><td>54                                  </td><td>8                 </td><td>8                 </td><td>3381                    </td><td>1066              </td><td>4084               </td><td>3377                </td><td>1433                  </td><td>3295                           </td><td>4372                        </td><td>1227                           </td></tr>\n",
       "<tr><td>missing</td><td>0                       </td><td>0                 </td><td>0                   </td><td>0                 </td><td>0                               </td><td>0                               </td><td>0                                  </td><td>0                 </td><td>0                                   </td><td>0                 </td><td>0                 </td><td>0                       </td><td>0                 </td><td>0                  </td><td>0                   </td><td>0                     </td><td>0                              </td><td>0                           </td><td>0                              </td></tr>\n",
       "<tr><td>0      </td><td>334000000.0             </td><td>1.0               </td><td>84.94               </td><td>12.0              </td><td>3481.0                          </td><td>2678.0                          </td><td>25.0                               </td><td>102.02            </td><td>2254.0                              </td><td>3.0               </td><td>2.0               </td><td>0.0                     </td><td>1.0               </td><td>0.0                </td><td>0.0                 </td><td>1.0                   </td><td>0.0                            </td><td>0.0                         </td><td>1.0                            </td></tr>\n",
       "<tr><td>1      </td><td>400000000.0             </td><td>1.0               </td><td>114.88              </td><td>17.0              </td><td>1665.0                          </td><td>2017.0                          </td><td>22.0                               </td><td>137.59            </td><td>325.0                               </td><td>4.0               </td><td>2.0               </td><td>0.0                     </td><td>1.0               </td><td>0.0                </td><td>0.0                 </td><td>1.0                   </td><td>0.0                            </td><td>0.0                         </td><td>1.0                            </td></tr>\n",
       "<tr><td>2      </td><td>290000000.0             </td><td>0.0               </td><td>84.96               </td><td>7.0               </td><td>1761.0                          </td><td>1326.0                          </td><td>9.0                                </td><td>109.77            </td><td>209.0                               </td><td>3.0               </td><td>2.0               </td><td>0.0                     </td><td>1.0               </td><td>0.0                </td><td>0.0                 </td><td>1.0                   </td><td>0.0                            </td><td>0.0                         </td><td>1.0                            </td></tr>\n",
       "<tr><td>3      </td><td>156500000.0             </td><td>0.0               </td><td>85.0                </td><td>3.0               </td><td>2381.0                          </td><td>1391.0                          </td><td>14.0                               </td><td>107.24            </td><td>138.0                               </td><td>3.0               </td><td>2.0               </td><td>0.0                     </td><td>1.0               </td><td>0.0                </td><td>0.0                 </td><td>1.0                   </td><td>0.0                            </td><td>0.0                         </td><td>1.0                            </td></tr>\n",
       "<tr><td>4      </td><td>380000000.0             </td><td>0.0               </td><td>140.293             </td><td>14.0              </td><td>664.0                           </td><td>388.0                           </td><td>5.0                                </td><td>166.53            </td><td>130.0                               </td><td>5.0               </td><td>2.0               </td><td>0.0                     </td><td>1.0               </td><td>0.0                </td><td>0.0                 </td><td>1.0                   </td><td>0.0                            </td><td>0.0                         </td><td>1.0                            </td></tr>\n",
       "<tr><td>5      </td><td>87000000.0              </td><td>0.0               </td><td>60.0                </td><td>6.0               </td><td>200.0                           </td><td>124.0                           </td><td>2.0                                </td><td>85.95             </td><td>64.0                                </td><td>3.0               </td><td>1.0               </td><td>1.0                     </td><td>0.0               </td><td>0.0                </td><td>1.0                 </td><td>0.0                   </td><td>1.0                            </td><td>0.0                         </td><td>0.0                            </td></tr>\n",
       "<tr><td>6      </td><td>1530000000.0            </td><td>1.0               </td><td>219.82              </td><td>35.0              </td><td>1081.0                          </td><td>445.0                           </td><td>2.0                                </td><td>279.31            </td><td>4.0                                 </td><td>3.0               </td><td>4.0               </td><td>1.0                     </td><td>0.0               </td><td>0.0                </td><td>0.0                 </td><td>1.0                   </td><td>0.0                            </td><td>0.0                         </td><td>1.0                            </td></tr>\n",
       "<tr><td>7      </td><td>115000000.0             </td><td>0.0               </td><td>49.42               </td><td>11.0              </td><td>340.0                           </td><td>720.0                           </td><td>5.0                                </td><td>69.02             </td><td>720.0                               </td><td>2.0               </td><td>1.0               </td><td>0.0                     </td><td>1.0               </td><td>0.0                </td><td>0.0                 </td><td>1.0                   </td><td>1.0                            </td><td>0.0                         </td><td>0.0                            </td></tr>\n",
       "<tr><td>8      </td><td>398000000.0             </td><td>1.0               </td><td>59.97               </td><td>2.0               </td><td>302.0                           </td><td>636.0                           </td><td>9.0                                </td><td>81.55             </td><td>323.0                               </td><td>2.0               </td><td>1.0               </td><td>0.0                     </td><td>1.0               </td><td>0.0                </td><td>0.0                 </td><td>1.0                   </td><td>1.0                            </td><td>0.0                         </td><td>0.0                            </td></tr>\n",
       "<tr><td>9      </td><td>94500000.0              </td><td>0.0               </td><td>45.5                </td><td>4.0               </td><td>230.0                           </td><td>996.0                           </td><td>7.0                                </td><td>63.17             </td><td>996.0                               </td><td>3.0               </td><td>1.0               </td><td>0.0                     </td><td>1.0               </td><td>0.0                </td><td>0.0                 </td><td>1.0                   </td><td>1.0                            </td><td>0.0                         </td><td>0.0                            </td></tr>\n",
       "</tbody>\n",
       "</table>"
      ]
     },
     "metadata": {},
     "output_type": "display_data"
    }
   ],
   "source": [
    "df.describe()"
   ]
  },
  {
   "cell_type": "code",
   "execution_count": 8,
   "metadata": {},
   "outputs": [],
   "source": [
    "def get_independent_variables(df, targ):\n",
    "    C = [name for name in df.columns if name != targ]\n",
    "    # determine column types\n",
    "    ints, reals, enums = [], [], []\n",
    "    for key, val in df.types.items():\n",
    "        if key in C:\n",
    "            if val == 'enum':\n",
    "                enums.append(key)\n",
    "            elif val == 'int':\n",
    "                ints.append(key)            \n",
    "            else: \n",
    "                reals.append(key)    \n",
    "    x=ints+enums+reals\n",
    "    return x"
   ]
  },
  {
   "cell_type": "code",
   "execution_count": 9,
   "metadata": {},
   "outputs": [
    {
     "name": "stdout",
     "output_type": "stream",
     "text": [
      "['city', 'floor', 'total_parking_capacity_in_site', 'total_household_count_in_sites', 'apartment_building_count_in_sites', 'total_household_count_of_area_type', 'room_count', 'bathroom_count', 'heat_fuel_cogeneration', 'heat_fuel_gas', 'heat_type_central', 'heat_type_district', 'heat_type_individual', 'front_door_structure_corridor', 'front_door_structure_mixed', 'front_door_structure_stairway', 'exclusive_use_area', 'supply_area']\n"
     ]
    }
   ],
   "source": [
    "X=get_independent_variables(df, target) \n",
    "print(X)"
   ]
  },
  {
   "cell_type": "code",
   "execution_count": 10,
   "metadata": {},
   "outputs": [],
   "source": [
    "# Set target and predictor variables\n",
    "y = target"
   ]
  },
  {
   "cell_type": "code",
   "execution_count": 10,
   "metadata": {},
   "outputs": [],
   "source": [
    "# Set up AutoML\n",
    "\n",
    "aml = H2OAutoML(max_runtime_secs=run_time,exclude_algos = ['DeepLearning'])"
   ]
  },
  {
   "cell_type": "code",
   "execution_count": 11,
   "metadata": {},
   "outputs": [
    {
     "name": "stdout",
     "output_type": "stream",
     "text": [
      "AutoML progress: |████████████████████████████████████████████████████████| 100%\n"
     ]
    }
   ],
   "source": [
    "model_start_time = time.time()\n",
    "  \n",
    "try:\n",
    "  aml.train(x=X,y=y,training_frame=df)  # Change training_frame=train\n",
    "except Exception as e:\n",
    "  logging.critical('aml.train') \n",
    "  h2o.download_all_logs(dirname=logs_path, filename=logfile)      \n",
    "  h2o.cluster().shutdown()   \n",
    "  sys.exit(4)"
   ]
  },
  {
   "cell_type": "code",
   "execution_count": 12,
   "metadata": {},
   "outputs": [],
   "source": [
    "meta_data={}\n",
    "meta_data['model_execution_time'] = {\"regression\":(time.time() - model_start_time)}"
   ]
  },
  {
   "cell_type": "code",
   "execution_count": 13,
   "metadata": {},
   "outputs": [
    {
     "data": {
      "text/plain": [
       "{'model_execution_time': {'regression': 437.59399700164795}}"
      ]
     },
     "execution_count": 13,
     "metadata": {},
     "output_type": "execute_result"
    }
   ],
   "source": [
    "meta_data"
   ]
  },
  {
   "cell_type": "code",
   "execution_count": 14,
   "metadata": {},
   "outputs": [
    {
     "data": {
      "text/html": [
       "<table>\n",
       "<thead>\n",
       "<tr><th>model_id                                     </th><th style=\"text-align: right;\">  mean_residual_deviance</th><th style=\"text-align: right;\">       rmse</th><th style=\"text-align: right;\">        mse</th><th style=\"text-align: right;\">        mae</th><th style=\"text-align: right;\">   rmsle</th></tr>\n",
       "</thead>\n",
       "<tbody>\n",
       "<tr><td>XGBoost_grid_1_AutoML_20190412_012604_model_2</td><td style=\"text-align: right;\">             2.89392e+16</td><td style=\"text-align: right;\">1.70115e+08</td><td style=\"text-align: right;\">2.89392e+16</td><td style=\"text-align: right;\">1.01231e+08</td><td style=\"text-align: right;\">0.32973 </td></tr>\n",
       "<tr><td>GBM_1_AutoML_20190412_012604                 </td><td style=\"text-align: right;\">             2.96415e+16</td><td style=\"text-align: right;\">1.72167e+08</td><td style=\"text-align: right;\">2.96415e+16</td><td style=\"text-align: right;\">1.04213e+08</td><td style=\"text-align: right;\">0.339215</td></tr>\n",
       "<tr><td>XGBoost_1_AutoML_20190412_012604             </td><td style=\"text-align: right;\">             3.01684e+16</td><td style=\"text-align: right;\">1.73691e+08</td><td style=\"text-align: right;\">3.01684e+16</td><td style=\"text-align: right;\">1.02293e+08</td><td style=\"text-align: right;\">0.331826</td></tr>\n",
       "<tr><td>XGBoost_grid_1_AutoML_20190412_012604_model_1</td><td style=\"text-align: right;\">             3.04741e+16</td><td style=\"text-align: right;\">1.74568e+08</td><td style=\"text-align: right;\">3.04741e+16</td><td style=\"text-align: right;\">1.03589e+08</td><td style=\"text-align: right;\">0.339529</td></tr>\n",
       "<tr><td>XGBoost_grid_1_AutoML_20190412_012604_model_5</td><td style=\"text-align: right;\">             3.08888e+16</td><td style=\"text-align: right;\">1.75752e+08</td><td style=\"text-align: right;\">3.08888e+16</td><td style=\"text-align: right;\">1.01943e+08</td><td style=\"text-align: right;\">0.329915</td></tr>\n",
       "<tr><td>GBM_grid_1_AutoML_20190412_012604_model_16   </td><td style=\"text-align: right;\">             3.13089e+16</td><td style=\"text-align: right;\">1.76943e+08</td><td style=\"text-align: right;\">3.13089e+16</td><td style=\"text-align: right;\">1.03779e+08</td><td style=\"text-align: right;\">0.343121</td></tr>\n",
       "<tr><td>GBM_grid_1_AutoML_20190412_012604_model_15   </td><td style=\"text-align: right;\">             3.13727e+16</td><td style=\"text-align: right;\">1.77123e+08</td><td style=\"text-align: right;\">3.13727e+16</td><td style=\"text-align: right;\">1.04722e+08</td><td style=\"text-align: right;\">0.337649</td></tr>\n",
       "<tr><td>GBM_3_AutoML_20190412_012604                 </td><td style=\"text-align: right;\">             3.14988e+16</td><td style=\"text-align: right;\">1.77479e+08</td><td style=\"text-align: right;\">3.14988e+16</td><td style=\"text-align: right;\">1.05904e+08</td><td style=\"text-align: right;\">0.341879</td></tr>\n",
       "<tr><td>GBM_4_AutoML_20190412_012604                 </td><td style=\"text-align: right;\">             3.15711e+16</td><td style=\"text-align: right;\">1.77682e+08</td><td style=\"text-align: right;\">3.15711e+16</td><td style=\"text-align: right;\">1.04068e+08</td><td style=\"text-align: right;\">0.335661</td></tr>\n",
       "<tr><td>XGBoost_2_AutoML_20190412_012604             </td><td style=\"text-align: right;\">             3.16218e+16</td><td style=\"text-align: right;\">1.77825e+08</td><td style=\"text-align: right;\">3.16218e+16</td><td style=\"text-align: right;\">1.02519e+08</td><td style=\"text-align: right;\">0.334078</td></tr>\n",
       "</tbody>\n",
       "</table>"
      ]
     },
     "metadata": {},
     "output_type": "display_data"
    },
    {
     "name": "stdout",
     "output_type": "stream",
     "text": [
      "\n"
     ]
    }
   ],
   "source": [
    "print(aml.leaderboard)"
   ]
  },
  {
   "cell_type": "code",
   "execution_count": 15,
   "metadata": {},
   "outputs": [],
   "source": [
    "best_model = h2o.get_model(aml.leaderboard[2,'model_id'])"
   ]
  },
  {
   "cell_type": "code",
   "execution_count": 16,
   "metadata": {},
   "outputs": [
    {
     "data": {
      "text/plain": [
       "'xgboost'"
      ]
     },
     "execution_count": 16,
     "metadata": {},
     "output_type": "execute_result"
    }
   ],
   "source": [
    "best_model.algo"
   ]
  },
  {
   "cell_type": "code",
   "execution_count": 17,
   "metadata": {},
   "outputs": [],
   "source": [
    "import matplotlib.pyplot as plt\n",
    "%matplotlib inline\n",
    "\n",
    "import warnings\n",
    "import matplotlib.cbook\n",
    "warnings.filterwarnings(\"ignore\", category = matplotlib.cbook.mplDeprecation)"
   ]
  },
  {
   "cell_type": "code",
   "execution_count": 18,
   "metadata": {},
   "outputs": [
    {
     "data": {
      "image/png": "[encoded data removed]",
      "text/plain": [
       "<Figure size 1008x720 with 1 Axes>"
      ]
     },
     "metadata": {
      "needs_background": "light"
     },
     "output_type": "display_data"
    }
   ],
   "source": [
    "best_model.varimp_plot()"
   ]
  },
  {
   "cell_type": "code",
   "execution_count": 19,
   "metadata": {},
   "outputs": [],
   "source": [
    "df[y] = df[y].asfactor()"
   ]
  },
  {
   "cell_type": "code",
   "execution_count": 20,
   "metadata": {
    "scrolled": false
   },
   "outputs": [
    {
     "name": "stdout",
     "output_type": "stream",
     "text": [
      "Rows:4447\n",
      "Cols:19\n",
      "\n",
      "\n"
     ]
    },
    {
     "data": {
      "text/html": [
       "<table>\n",
       "<thead>\n",
       "<tr><th>       </th><th>transaction_real_price  </th><th>city              </th><th>exclusive_use_area  </th><th>floor             </th><th>total_parking_capacity_in_site  </th><th>total_household_count_in_sites  </th><th>apartment_building_count_in_sites  </th><th>supply_area       </th><th>total_household_count_of_area_type  </th><th>room_count        </th><th>bathroom_count    </th><th>heat_fuel_cogeneration  </th><th>heat_fuel_gas     </th><th>heat_type_central  </th><th>heat_type_district  </th><th>heat_type_individual  </th><th>front_door_structure_corridor  </th><th>front_door_structure_mixed  </th><th>front_door_structure_stairway  </th></tr>\n",
       "</thead>\n",
       "<tbody>\n",
       "<tr><td>type   </td><td>enum                    </td><td>int               </td><td>real                </td><td>int               </td><td>int                             </td><td>int                             </td><td>int                                </td><td>real              </td><td>int                                 </td><td>int               </td><td>int               </td><td>int                     </td><td>int               </td><td>int                </td><td>int                 </td><td>int                   </td><td>int                            </td><td>int                         </td><td>int                            </td></tr>\n",
       "<tr><td>mins   </td><td>                        </td><td>0.0               </td><td>24.2475             </td><td>1.0               </td><td>0.0                             </td><td>100.0                           </td><td>1.0                                </td><td>33.59             </td><td>0.0                                 </td><td>0.0               </td><td>0.0               </td><td>0.0                     </td><td>0.0               </td><td>0.0                </td><td>0.0                 </td><td>0.0                   </td><td>0.0                            </td><td>0.0                         </td><td>0.0                            </td></tr>\n",
       "<tr><td>mean   </td><td>                        </td><td>0.633235889363616 </td><td>80.43324200584667   </td><td>10.161457162131775</td><td>1320.9788621542616              </td><td>1191.7533168428156              </td><td>12.970991679784124                 </td><td>103.30118956599955</td><td>292.6532493816056                   </td><td>2.9759388351697784</td><td>1.597031706768608 </td><td>0.2397121655048347      </td><td>0.7602878344951652</td><td>0.08162806386327862</td><td>0.24061164830222623 </td><td>0.6777602878344952    </td><td>0.259051045648752              </td><td>0.016865302451090622        </td><td>0.7240836519001574             </td></tr>\n",
       "<tr><td>maxs   </td><td>                        </td><td>1.0               </td><td>266.8181            </td><td>66.0              </td><td>9766.0                          </td><td>6864.0                          </td><td>124.0                              </td><td>343.89            </td><td>2960.0                              </td><td>6.0               </td><td>4.0               </td><td>1.0                     </td><td>1.0               </td><td>1.0                </td><td>1.0                 </td><td>1.0                   </td><td>1.0                            </td><td>1.0                         </td><td>1.0                            </td></tr>\n",
       "<tr><td>sigma  </td><td>                        </td><td>0.4819755547191596</td><td>28.772107257421734  </td><td>7.028892141141552 </td><td>1448.080749614069               </td><td>1135.12591706417                </td><td>14.331711124397955                 </td><td>33.90022505192435 </td><td>329.45238690672653                  </td><td>0.6674127834544982</td><td>0.5081169355394869</td><td>0.4269557765991174      </td><td>0.4269557765991174</td><td>0.27382801949303126</td><td>0.427502959168945   </td><td>0.46738678111809034   </td><td>0.43816295324580384            </td><td>0.12878118423684082         </td><td>0.4470251147192063             </td></tr>\n",
       "<tr><td>zeros  </td><td>                        </td><td>1631              </td><td>0                   </td><td>0                 </td><td>3                               </td><td>0                               </td><td>0                                  </td><td>0                 </td><td>54                                  </td><td>8                 </td><td>8                 </td><td>3381                    </td><td>1066              </td><td>4084               </td><td>3377                </td><td>1433                  </td><td>3295                           </td><td>4372                        </td><td>1227                           </td></tr>\n",
       "<tr><td>missing</td><td>0                       </td><td>0                 </td><td>0                   </td><td>0                 </td><td>0                               </td><td>0                               </td><td>0                                  </td><td>0                 </td><td>0                                   </td><td>0                 </td><td>0                 </td><td>0                       </td><td>0                 </td><td>0                  </td><td>0                   </td><td>0                     </td><td>0                              </td><td>0                           </td><td>0                              </td></tr>\n",
       "<tr><td>0      </td><td>334000000               </td><td>1.0               </td><td>84.94               </td><td>12.0              </td><td>3481.0                          </td><td>2678.0                          </td><td>25.0                               </td><td>102.02            </td><td>2254.0                              </td><td>3.0               </td><td>2.0               </td><td>0.0                     </td><td>1.0               </td><td>0.0                </td><td>0.0                 </td><td>1.0                   </td><td>0.0                            </td><td>0.0                         </td><td>1.0                            </td></tr>\n",
       "<tr><td>1      </td><td>400000000               </td><td>1.0               </td><td>114.88              </td><td>17.0              </td><td>1665.0                          </td><td>2017.0                          </td><td>22.0                               </td><td>137.59            </td><td>325.0                               </td><td>4.0               </td><td>2.0               </td><td>0.0                     </td><td>1.0               </td><td>0.0                </td><td>0.0                 </td><td>1.0                   </td><td>0.0                            </td><td>0.0                         </td><td>1.0                            </td></tr>\n",
       "<tr><td>2      </td><td>290000000               </td><td>0.0               </td><td>84.96               </td><td>7.0               </td><td>1761.0                          </td><td>1326.0                          </td><td>9.0                                </td><td>109.77            </td><td>209.0                               </td><td>3.0               </td><td>2.0               </td><td>0.0                     </td><td>1.0               </td><td>0.0                </td><td>0.0                 </td><td>1.0                   </td><td>0.0                            </td><td>0.0                         </td><td>1.0                            </td></tr>\n",
       "<tr><td>3      </td><td>156500000               </td><td>0.0               </td><td>85.0                </td><td>3.0               </td><td>2381.0                          </td><td>1391.0                          </td><td>14.0                               </td><td>107.24            </td><td>138.0                               </td><td>3.0               </td><td>2.0               </td><td>0.0                     </td><td>1.0               </td><td>0.0                </td><td>0.0                 </td><td>1.0                   </td><td>0.0                            </td><td>0.0                         </td><td>1.0                            </td></tr>\n",
       "<tr><td>4      </td><td>380000000               </td><td>0.0               </td><td>140.293             </td><td>14.0              </td><td>664.0                           </td><td>388.0                           </td><td>5.0                                </td><td>166.53            </td><td>130.0                               </td><td>5.0               </td><td>2.0               </td><td>0.0                     </td><td>1.0               </td><td>0.0                </td><td>0.0                 </td><td>1.0                   </td><td>0.0                            </td><td>0.0                         </td><td>1.0                            </td></tr>\n",
       "<tr><td>5      </td><td>87000000                </td><td>0.0               </td><td>60.0                </td><td>6.0               </td><td>200.0                           </td><td>124.0                           </td><td>2.0                                </td><td>85.95             </td><td>64.0                                </td><td>3.0               </td><td>1.0               </td><td>1.0                     </td><td>0.0               </td><td>0.0                </td><td>1.0                 </td><td>0.0                   </td><td>1.0                            </td><td>0.0                         </td><td>0.0                            </td></tr>\n",
       "<tr><td>6      </td><td>1530000000              </td><td>1.0               </td><td>219.82              </td><td>35.0              </td><td>1081.0                          </td><td>445.0                           </td><td>2.0                                </td><td>279.31            </td><td>4.0                                 </td><td>3.0               </td><td>4.0               </td><td>1.0                     </td><td>0.0               </td><td>0.0                </td><td>0.0                 </td><td>1.0                   </td><td>0.0                            </td><td>0.0                         </td><td>1.0                            </td></tr>\n",
       "<tr><td>7      </td><td>115000000               </td><td>0.0               </td><td>49.42               </td><td>11.0              </td><td>340.0                           </td><td>720.0                           </td><td>5.0                                </td><td>69.02             </td><td>720.0                               </td><td>2.0               </td><td>1.0               </td><td>0.0                     </td><td>1.0               </td><td>0.0                </td><td>0.0                 </td><td>1.0                   </td><td>1.0                            </td><td>0.0                         </td><td>0.0                            </td></tr>\n",
       "<tr><td>8      </td><td>398000000               </td><td>1.0               </td><td>59.97               </td><td>2.0               </td><td>302.0                           </td><td>636.0                           </td><td>9.0                                </td><td>81.55             </td><td>323.0                               </td><td>2.0               </td><td>1.0               </td><td>0.0                     </td><td>1.0               </td><td>0.0                </td><td>0.0                 </td><td>1.0                   </td><td>1.0                            </td><td>0.0                         </td><td>0.0                            </td></tr>\n",
       "<tr><td>9      </td><td>94500000                </td><td>0.0               </td><td>45.5                </td><td>4.0               </td><td>230.0                           </td><td>996.0                           </td><td>7.0                                </td><td>63.17             </td><td>996.0                               </td><td>3.0               </td><td>1.0               </td><td>0.0                     </td><td>1.0               </td><td>0.0                </td><td>0.0                 </td><td>1.0                   </td><td>1.0                            </td><td>0.0                         </td><td>0.0                            </td></tr>\n",
       "</tbody>\n",
       "</table>"
      ]
     },
     "metadata": {},
     "output_type": "display_data"
    }
   ],
   "source": [
    "df.describe()"
   ]
  },
  {
   "cell_type": "code",
   "execution_count": null,
   "metadata": {},
   "outputs": [],
   "source": []
  },
  {
   "cell_type": "code",
   "execution_count": null,
   "metadata": {},
   "outputs": [],
   "source": []
  },
  {
   "cell_type": "code",
   "execution_count": null,
   "metadata": {},
   "outputs": [],
   "source": []
  },
  {
   "cell_type": "code",
   "execution_count": null,
   "metadata": {},
   "outputs": [],
   "source": []
  },
  {
   "cell_type": "code",
   "execution_count": 14,
   "metadata": {},
   "outputs": [
    {
     "name": "stdout",
     "output_type": "stream",
     "text": [
      "AutoML progress: |████████████████████████████████████████████████████████| 100%\n",
      "{'model_execution_time': {'regression': 770.712281703949}}\n"
     ]
    },
    {
     "data": {
      "text/html": [
       "<table>\n",
       "<thead>\n",
       "<tr><th>model_id                                      </th><th style=\"text-align: right;\">  mean_residual_deviance</th><th style=\"text-align: right;\">       rmse</th><th style=\"text-align: right;\">        mse</th><th style=\"text-align: right;\">        mae</th><th style=\"text-align: right;\">   rmsle</th></tr>\n",
       "</thead>\n",
       "<tbody>\n",
       "<tr><td>GBM_1_AutoML_20190412_025147                  </td><td style=\"text-align: right;\">             2.83413e+16</td><td style=\"text-align: right;\">1.68349e+08</td><td style=\"text-align: right;\">2.83413e+16</td><td style=\"text-align: right;\">1.02997e+08</td><td style=\"text-align: right;\">0.336906</td></tr>\n",
       "<tr><td>XGBoost_grid_1_AutoML_20190412_025147_model_1 </td><td style=\"text-align: right;\">             2.84504e+16</td><td style=\"text-align: right;\">1.68672e+08</td><td style=\"text-align: right;\">2.84504e+16</td><td style=\"text-align: right;\">1.00677e+08</td><td style=\"text-align: right;\">0.32952 </td></tr>\n",
       "<tr><td>GBM_1_AutoML_20190412_030307                  </td><td style=\"text-align: right;\">             2.85147e+16</td><td style=\"text-align: right;\">1.68863e+08</td><td style=\"text-align: right;\">2.85147e+16</td><td style=\"text-align: right;\">1.02924e+08</td><td style=\"text-align: right;\">0.338887</td></tr>\n",
       "<tr><td>XGBoost_grid_1_AutoML_20190412_025147_model_9 </td><td style=\"text-align: right;\">             2.92906e+16</td><td style=\"text-align: right;\">1.71145e+08</td><td style=\"text-align: right;\">2.92906e+16</td><td style=\"text-align: right;\">1.01065e+08</td><td style=\"text-align: right;\">0.332222</td></tr>\n",
       "<tr><td>XGBoost_grid_1_AutoML_20190412_030307_model_9 </td><td style=\"text-align: right;\">             2.94858e+16</td><td style=\"text-align: right;\">1.71714e+08</td><td style=\"text-align: right;\">2.94858e+16</td><td style=\"text-align: right;\">1.01579e+08</td><td style=\"text-align: right;\">0.333928</td></tr>\n",
       "<tr><td>XGBoost_grid_1_AutoML_20190412_030307_model_4 </td><td style=\"text-align: right;\">             2.96623e+16</td><td style=\"text-align: right;\">1.72228e+08</td><td style=\"text-align: right;\">2.96623e+16</td><td style=\"text-align: right;\">1.027e+08  </td><td style=\"text-align: right;\">0.339225</td></tr>\n",
       "<tr><td>GBM_grid_1_AutoML_20190412_030307_model_16    </td><td style=\"text-align: right;\">             2.97983e+16</td><td style=\"text-align: right;\">1.72622e+08</td><td style=\"text-align: right;\">2.97983e+16</td><td style=\"text-align: right;\">1.0639e+08 </td><td style=\"text-align: right;\">0.351746</td></tr>\n",
       "<tr><td>XGBoost_grid_1_AutoML_20190412_025147_model_11</td><td style=\"text-align: right;\">             2.99557e+16</td><td style=\"text-align: right;\">1.73077e+08</td><td style=\"text-align: right;\">2.99557e+16</td><td style=\"text-align: right;\">1.0138e+08 </td><td style=\"text-align: right;\">0.333319</td></tr>\n",
       "<tr><td>GBM_grid_1_AutoML_20190412_025147_model_30    </td><td style=\"text-align: right;\">             3.00097e+16</td><td style=\"text-align: right;\">1.73233e+08</td><td style=\"text-align: right;\">3.00097e+16</td><td style=\"text-align: right;\">1.05518e+08</td><td style=\"text-align: right;\">0.34497 </td></tr>\n",
       "<tr><td>XGBoost_1_AutoML_20190412_025147              </td><td style=\"text-align: right;\">             3.00426e+16</td><td style=\"text-align: right;\">1.73328e+08</td><td style=\"text-align: right;\">3.00426e+16</td><td style=\"text-align: right;\">1.02117e+08</td><td style=\"text-align: right;\">0.332696</td></tr>\n",
       "</tbody>\n",
       "</table>"
      ]
     },
     "metadata": {},
     "output_type": "display_data"
    },
    {
     "name": "stdout",
     "output_type": "stream",
     "text": [
      "\n"
     ]
    }
   ],
   "source": [
    "# set auto\n",
    "\n",
    "aml = H2OAutoML(max_runtime_secs=900, exclude_algos = ['DeepLearning'])\n",
    "\n",
    "model_start_time = time.time()\n",
    "  \n",
    "try:\n",
    "  aml.train(x=X,y=y,training_frame=df)  # Change training_frame=train\n",
    "except Exception as e:\n",
    "  logging.critical('aml.train') \n",
    "  h2o.download_all_logs(dirname=logs_path, filename=logfile)      \n",
    "  h2o.cluster().shutdown()   \n",
    "  sys.exit(4)\n",
    "    \n",
    "meta_data={}\n",
    "meta_data['model_execution_time'] = {\"regression\":(time.time() - model_start_time)}\n",
    "print (meta_data)\n",
    "\n",
    "print(aml.leaderboard)"
   ]
  },
  {
   "cell_type": "code",
   "execution_count": 15,
   "metadata": {},
   "outputs": [
    {
     "data": {
      "image/png": "[encoded data removed]",
      "text/plain": [
       "<Figure size 1008x720 with 1 Axes>"
      ]
     },
     "metadata": {
      "needs_background": "light"
     },
     "output_type": "display_data"
    }
   ],
   "source": [
    "best_model = h2o.get_model(aml.leaderboard[2,'model_id'])\n",
    "\n",
    "best_model.varimp_plot()"
   ]
  },
  {
   "cell_type": "code",
   "execution_count": 16,
   "metadata": {},
   "outputs": [
    {
     "name": "stdout",
     "output_type": "stream",
     "text": [
      "{'model_id': {'default': None, 'actual': {'__meta': {'schema_version': 3, 'schema_name': 'ModelKeyV3', 'schema_type': 'Key<Model>'}, 'name': 'GBM_1_AutoML_20190412_030307', 'type': 'Key<Model>', 'URL': '/3/Models/GBM_1_AutoML_20190412_030307'}}, 'training_frame': {'default': None, 'actual': {'__meta': {'schema_version': 3, 'schema_name': 'FrameKeyV3', 'schema_type': 'Key<Frame>'}, 'name': 'automl_training_trainPriceCleaned.hex', 'type': 'Key<Frame>', 'URL': '/3/Frames/automl_training_trainPriceCleaned.hex'}}, 'validation_frame': {'default': None, 'actual': None}, 'nfolds': {'default': 0, 'actual': 5}, 'keep_cross_validation_models': {'default': True, 'actual': False}, 'keep_cross_validation_predictions': {'default': False, 'actual': True}, 'keep_cross_validation_fold_assignment': {'default': False, 'actual': False}, 'score_each_iteration': {'default': False, 'actual': False}, 'score_tree_interval': {'default': 0, 'actual': 5}, 'fold_assignment': {'default': 'AUTO', 'actual': 'Modulo'}, 'fold_column': {'default': None, 'actual': None}, 'response_column': {'default': None, 'actual': {'__meta': {'schema_version': 3, 'schema_name': 'ColSpecifierV3', 'schema_type': 'VecSpecifier'}, 'column_name': 'transaction_real_price', 'is_member_of_frames': None}}, 'ignored_columns': {'default': None, 'actual': []}, 'ignore_const_cols': {'default': True, 'actual': True}, 'offset_column': {'default': None, 'actual': None}, 'weights_column': {'default': None, 'actual': None}, 'balance_classes': {'default': False, 'actual': False}, 'class_sampling_factors': {'default': None, 'actual': None}, 'max_after_balance_size': {'default': 5.0, 'actual': 5.0}, 'max_confusion_matrix_size': {'default': 20, 'actual': 20}, 'max_hit_ratio_k': {'default': 0, 'actual': 0}, 'ntrees': {'default': 50, 'actual': 57}, 'max_depth': {'default': 5, 'actual': 15}, 'min_rows': {'default': 10.0, 'actual': 100.0}, 'nbins': {'default': 20, 'actual': 20}, 'nbins_top_level': {'default': 1024, 'actual': 1024}, 'nbins_cats': {'default': 1024, 'actual': 1024}, 'r2_stopping': {'default': 1.7976931348623157e+308, 'actual': 1.7976931348623157e+308}, 'stopping_rounds': {'default': 0, 'actual': 0}, 'stopping_metric': {'default': 'AUTO', 'actual': 'deviance'}, 'stopping_tolerance': {'default': 0.001, 'actual': 0.014995689358874936}, 'max_runtime_secs': {'default': 0.0, 'actual': 0.0}, 'seed': {'default': -1, 'actual': -2574854464705382925}, 'build_tree_one_node': {'default': False, 'actual': False}, 'learn_rate': {'default': 0.1, 'actual': 0.1}, 'learn_rate_annealing': {'default': 1.0, 'actual': 1.0}, 'distribution': {'default': 'AUTO', 'actual': 'gaussian'}, 'quantile_alpha': {'default': 0.5, 'actual': 0.5}, 'tweedie_power': {'default': 1.5, 'actual': 1.5}, 'huber_alpha': {'default': 0.9, 'actual': 0.9}, 'checkpoint': {'default': None, 'actual': None}, 'sample_rate': {'default': 1.0, 'actual': 0.8}, 'sample_rate_per_class': {'default': None, 'actual': None}, 'col_sample_rate': {'default': 1.0, 'actual': 0.8}, 'col_sample_rate_change_per_level': {'default': 1.0, 'actual': 1.0}, 'col_sample_rate_per_tree': {'default': 1.0, 'actual': 0.8}, 'min_split_improvement': {'default': 1e-05, 'actual': 1e-05}, 'histogram_type': {'default': 'AUTO', 'actual': 'AUTO'}, 'max_abs_leafnode_pred': {'default': 1.7976931348623157e+308, 'actual': 1.7976931348623157e+308}, 'pred_noise_bandwidth': {'default': 0.0, 'actual': 0.0}, 'categorical_encoding': {'default': 'AUTO', 'actual': 'AUTO'}, 'calibrate_model': {'default': False, 'actual': False}, 'calibration_frame': {'default': None, 'actual': None}, 'custom_metric_func': {'default': None, 'actual': None}, 'export_checkpoints_dir': {'default': None, 'actual': None}, 'monotone_constraints': {'default': None, 'actual': None}, 'check_constant_response': {'default': True, 'actual': True}}\n",
      "done\n"
     ]
    }
   ],
   "source": [
    "params = best_model.params\n",
    "print (params)\n",
    "with open('800_data.json', 'w') as f:\n",
    "    json.dump(params, f)\n",
    "print (\"done\")"
   ]
  },
  {
   "cell_type": "code",
   "execution_count": null,
   "metadata": {},
   "outputs": [],
   "source": []
  },
  {
   "cell_type": "code",
   "execution_count": null,
   "metadata": {},
   "outputs": [],
   "source": []
  },
  {
   "cell_type": "code",
   "execution_count": null,
   "metadata": {},
   "outputs": [],
   "source": []
  },
  {
   "cell_type": "code",
   "execution_count": null,
   "metadata": {},
   "outputs": [],
   "source": []
  },
  {
   "cell_type": "code",
   "execution_count": null,
   "metadata": {},
   "outputs": [],
   "source": []
  },
  {
   "cell_type": "code",
   "execution_count": null,
   "metadata": {},
   "outputs": [],
   "source": []
  },
  {
   "cell_type": "code",
   "execution_count": null,
   "metadata": {},
   "outputs": [],
   "source": []
  },
  {
   "cell_type": "code",
   "execution_count": null,
   "metadata": {},
   "outputs": [],
   "source": []
  },
  {
   "cell_type": "code",
   "execution_count": 11,
   "metadata": {},
   "outputs": [
    {
     "name": "stdout",
     "output_type": "stream",
     "text": [
      "AutoML progress: |████████████████████████████████████████████████████████| 100%\n"
     ]
    }
   ],
   "source": [
    "aml = H2OAutoML(max_runtime_secs=700,\n",
    "                exclude_algos = ['DeepLearning'])\n",
    "\n",
    "model_start_time = time.time()\n",
    "  \n",
    "try:\n",
    "  aml.train(x=X,y=y,training_frame=df)  # Change training_frame=train\n",
    "except Exception as e:\n",
    "  logging.critical('aml.train') \n",
    "  h2o.download_all_logs(dirname=logs_path, filename=logfile)      \n",
    "  h2o.cluster().shutdown()   \n",
    "  sys.exit(4)"
   ]
  },
  {
   "cell_type": "code",
   "execution_count": 12,
   "metadata": {},
   "outputs": [
    {
     "data": {
      "text/plain": [
       "{'model_execution_time': {'regression': 647.3190739154816}}"
      ]
     },
     "execution_count": 12,
     "metadata": {},
     "output_type": "execute_result"
    }
   ],
   "source": [
    "meta_data={}\n",
    "meta_data['model_execution_time'] = {\"regression\":(time.time() - model_start_time)}\n",
    "meta_data"
   ]
  },
  {
   "cell_type": "code",
   "execution_count": 13,
   "metadata": {},
   "outputs": [
    {
     "data": {
      "text/html": [
       "<table>\n",
       "<thead>\n",
       "<tr><th>model_id                                      </th><th style=\"text-align: right;\">  mean_residual_deviance</th><th style=\"text-align: right;\">       rmse</th><th style=\"text-align: right;\">        mse</th><th style=\"text-align: right;\">        mae</th><th style=\"text-align: right;\">   rmsle</th></tr>\n",
       "</thead>\n",
       "<tbody>\n",
       "<tr><td>GBM_1_AutoML_20190412_025147                  </td><td style=\"text-align: right;\">             2.83413e+16</td><td style=\"text-align: right;\">1.68349e+08</td><td style=\"text-align: right;\">2.83413e+16</td><td style=\"text-align: right;\">1.02997e+08</td><td style=\"text-align: right;\">0.336906</td></tr>\n",
       "<tr><td>XGBoost_grid_1_AutoML_20190412_025147_model_1 </td><td style=\"text-align: right;\">             2.84504e+16</td><td style=\"text-align: right;\">1.68672e+08</td><td style=\"text-align: right;\">2.84504e+16</td><td style=\"text-align: right;\">1.00677e+08</td><td style=\"text-align: right;\">0.32952 </td></tr>\n",
       "<tr><td>XGBoost_grid_1_AutoML_20190412_025147_model_9 </td><td style=\"text-align: right;\">             2.92906e+16</td><td style=\"text-align: right;\">1.71145e+08</td><td style=\"text-align: right;\">2.92906e+16</td><td style=\"text-align: right;\">1.01065e+08</td><td style=\"text-align: right;\">0.332222</td></tr>\n",
       "<tr><td>XGBoost_grid_1_AutoML_20190412_025147_model_11</td><td style=\"text-align: right;\">             2.99557e+16</td><td style=\"text-align: right;\">1.73077e+08</td><td style=\"text-align: right;\">2.99557e+16</td><td style=\"text-align: right;\">1.0138e+08 </td><td style=\"text-align: right;\">0.333319</td></tr>\n",
       "<tr><td>GBM_grid_1_AutoML_20190412_025147_model_30    </td><td style=\"text-align: right;\">             3.00097e+16</td><td style=\"text-align: right;\">1.73233e+08</td><td style=\"text-align: right;\">3.00097e+16</td><td style=\"text-align: right;\">1.05518e+08</td><td style=\"text-align: right;\">0.34497 </td></tr>\n",
       "<tr><td>XGBoost_1_AutoML_20190412_025147              </td><td style=\"text-align: right;\">             3.00426e+16</td><td style=\"text-align: right;\">1.73328e+08</td><td style=\"text-align: right;\">3.00426e+16</td><td style=\"text-align: right;\">1.02117e+08</td><td style=\"text-align: right;\">0.332696</td></tr>\n",
       "<tr><td>XGBoost_grid_1_AutoML_20190412_025147_model_7 </td><td style=\"text-align: right;\">             3.00548e+16</td><td style=\"text-align: right;\">1.73363e+08</td><td style=\"text-align: right;\">3.00548e+16</td><td style=\"text-align: right;\">1.03362e+08</td><td style=\"text-align: right;\">0.338225</td></tr>\n",
       "<tr><td>XGBoost_grid_1_AutoML_20190412_025147_model_5 </td><td style=\"text-align: right;\">             3.024e+16  </td><td style=\"text-align: right;\">1.73896e+08</td><td style=\"text-align: right;\">3.024e+16  </td><td style=\"text-align: right;\">1.021e+08  </td><td style=\"text-align: right;\">0.337123</td></tr>\n",
       "<tr><td>GBM_grid_1_AutoML_20190412_025147_model_7     </td><td style=\"text-align: right;\">             3.04094e+16</td><td style=\"text-align: right;\">1.74383e+08</td><td style=\"text-align: right;\">3.04094e+16</td><td style=\"text-align: right;\">1.03236e+08</td><td style=\"text-align: right;\">0.342389</td></tr>\n",
       "<tr><td>XGBoost_grid_1_AutoML_20190412_025147_model_13</td><td style=\"text-align: right;\">             3.05504e+16</td><td style=\"text-align: right;\">1.74787e+08</td><td style=\"text-align: right;\">3.05504e+16</td><td style=\"text-align: right;\">1.02342e+08</td><td style=\"text-align: right;\">0.333941</td></tr>\n",
       "</tbody>\n",
       "</table>"
      ]
     },
     "metadata": {},
     "output_type": "display_data"
    },
    {
     "name": "stdout",
     "output_type": "stream",
     "text": [
      "\n"
     ]
    }
   ],
   "source": [
    "print(aml.leaderboard)"
   ]
  },
  {
   "cell_type": "code",
   "execution_count": 18,
   "metadata": {},
   "outputs": [],
   "source": [
    "best_model = h2o.get_model(aml.leaderboard[2,'model_id'])"
   ]
  },
  {
   "cell_type": "code",
   "execution_count": 19,
   "metadata": {},
   "outputs": [
    {
     "data": {
      "text/plain": [
       "'xgboost'"
      ]
     },
     "execution_count": 19,
     "metadata": {},
     "output_type": "execute_result"
    }
   ],
   "source": [
    "best_model.algo"
   ]
  },
  {
   "cell_type": "code",
   "execution_count": 20,
   "metadata": {},
   "outputs": [],
   "source": []
  },
  {
   "cell_type": "code",
   "execution_count": 21,
   "metadata": {},
   "outputs": [
    {
     "data": {
      "image/png": "[encoded data removed]",
      "text/plain": [
       "<Figure size 1008x720 with 1 Axes>"
      ]
     },
     "metadata": {
      "needs_background": "light"
     },
     "output_type": "display_data"
    }
   ],
   "source": [
    "best_model.varimp_plot()"
   ]
  },
  {
   "cell_type": "code",
   "execution_count": 26,
   "metadata": {
    "scrolled": false
   },
   "outputs": [
    {
     "data": {
      "text/plain": [
       "dict_keys(['model_id', 'training_frame', 'validation_frame', 'nfolds', 'keep_cross_validation_models', 'keep_cross_validation_predictions', 'keep_cross_validation_fold_assignment', 'score_each_iteration', 'fold_assignment', 'fold_column', 'response_column', 'ignored_columns', 'ignore_const_cols', 'offset_column', 'weights_column', 'stopping_rounds', 'stopping_metric', 'stopping_tolerance', 'max_runtime_secs', 'seed', 'distribution', 'tweedie_power', 'categorical_encoding', 'quiet_mode', 'export_checkpoints_dir', 'ntrees', 'max_depth', 'min_rows', 'min_child_weight', 'learn_rate', 'eta', 'sample_rate', 'subsample', 'col_sample_rate', 'colsample_bylevel', 'col_sample_rate_per_tree', 'colsample_bytree', 'max_abs_leafnode_pred', 'max_delta_step', 'monotone_constraints', 'score_tree_interval', 'min_split_improvement', 'gamma', 'nthread', 'max_bins', 'max_leaves', 'min_sum_hessian_in_leaf', 'min_data_in_leaf', 'sample_type', 'normalize_type', 'rate_drop', 'one_drop', 'skip_drop', 'tree_method', 'grow_policy', 'booster', 'reg_lambda', 'reg_alpha', 'dmatrix_type', 'backend', 'gpu_id'])"
      ]
     },
     "execution_count": 26,
     "metadata": {},
     "output_type": "execute_result"
    }
   ],
   "source": [
    "keys = best_model.params.keys()\n",
    "keys"
   ]
  },
  {
   "cell_type": "code",
   "execution_count": 37,
   "metadata": {
    "scrolled": true
   },
   "outputs": [
    {
     "data": {
      "text/plain": [
       "{'model_id': {'default': None,\n",
       "  'actual': {'__meta': {'schema_version': 3,\n",
       "    'schema_name': 'ModelKeyV3',\n",
       "    'schema_type': 'Key<Model>'},\n",
       "   'name': 'XGBoost_grid_1_AutoML_20190412_012604_model_2',\n",
       "   'type': 'Key<Model>',\n",
       "   'URL': '/3/Models/XGBoost_grid_1_AutoML_20190412_012604_model_2'}},\n",
       " 'training_frame': {'default': None,\n",
       "  'actual': {'__meta': {'schema_version': 3,\n",
       "    'schema_name': 'FrameKeyV3',\n",
       "    'schema_type': 'Key<Frame>'},\n",
       "   'name': 'automl_training_trainPriceCleaned.hex',\n",
       "   'type': 'Key<Frame>',\n",
       "   'URL': '/3/Frames/automl_training_trainPriceCleaned.hex'}},\n",
       " 'validation_frame': {'default': None, 'actual': None},\n",
       " 'nfolds': {'default': 0, 'actual': 5},\n",
       " 'keep_cross_validation_models': {'default': True, 'actual': False},\n",
       " 'keep_cross_validation_predictions': {'default': False, 'actual': True},\n",
       " 'keep_cross_validation_fold_assignment': {'default': False, 'actual': False},\n",
       " 'score_each_iteration': {'default': False, 'actual': False},\n",
       " 'fold_assignment': {'default': 'AUTO', 'actual': 'Modulo'},\n",
       " 'fold_column': {'default': None, 'actual': None},\n",
       " 'response_column': {'default': None,\n",
       "  'actual': {'__meta': {'schema_version': 3,\n",
       "    'schema_name': 'ColSpecifierV3',\n",
       "    'schema_type': 'VecSpecifier'},\n",
       "   'column_name': 'transaction_real_price',\n",
       "   'is_member_of_frames': None}},\n",
       " 'ignored_columns': {'default': None, 'actual': []},\n",
       " 'ignore_const_cols': {'default': True, 'actual': True},\n",
       " 'offset_column': {'default': None, 'actual': None},\n",
       " 'weights_column': {'default': None, 'actual': None},\n",
       " 'stopping_rounds': {'default': 0, 'actual': 0},\n",
       " 'stopping_metric': {'default': 'AUTO', 'actual': 'deviance'},\n",
       " 'stopping_tolerance': {'default': 0.001, 'actual': 0.014995689358874936},\n",
       " 'max_runtime_secs': {'default': 0.0, 'actual': 0.0},\n",
       " 'seed': {'default': -1, 'actual': -247671621043173404},\n",
       " 'distribution': {'default': 'AUTO', 'actual': 'AUTO'},\n",
       " 'tweedie_power': {'default': 1.5, 'actual': 1.5},\n",
       " 'categorical_encoding': {'default': 'AUTO', 'actual': 'AUTO'},\n",
       " 'quiet_mode': {'default': True, 'actual': True},\n",
       " 'export_checkpoints_dir': {'default': None, 'actual': None},\n",
       " 'ntrees': {'default': 50, 'actual': 133},\n",
       " 'max_depth': {'default': 6, 'actual': 10},\n",
       " 'min_rows': {'default': 1.0, 'actual': 0.1},\n",
       " 'min_child_weight': {'default': 1.0, 'actual': 1.0},\n",
       " 'learn_rate': {'default': 0.3, 'actual': 0.05},\n",
       " 'eta': {'default': 0.3, 'actual': 0.3},\n",
       " 'sample_rate': {'default': 1.0, 'actual': 0.6},\n",
       " 'subsample': {'default': 1.0, 'actual': 1.0},\n",
       " 'col_sample_rate': {'default': 1.0, 'actual': 1.0},\n",
       " 'colsample_bylevel': {'default': 1.0, 'actual': 1.0},\n",
       " 'col_sample_rate_per_tree': {'default': 1.0, 'actual': 1.0},\n",
       " 'colsample_bytree': {'default': 1.0, 'actual': 1.0},\n",
       " 'max_abs_leafnode_pred': {'default': 0.0, 'actual': 0.0},\n",
       " 'max_delta_step': {'default': 0.0, 'actual': 0.0},\n",
       " 'monotone_constraints': {'default': None, 'actual': None},\n",
       " 'score_tree_interval': {'default': 0, 'actual': 5},\n",
       " 'min_split_improvement': {'default': 0.0, 'actual': 0.0},\n",
       " 'gamma': {'default': 0.0, 'actual': 0.0},\n",
       " 'nthread': {'default': -1, 'actual': -1},\n",
       " 'max_bins': {'default': 256, 'actual': 256},\n",
       " 'max_leaves': {'default': 0, 'actual': 0},\n",
       " 'min_sum_hessian_in_leaf': {'default': 100.0, 'actual': 100.0},\n",
       " 'min_data_in_leaf': {'default': 0.0, 'actual': 0.0},\n",
       " 'sample_type': {'default': 'uniform', 'actual': 'uniform'},\n",
       " 'normalize_type': {'default': 'tree', 'actual': 'tree'},\n",
       " 'rate_drop': {'default': 0.0, 'actual': 0.0},\n",
       " 'one_drop': {'default': False, 'actual': False},\n",
       " 'skip_drop': {'default': 0.0, 'actual': 0.0},\n",
       " 'tree_method': {'default': 'auto', 'actual': 'auto'},\n",
       " 'grow_policy': {'default': 'depthwise', 'actual': 'depthwise'},\n",
       " 'booster': {'default': 'gbtree', 'actual': 'gbtree'},\n",
       " 'reg_lambda': {'default': 1.0, 'actual': 1.0},\n",
       " 'reg_alpha': {'default': 0.0, 'actual': 1.0},\n",
       " 'dmatrix_type': {'default': 'auto', 'actual': 'auto'},\n",
       " 'backend': {'default': 'auto', 'actual': 'auto'},\n",
       " 'gpu_id': {'default': 0, 'actual': 0}}"
      ]
     },
     "execution_count": 37,
     "metadata": {},
     "output_type": "execute_result"
    }
   ],
   "source": [
    "params = best_model.params\n",
    "params"
   ]
  },
  {
   "cell_type": "code",
   "execution_count": 38,
   "metadata": {},
   "outputs": [],
   "source": [
    "with open('data.json', 'w') as f:\n",
    "    json.dump(params, f)"
   ]
  },
  {
   "cell_type": "code",
   "execution_count": null,
   "metadata": {},
   "outputs": [],
   "source": []
  },
  {
   "cell_type": "code",
   "execution_count": null,
   "metadata": {},
   "outputs": [],
   "source": []
  },
  {
   "cell_type": "code",
   "execution_count": null,
   "metadata": {},
   "outputs": [],
   "source": []
  },
  {
   "cell_type": "code",
   "execution_count": 22,
   "metadata": {},
   "outputs": [],
   "source": [
    "df[y] = df[y].asfactor()"
   ]
  },
  {
   "cell_type": "code",
   "execution_count": 23,
   "metadata": {
    "scrolled": false
   },
   "outputs": [
    {
     "name": "stdout",
     "output_type": "stream",
     "text": [
      "Rows:4447\n",
      "Cols:19\n",
      "\n",
      "\n"
     ]
    },
    {
     "data": {
      "text/html": [
       "<table>\n",
       "<thead>\n",
       "<tr><th>       </th><th>transaction_real_price  </th><th>city              </th><th>exclusive_use_area  </th><th>floor             </th><th>total_parking_capacity_in_site  </th><th>total_household_count_in_sites  </th><th>apartment_building_count_in_sites  </th><th>supply_area       </th><th>total_household_count_of_area_type  </th><th>room_count        </th><th>bathroom_count    </th><th>heat_fuel_cogeneration  </th><th>heat_fuel_gas     </th><th>heat_type_central  </th><th>heat_type_district  </th><th>heat_type_individual  </th><th>front_door_structure_corridor  </th><th>front_door_structure_mixed  </th><th>front_door_structure_stairway  </th></tr>\n",
       "</thead>\n",
       "<tbody>\n",
       "<tr><td>type   </td><td>enum                    </td><td>int               </td><td>real                </td><td>int               </td><td>int                             </td><td>int                             </td><td>int                                </td><td>real              </td><td>int                                 </td><td>int               </td><td>int               </td><td>int                     </td><td>int               </td><td>int                </td><td>int                 </td><td>int                   </td><td>int                            </td><td>int                         </td><td>int                            </td></tr>\n",
       "<tr><td>mins   </td><td>                        </td><td>0.0               </td><td>24.2475             </td><td>1.0               </td><td>0.0                             </td><td>100.0                           </td><td>1.0                                </td><td>33.59             </td><td>0.0                                 </td><td>0.0               </td><td>0.0               </td><td>0.0                     </td><td>0.0               </td><td>0.0                </td><td>0.0                 </td><td>0.0                   </td><td>0.0                            </td><td>0.0                         </td><td>0.0                            </td></tr>\n",
       "<tr><td>mean   </td><td>                        </td><td>0.633235889363616 </td><td>80.43324200584667   </td><td>10.161457162131775</td><td>1320.9788621542616              </td><td>1191.7533168428156              </td><td>12.970991679784124                 </td><td>103.30118956599955</td><td>292.6532493816056                   </td><td>2.9759388351697784</td><td>1.597031706768608 </td><td>0.2397121655048347      </td><td>0.7602878344951652</td><td>0.08162806386327862</td><td>0.24061164830222623 </td><td>0.6777602878344952    </td><td>0.259051045648752              </td><td>0.016865302451090622        </td><td>0.7240836519001574             </td></tr>\n",
       "<tr><td>maxs   </td><td>                        </td><td>1.0               </td><td>266.8181            </td><td>66.0              </td><td>9766.0                          </td><td>6864.0                          </td><td>124.0                              </td><td>343.89            </td><td>2960.0                              </td><td>6.0               </td><td>4.0               </td><td>1.0                     </td><td>1.0               </td><td>1.0                </td><td>1.0                 </td><td>1.0                   </td><td>1.0                            </td><td>1.0                         </td><td>1.0                            </td></tr>\n",
       "<tr><td>sigma  </td><td>                        </td><td>0.4819755547191596</td><td>28.772107257421734  </td><td>7.028892141141552 </td><td>1448.080749614069               </td><td>1135.12591706417                </td><td>14.331711124397955                 </td><td>33.90022505192435 </td><td>329.45238690672653                  </td><td>0.6674127834544982</td><td>0.5081169355394869</td><td>0.4269557765991174      </td><td>0.4269557765991174</td><td>0.27382801949303126</td><td>0.427502959168945   </td><td>0.46738678111809034   </td><td>0.43816295324580384            </td><td>0.12878118423684082         </td><td>0.4470251147192063             </td></tr>\n",
       "<tr><td>zeros  </td><td>                        </td><td>1631              </td><td>0                   </td><td>0                 </td><td>3                               </td><td>0                               </td><td>0                                  </td><td>0                 </td><td>54                                  </td><td>8                 </td><td>8                 </td><td>3381                    </td><td>1066              </td><td>4084               </td><td>3377                </td><td>1433                  </td><td>3295                           </td><td>4372                        </td><td>1227                           </td></tr>\n",
       "<tr><td>missing</td><td>0                       </td><td>0                 </td><td>0                   </td><td>0                 </td><td>0                               </td><td>0                               </td><td>0                                  </td><td>0                 </td><td>0                                   </td><td>0                 </td><td>0                 </td><td>0                       </td><td>0                 </td><td>0                  </td><td>0                   </td><td>0                     </td><td>0                              </td><td>0                           </td><td>0                              </td></tr>\n",
       "<tr><td>0      </td><td>334000000               </td><td>1.0               </td><td>84.94               </td><td>12.0              </td><td>3481.0                          </td><td>2678.0                          </td><td>25.0                               </td><td>102.02            </td><td>2254.0                              </td><td>3.0               </td><td>2.0               </td><td>0.0                     </td><td>1.0               </td><td>0.0                </td><td>0.0                 </td><td>1.0                   </td><td>0.0                            </td><td>0.0                         </td><td>1.0                            </td></tr>\n",
       "<tr><td>1      </td><td>400000000               </td><td>1.0               </td><td>114.88              </td><td>17.0              </td><td>1665.0                          </td><td>2017.0                          </td><td>22.0                               </td><td>137.59            </td><td>325.0                               </td><td>4.0               </td><td>2.0               </td><td>0.0                     </td><td>1.0               </td><td>0.0                </td><td>0.0                 </td><td>1.0                   </td><td>0.0                            </td><td>0.0                         </td><td>1.0                            </td></tr>\n",
       "<tr><td>2      </td><td>290000000               </td><td>0.0               </td><td>84.96               </td><td>7.0               </td><td>1761.0                          </td><td>1326.0                          </td><td>9.0                                </td><td>109.77            </td><td>209.0                               </td><td>3.0               </td><td>2.0               </td><td>0.0                     </td><td>1.0               </td><td>0.0                </td><td>0.0                 </td><td>1.0                   </td><td>0.0                            </td><td>0.0                         </td><td>1.0                            </td></tr>\n",
       "<tr><td>3      </td><td>156500000               </td><td>0.0               </td><td>85.0                </td><td>3.0               </td><td>2381.0                          </td><td>1391.0                          </td><td>14.0                               </td><td>107.24            </td><td>138.0                               </td><td>3.0               </td><td>2.0               </td><td>0.0                     </td><td>1.0               </td><td>0.0                </td><td>0.0                 </td><td>1.0                   </td><td>0.0                            </td><td>0.0                         </td><td>1.0                            </td></tr>\n",
       "<tr><td>4      </td><td>380000000               </td><td>0.0               </td><td>140.293             </td><td>14.0              </td><td>664.0                           </td><td>388.0                           </td><td>5.0                                </td><td>166.53            </td><td>130.0                               </td><td>5.0               </td><td>2.0               </td><td>0.0                     </td><td>1.0               </td><td>0.0                </td><td>0.0                 </td><td>1.0                   </td><td>0.0                            </td><td>0.0                         </td><td>1.0                            </td></tr>\n",
       "<tr><td>5      </td><td>87000000                </td><td>0.0               </td><td>60.0                </td><td>6.0               </td><td>200.0                           </td><td>124.0                           </td><td>2.0                                </td><td>85.95             </td><td>64.0                                </td><td>3.0               </td><td>1.0               </td><td>1.0                     </td><td>0.0               </td><td>0.0                </td><td>1.0                 </td><td>0.0                   </td><td>1.0                            </td><td>0.0                         </td><td>0.0                            </td></tr>\n",
       "<tr><td>6      </td><td>1530000000              </td><td>1.0               </td><td>219.82              </td><td>35.0              </td><td>1081.0                          </td><td>445.0                           </td><td>2.0                                </td><td>279.31            </td><td>4.0                                 </td><td>3.0               </td><td>4.0               </td><td>1.0                     </td><td>0.0               </td><td>0.0                </td><td>0.0                 </td><td>1.0                   </td><td>0.0                            </td><td>0.0                         </td><td>1.0                            </td></tr>\n",
       "<tr><td>7      </td><td>115000000               </td><td>0.0               </td><td>49.42               </td><td>11.0              </td><td>340.0                           </td><td>720.0                           </td><td>5.0                                </td><td>69.02             </td><td>720.0                               </td><td>2.0               </td><td>1.0               </td><td>0.0                     </td><td>1.0               </td><td>0.0                </td><td>0.0                 </td><td>1.0                   </td><td>1.0                            </td><td>0.0                         </td><td>0.0                            </td></tr>\n",
       "<tr><td>8      </td><td>398000000               </td><td>1.0               </td><td>59.97               </td><td>2.0               </td><td>302.0                           </td><td>636.0                           </td><td>9.0                                </td><td>81.55             </td><td>323.0                               </td><td>2.0               </td><td>1.0               </td><td>0.0                     </td><td>1.0               </td><td>0.0                </td><td>0.0                 </td><td>1.0                   </td><td>1.0                            </td><td>0.0                         </td><td>0.0                            </td></tr>\n",
       "<tr><td>9      </td><td>94500000                </td><td>0.0               </td><td>45.5                </td><td>4.0               </td><td>230.0                           </td><td>996.0                           </td><td>7.0                                </td><td>63.17             </td><td>996.0                               </td><td>3.0               </td><td>1.0               </td><td>0.0                     </td><td>1.0               </td><td>0.0                </td><td>0.0                 </td><td>1.0                   </td><td>1.0                            </td><td>0.0                         </td><td>0.0                            </td></tr>\n",
       "</tbody>\n",
       "</table>"
      ]
     },
     "metadata": {},
     "output_type": "display_data"
    }
   ],
   "source": [
    "df.describe()"
   ]
  },
  {
   "cell_type": "code",
   "execution_count": null,
   "metadata": {},
   "outputs": [],
   "source": []
  },
  {
   "cell_type": "code",
   "execution_count": null,
   "metadata": {},
   "outputs": [],
   "source": []
  },
  {
   "cell_type": "code",
   "execution_count": null,
   "metadata": {},
   "outputs": [],
   "source": []
  },
  {
   "cell_type": "code",
   "execution_count": null,
   "metadata": {},
   "outputs": [],
   "source": []
  },
  {
   "cell_type": "code",
   "execution_count": null,
   "metadata": {},
   "outputs": [],
   "source": []
  },
  {
   "cell_type": "code",
   "execution_count": null,
   "metadata": {},
   "outputs": [],
   "source": []
  },
  {
   "cell_type": "code",
   "execution_count": null,
   "metadata": {},
   "outputs": [],
   "source": []
  },
  {
   "cell_type": "code",
   "execution_count": null,
   "metadata": {},
   "outputs": [],
   "source": []
  },
  {
   "cell_type": "code",
   "execution_count": null,
   "metadata": {},
   "outputs": [],
   "source": []
  },
  {
   "cell_type": "code",
   "execution_count": null,
   "metadata": {},
   "outputs": [],
   "source": []
  },
  {
   "cell_type": "code",
   "execution_count": null,
   "metadata": {},
   "outputs": [],
   "source": []
  },
  {
   "cell_type": "code",
   "execution_count": null,
   "metadata": {},
   "outputs": [],
   "source": []
  },
  {
   "cell_type": "code",
   "execution_count": 56,
   "metadata": {},
   "outputs": [
    {
     "name": "stdout",
     "output_type": "stream",
     "text": [
      "AutoML progress: |████████████████████████████████████████████████████████| 100%\n"
     ]
    }
   ],
   "source": [
    "aml_1000 = H2OAutoML(max_runtime_secs=333,project_name = \"project\") # init automl, run for 300 seconds\n",
    "aml_1000.train(x=X,  \n",
    "           y=y,\n",
    "           training_frame=df)"
   ]
  },
  {
   "cell_type": "code",
   "execution_count": 57,
   "metadata": {},
   "outputs": [
    {
     "data": {
      "text/html": [
       "<table>\n",
       "<thead>\n",
       "<tr><th>model_id                                 </th><th style=\"text-align: right;\">  mean_per_class_error</th><th style=\"text-align: right;\">  logloss</th><th style=\"text-align: right;\">  rmse</th><th style=\"text-align: right;\">  mse</th></tr>\n",
       "</thead>\n",
       "<tbody>\n",
       "<tr><td>GLM_grid_1_AutoML_20190412_011235_model_1</td><td style=\"text-align: right;\">                   nan</td><td style=\"text-align: right;\">      nan</td><td style=\"text-align: right;\">   nan</td><td style=\"text-align: right;\">  nan</td></tr>\n",
       "<tr><td>GLM_grid_1_AutoML_20190412_005611_model_1</td><td style=\"text-align: right;\">                   nan</td><td style=\"text-align: right;\">      nan</td><td style=\"text-align: right;\">   nan</td><td style=\"text-align: right;\">  nan</td></tr>\n",
       "</tbody>\n",
       "</table>"
      ]
     },
     "metadata": {},
     "output_type": "display_data"
    },
    {
     "data": {
      "text/plain": []
     },
     "execution_count": 57,
     "metadata": {},
     "output_type": "execute_result"
    }
   ],
   "source": [
    "leaderboard_1000 = aml_1000.leaderboard\n",
    "leaderboard_1000.head(50)"
   ]
  },
  {
   "cell_type": "code",
   "execution_count": null,
   "metadata": {},
   "outputs": [],
   "source": []
  },
  {
   "cell_type": "code",
   "execution_count": null,
   "metadata": {},
   "outputs": [],
   "source": []
  },
  {
   "cell_type": "code",
   "execution_count": 58,
   "metadata": {},
   "outputs": [],
   "source": [
    "# Set up AutoML\n",
    "\n",
    "aml = H2OAutoML(max_runtime_secs=400,exclude_algos = ['DeepLearning'])"
   ]
  },
  {
   "cell_type": "code",
   "execution_count": 59,
   "metadata": {},
   "outputs": [
    {
     "name": "stdout",
     "output_type": "stream",
     "text": [
      "AutoML progress: |████████████████████████████████████████████████████████| 100%\n"
     ]
    }
   ],
   "source": [
    "model_start_time = time.time()\n",
    "  \n",
    "try:\n",
    "  aml.train(x=X,y=y,training_frame=df)  # Change training_frame=train\n",
    "except Exception as e:\n",
    "  logging.critical('aml.train') \n",
    "  h2o.download_all_logs(dirname=logs_path, filename=logfile)      \n",
    "  h2o.cluster().shutdown()   \n",
    "  sys.exit(4)"
   ]
  },
  {
   "cell_type": "code",
   "execution_count": 60,
   "metadata": {},
   "outputs": [],
   "source": [
    "meta_data={}\n",
    "meta_data['model_execution_time'] = {\"regression\":(time.time() - model_start_time)}"
   ]
  },
  {
   "cell_type": "code",
   "execution_count": 61,
   "metadata": {},
   "outputs": [
    {
     "data": {
      "text/plain": [
       "{'model_execution_time': {'regression': 354.5295760631561}}"
      ]
     },
     "execution_count": 61,
     "metadata": {},
     "output_type": "execute_result"
    }
   ],
   "source": [
    "meta_data"
   ]
  },
  {
   "cell_type": "code",
   "execution_count": 62,
   "metadata": {},
   "outputs": [
    {
     "data": {
      "text/html": [
       "<table>\n",
       "<thead>\n",
       "<tr><th>model_id                                 </th><th style=\"text-align: right;\">  mean_per_class_error</th><th style=\"text-align: right;\">  logloss</th><th style=\"text-align: right;\">  rmse</th><th style=\"text-align: right;\">  mse</th></tr>\n",
       "</thead>\n",
       "<tbody>\n",
       "<tr><td>GLM_grid_1_AutoML_20190411_180444_model_1</td><td style=\"text-align: right;\">                   nan</td><td style=\"text-align: right;\">      nan</td><td style=\"text-align: right;\">   nan</td><td style=\"text-align: right;\">  nan</td></tr>\n",
       "<tr><td>GLM_grid_1_AutoML_20190411_203300_model_1</td><td style=\"text-align: right;\">                   nan</td><td style=\"text-align: right;\">      nan</td><td style=\"text-align: right;\">   nan</td><td style=\"text-align: right;\">  nan</td></tr>\n",
       "<tr><td>GLM_grid_1_AutoML_20190411_211049_model_1</td><td style=\"text-align: right;\">                   nan</td><td style=\"text-align: right;\">      nan</td><td style=\"text-align: right;\">   nan</td><td style=\"text-align: right;\">  nan</td></tr>\n",
       "<tr><td>GLM_grid_1_AutoML_20190412_004249_model_1</td><td style=\"text-align: right;\">                   nan</td><td style=\"text-align: right;\">      nan</td><td style=\"text-align: right;\">   nan</td><td style=\"text-align: right;\">  nan</td></tr>\n",
       "<tr><td>GLM_grid_1_AutoML_20190412_011844_model_1</td><td style=\"text-align: right;\">                   nan</td><td style=\"text-align: right;\">      nan</td><td style=\"text-align: right;\">   nan</td><td style=\"text-align: right;\">  nan</td></tr>\n",
       "<tr><td>GLM_grid_1_AutoML_20190411_192454_model_1</td><td style=\"text-align: right;\">                   nan</td><td style=\"text-align: right;\">      nan</td><td style=\"text-align: right;\">   nan</td><td style=\"text-align: right;\">  nan</td></tr>\n",
       "</tbody>\n",
       "</table>"
      ]
     },
     "metadata": {},
     "output_type": "display_data"
    },
    {
     "name": "stdout",
     "output_type": "stream",
     "text": [
      "\n"
     ]
    }
   ],
   "source": [
    "print(aml.leaderboard)"
   ]
  },
  {
   "cell_type": "code",
   "execution_count": null,
   "metadata": {},
   "outputs": [],
   "source": []
  },
  {
   "cell_type": "code",
   "execution_count": null,
   "metadata": {},
   "outputs": [],
   "source": []
  },
  {
   "cell_type": "code",
   "execution_count": null,
   "metadata": {},
   "outputs": [],
   "source": []
  },
  {
   "cell_type": "code",
   "execution_count": null,
   "metadata": {},
   "outputs": [],
   "source": []
  },
  {
   "cell_type": "code",
   "execution_count": null,
   "metadata": {},
   "outputs": [],
   "source": []
  },
  {
   "cell_type": "code",
   "execution_count": 21,
   "metadata": {},
   "outputs": [],
   "source": [
    "# Set up AutoML\n",
    "aml = H2OAutoML(max_runtime_secs=run_time)"
   ]
  },
  {
   "cell_type": "code",
   "execution_count": 22,
   "metadata": {},
   "outputs": [
    {
     "name": "stdout",
     "output_type": "stream",
     "text": [
      "AutoML progress: |████████████████████████████████████████████████████████| 100%\n"
     ]
    }
   ],
   "source": [
    "model_start_time = time.time()\n",
    "  \n",
    "try:\n",
    "    aml.train(x=X,y=y,training_frame=df)  # Change training_frame=train\n",
    "except Exception as e:\n",
    "    logging.critical('aml.train') \n",
    "    h2o.download_all_logs(dirname=logs_path, filename=logfile)      \n",
    "    h2o.cluster().shutdown()   \n",
    "    sys.exit(4)"
   ]
  },
  {
   "cell_type": "code",
   "execution_count": 26,
   "metadata": {},
   "outputs": [],
   "source": [
    "d=meta_data['model_execution_time']\n",
    "d['classification']=(time.time() - model_start_time)\n",
    "meta_data['model_execution_time'] = d"
   ]
  },
  {
   "cell_type": "code",
   "execution_count": 27,
   "metadata": {},
   "outputs": [
    {
     "data": {
      "text/plain": [
       "{'model_execution_time': {'regression': 303.90435099601746,\n",
       "  'classification': 870.9414427280426}}"
      ]
     },
     "execution_count": 27,
     "metadata": {},
     "output_type": "execute_result"
    }
   ],
   "source": [
    "meta_data"
   ]
  },
  {
   "cell_type": "code",
   "execution_count": 28,
   "metadata": {
    "scrolled": true
   },
   "outputs": [
    {
     "data": {
      "text/html": [
       "<table>\n",
       "<thead>\n",
       "<tr><th>model_id                                 </th><th style=\"text-align: right;\">  mean_per_class_error</th><th style=\"text-align: right;\">  logloss</th><th style=\"text-align: right;\">  rmse</th><th style=\"text-align: right;\">  mse</th></tr>\n",
       "</thead>\n",
       "<tbody>\n",
       "<tr><td>GLM_grid_1_AutoML_20190411_180444_model_1</td><td style=\"text-align: right;\">                   nan</td><td style=\"text-align: right;\">      nan</td><td style=\"text-align: right;\">   nan</td><td style=\"text-align: right;\">  nan</td></tr>\n",
       "</tbody>\n",
       "</table>"
      ]
     },
     "metadata": {},
     "output_type": "display_data"
    },
    {
     "name": "stdout",
     "output_type": "stream",
     "text": [
      "\n"
     ]
    }
   ],
   "source": [
    "print(aml.leaderboard)"
   ]
  },
  {
   "cell_type": "code",
   "execution_count": 41,
   "metadata": {},
   "outputs": [],
   "source": [
    "target='transaction_real_price'\n",
    "min_mem_size=6\n",
    "run_time=333"
   ]
  },
  {
   "cell_type": "code",
   "execution_count": 42,
   "metadata": {},
   "outputs": [],
   "source": [
    "# Set up AutoML\n",
    "\n",
    "aml = H2OAutoML(max_runtime_secs=run_time,exclude_algos = ['DeepLearning'])"
   ]
  },
  {
   "cell_type": "code",
   "execution_count": 43,
   "metadata": {},
   "outputs": [
    {
     "name": "stdout",
     "output_type": "stream",
     "text": [
      "AutoML progress: |████████████████████████████████████████████████████████| 100%\n"
     ]
    }
   ],
   "source": [
    "model_start_time = time.time()\n",
    "  \n",
    "try:\n",
    "  aml.train(x=X,y=y,training_frame=df)  # Change training_frame=train\n",
    "except Exception as e:\n",
    "  logging.critical('aml.train') \n",
    "  h2o.download_all_logs(dirname=logs_path, filename=logfile)      \n",
    "  h2o.cluster().shutdown()   \n",
    "  sys.exit(4)"
   ]
  },
  {
   "cell_type": "code",
   "execution_count": 44,
   "metadata": {},
   "outputs": [],
   "source": [
    "meta_data={}\n",
    "meta_data['model_execution_time'] = {\"regression\":(time.time() - model_start_time)}"
   ]
  },
  {
   "cell_type": "code",
   "execution_count": 45,
   "metadata": {},
   "outputs": [
    {
     "data": {
      "text/plain": [
       "{'model_execution_time': {'regression': 298.1435778141022}}"
      ]
     },
     "execution_count": 45,
     "metadata": {},
     "output_type": "execute_result"
    }
   ],
   "source": [
    "meta_data"
   ]
  },
  {
   "cell_type": "code",
   "execution_count": 46,
   "metadata": {},
   "outputs": [
    {
     "data": {
      "text/html": [
       "<table>\n",
       "<thead>\n",
       "<tr><th>model_id                                 </th><th style=\"text-align: right;\">  mean_per_class_error</th><th style=\"text-align: right;\">  logloss</th><th style=\"text-align: right;\">  rmse</th><th style=\"text-align: right;\">  mse</th></tr>\n",
       "</thead>\n",
       "<tbody>\n",
       "<tr><td>GLM_grid_1_AutoML_20190411_180444_model_1</td><td style=\"text-align: right;\">                   nan</td><td style=\"text-align: right;\">      nan</td><td style=\"text-align: right;\">   nan</td><td style=\"text-align: right;\">  nan</td></tr>\n",
       "<tr><td>GLM_grid_1_AutoML_20190411_203300_model_1</td><td style=\"text-align: right;\">                   nan</td><td style=\"text-align: right;\">      nan</td><td style=\"text-align: right;\">   nan</td><td style=\"text-align: right;\">  nan</td></tr>\n",
       "<tr><td>GLM_grid_1_AutoML_20190411_211049_model_1</td><td style=\"text-align: right;\">                   nan</td><td style=\"text-align: right;\">      nan</td><td style=\"text-align: right;\">   nan</td><td style=\"text-align: right;\">  nan</td></tr>\n",
       "<tr><td>GLM_grid_1_AutoML_20190411_192454_model_1</td><td style=\"text-align: right;\">                   nan</td><td style=\"text-align: right;\">      nan</td><td style=\"text-align: right;\">   nan</td><td style=\"text-align: right;\">  nan</td></tr>\n",
       "</tbody>\n",
       "</table>"
      ]
     },
     "metadata": {},
     "output_type": "display_data"
    },
    {
     "name": "stdout",
     "output_type": "stream",
     "text": [
      "\n"
     ]
    }
   ],
   "source": [
    "print(aml.leaderboard)"
   ]
  },
  {
   "cell_type": "code",
   "execution_count": 15,
   "metadata": {},
   "outputs": [],
   "source": [
    "best_model = h2o.get_model(aml.leaderboard[2,'model_id'])"
   ]
  },
  {
   "cell_type": "code",
   "execution_count": 16,
   "metadata": {},
   "outputs": [
    {
     "data": {
      "text/plain": [
       "'xgboost'"
      ]
     },
     "execution_count": 16,
     "metadata": {},
     "output_type": "execute_result"
    }
   ],
   "source": [
    "best_model.algo"
   ]
  },
  {
   "cell_type": "code",
   "execution_count": 17,
   "metadata": {},
   "outputs": [],
   "source": [
    "import matplotlib.pyplot as plt\n",
    "%matplotlib inline\n",
    "\n",
    "import warnings\n",
    "import matplotlib.cbook\n",
    "warnings.filterwarnings(\"ignore\", category = matplotlib.cbook.mplDeprecation)"
   ]
  },
  {
   "cell_type": "code",
   "execution_count": 18,
   "metadata": {},
   "outputs": [
    {
     "data": {
      "image/png": "[encoded data removed]",
      "text/plain": [
       "<Figure size 1008x720 with 1 Axes>"
      ]
     },
     "metadata": {
      "needs_background": "light"
     },
     "output_type": "display_data"
    }
   ],
   "source": [
    "best_model.varimp_plot()"
   ]
  },
  {
   "cell_type": "code",
   "execution_count": 19,
   "metadata": {},
   "outputs": [],
   "source": [
    "df[y] = df[y].asfactor()"
   ]
  },
  {
   "cell_type": "code",
   "execution_count": 20,
   "metadata": {
    "scrolled": true
   },
   "outputs": [
    {
     "name": "stdout",
     "output_type": "stream",
     "text": [
      "Rows:4447\n",
      "Cols:19\n",
      "\n",
      "\n"
     ]
    },
    {
     "data": {
      "text/html": [
       "<table>\n",
       "<thead>\n",
       "<tr><th>       </th><th>transaction_real_price  </th><th>city              </th><th>exclusive_use_area  </th><th>floor             </th><th>total_parking_capacity_in_site  </th><th>total_household_count_in_sites  </th><th>apartment_building_count_in_sites  </th><th>supply_area       </th><th>total_household_count_of_area_type  </th><th>room_count        </th><th>bathroom_count    </th><th>heat_fuel_cogeneration  </th><th>heat_fuel_gas     </th><th>heat_type_central  </th><th>heat_type_district  </th><th>heat_type_individual  </th><th>front_door_structure_corridor  </th><th>front_door_structure_mixed  </th><th>front_door_structure_stairway  </th></tr>\n",
       "</thead>\n",
       "<tbody>\n",
       "<tr><td>type   </td><td>enum                    </td><td>int               </td><td>real                </td><td>int               </td><td>int                             </td><td>int                             </td><td>int                                </td><td>real              </td><td>int                                 </td><td>int               </td><td>int               </td><td>int                     </td><td>int               </td><td>int                </td><td>int                 </td><td>int                   </td><td>int                            </td><td>int                         </td><td>int                            </td></tr>\n",
       "<tr><td>mins   </td><td>                        </td><td>0.0               </td><td>24.2475             </td><td>1.0               </td><td>0.0                             </td><td>100.0                           </td><td>1.0                                </td><td>33.59             </td><td>0.0                                 </td><td>0.0               </td><td>0.0               </td><td>0.0                     </td><td>0.0               </td><td>0.0                </td><td>0.0                 </td><td>0.0                   </td><td>0.0                            </td><td>0.0                         </td><td>0.0                            </td></tr>\n",
       "<tr><td>mean   </td><td>                        </td><td>0.633235889363616 </td><td>80.43324200584667   </td><td>10.161457162131775</td><td>1320.9788621542616              </td><td>1191.7533168428156              </td><td>12.970991679784124                 </td><td>103.30118956599955</td><td>292.6532493816056                   </td><td>2.9759388351697784</td><td>1.597031706768608 </td><td>0.2397121655048347      </td><td>0.7602878344951652</td><td>0.08162806386327862</td><td>0.24061164830222623 </td><td>0.6777602878344952    </td><td>0.259051045648752              </td><td>0.016865302451090622        </td><td>0.7240836519001574             </td></tr>\n",
       "<tr><td>maxs   </td><td>                        </td><td>1.0               </td><td>266.8181            </td><td>66.0              </td><td>9766.0                          </td><td>6864.0                          </td><td>124.0                              </td><td>343.89            </td><td>2960.0                              </td><td>6.0               </td><td>4.0               </td><td>1.0                     </td><td>1.0               </td><td>1.0                </td><td>1.0                 </td><td>1.0                   </td><td>1.0                            </td><td>1.0                         </td><td>1.0                            </td></tr>\n",
       "<tr><td>sigma  </td><td>                        </td><td>0.4819755547191596</td><td>28.772107257421734  </td><td>7.028892141141552 </td><td>1448.080749614069               </td><td>1135.12591706417                </td><td>14.331711124397955                 </td><td>33.90022505192435 </td><td>329.45238690672653                  </td><td>0.6674127834544982</td><td>0.5081169355394869</td><td>0.4269557765991174      </td><td>0.4269557765991174</td><td>0.27382801949303126</td><td>0.427502959168945   </td><td>0.46738678111809034   </td><td>0.43816295324580384            </td><td>0.12878118423684082         </td><td>0.4470251147192063             </td></tr>\n",
       "<tr><td>zeros  </td><td>                        </td><td>1631              </td><td>0                   </td><td>0                 </td><td>3                               </td><td>0                               </td><td>0                                  </td><td>0                 </td><td>54                                  </td><td>8                 </td><td>8                 </td><td>3381                    </td><td>1066              </td><td>4084               </td><td>3377                </td><td>1433                  </td><td>3295                           </td><td>4372                        </td><td>1227                           </td></tr>\n",
       "<tr><td>missing</td><td>0                       </td><td>0                 </td><td>0                   </td><td>0                 </td><td>0                               </td><td>0                               </td><td>0                                  </td><td>0                 </td><td>0                                   </td><td>0                 </td><td>0                 </td><td>0                       </td><td>0                 </td><td>0                  </td><td>0                   </td><td>0                     </td><td>0                              </td><td>0                           </td><td>0                              </td></tr>\n",
       "<tr><td>0      </td><td>334000000               </td><td>1.0               </td><td>84.94               </td><td>12.0              </td><td>3481.0                          </td><td>2678.0                          </td><td>25.0                               </td><td>102.02            </td><td>2254.0                              </td><td>3.0               </td><td>2.0               </td><td>0.0                     </td><td>1.0               </td><td>0.0                </td><td>0.0                 </td><td>1.0                   </td><td>0.0                            </td><td>0.0                         </td><td>1.0                            </td></tr>\n",
       "<tr><td>1      </td><td>400000000               </td><td>1.0               </td><td>114.88              </td><td>17.0              </td><td>1665.0                          </td><td>2017.0                          </td><td>22.0                               </td><td>137.59            </td><td>325.0                               </td><td>4.0               </td><td>2.0               </td><td>0.0                     </td><td>1.0               </td><td>0.0                </td><td>0.0                 </td><td>1.0                   </td><td>0.0                            </td><td>0.0                         </td><td>1.0                            </td></tr>\n",
       "<tr><td>2      </td><td>290000000               </td><td>0.0               </td><td>84.96               </td><td>7.0               </td><td>1761.0                          </td><td>1326.0                          </td><td>9.0                                </td><td>109.77            </td><td>209.0                               </td><td>3.0               </td><td>2.0               </td><td>0.0                     </td><td>1.0               </td><td>0.0                </td><td>0.0                 </td><td>1.0                   </td><td>0.0                            </td><td>0.0                         </td><td>1.0                            </td></tr>\n",
       "<tr><td>3      </td><td>156500000               </td><td>0.0               </td><td>85.0                </td><td>3.0               </td><td>2381.0                          </td><td>1391.0                          </td><td>14.0                               </td><td>107.24            </td><td>138.0                               </td><td>3.0               </td><td>2.0               </td><td>0.0                     </td><td>1.0               </td><td>0.0                </td><td>0.0                 </td><td>1.0                   </td><td>0.0                            </td><td>0.0                         </td><td>1.0                            </td></tr>\n",
       "<tr><td>4      </td><td>380000000               </td><td>0.0               </td><td>140.293             </td><td>14.0              </td><td>664.0                           </td><td>388.0                           </td><td>5.0                                </td><td>166.53            </td><td>130.0                               </td><td>5.0               </td><td>2.0               </td><td>0.0                     </td><td>1.0               </td><td>0.0                </td><td>0.0                 </td><td>1.0                   </td><td>0.0                            </td><td>0.0                         </td><td>1.0                            </td></tr>\n",
       "<tr><td>5      </td><td>87000000                </td><td>0.0               </td><td>60.0                </td><td>6.0               </td><td>200.0                           </td><td>124.0                           </td><td>2.0                                </td><td>85.95             </td><td>64.0                                </td><td>3.0               </td><td>1.0               </td><td>1.0                     </td><td>0.0               </td><td>0.0                </td><td>1.0                 </td><td>0.0                   </td><td>1.0                            </td><td>0.0                         </td><td>0.0                            </td></tr>\n",
       "<tr><td>6      </td><td>1530000000              </td><td>1.0               </td><td>219.82              </td><td>35.0              </td><td>1081.0                          </td><td>445.0                           </td><td>2.0                                </td><td>279.31            </td><td>4.0                                 </td><td>3.0               </td><td>4.0               </td><td>1.0                     </td><td>0.0               </td><td>0.0                </td><td>0.0                 </td><td>1.0                   </td><td>0.0                            </td><td>0.0                         </td><td>1.0                            </td></tr>\n",
       "<tr><td>7      </td><td>115000000               </td><td>0.0               </td><td>49.42               </td><td>11.0              </td><td>340.0                           </td><td>720.0                           </td><td>5.0                                </td><td>69.02             </td><td>720.0                               </td><td>2.0               </td><td>1.0               </td><td>0.0                     </td><td>1.0               </td><td>0.0                </td><td>0.0                 </td><td>1.0                   </td><td>1.0                            </td><td>0.0                         </td><td>0.0                            </td></tr>\n",
       "<tr><td>8      </td><td>398000000               </td><td>1.0               </td><td>59.97               </td><td>2.0               </td><td>302.0                           </td><td>636.0                           </td><td>9.0                                </td><td>81.55             </td><td>323.0                               </td><td>2.0               </td><td>1.0               </td><td>0.0                     </td><td>1.0               </td><td>0.0                </td><td>0.0                 </td><td>1.0                   </td><td>1.0                            </td><td>0.0                         </td><td>0.0                            </td></tr>\n",
       "<tr><td>9      </td><td>94500000                </td><td>0.0               </td><td>45.5                </td><td>4.0               </td><td>230.0                           </td><td>996.0                           </td><td>7.0                                </td><td>63.17             </td><td>996.0                               </td><td>3.0               </td><td>1.0               </td><td>0.0                     </td><td>1.0               </td><td>0.0                </td><td>0.0                 </td><td>1.0                   </td><td>1.0                            </td><td>0.0                         </td><td>0.0                            </td></tr>\n",
       "</tbody>\n",
       "</table>"
      ]
     },
     "metadata": {},
     "output_type": "display_data"
    }
   ],
   "source": [
    "df.describe()"
   ]
  },
  {
   "cell_type": "code",
   "execution_count": null,
   "metadata": {},
   "outputs": [],
   "source": [
    "# Set up AutoML\n",
    "\n",
    "aml = H2OAutoML(max_runtime_secs=run_time,exclude_algos = ['DeepLearning'])\n",
    "\n",
    "model_start_time = time.time()\n",
    "  \n",
    "try:\n",
    "  aml.train(x=X,y=y,training_frame=df)  # Change training_frame=train\n",
    "except Exception as e:\n",
    "  logging.critical('aml.train') \n",
    "  h2o.download_all_logs(dirname=logs_path, filename=logfile)      \n",
    "  h2o.cluster().shutdown()   \n",
    "  sys.exit(4)\n",
    "\n",
    "meta_data={}\n",
    "meta_data['model_execution_time'] = {\"regression\":(time.time() - model_start_time)}\n",
    "\n",
    "meta_data\n",
    "\n",
    "print(aml.leaderboard)\n",
    "\n",
    "best_model = h2o.get_model(aml.leaderboard[2,'model_id'])\n",
    "\n",
    "best_model.algo\n",
    "\n",
    "import matplotlib.pyplot as plt\n",
    "%matplotlib inline\n",
    "\n",
    "import warnings\n",
    "import matplotlib.cbook\n",
    "warnings.filterwarnings(\"ignore\", category = matplotlib.cbook.mplDeprecation)\n",
    "\n",
    "best_model.varimp_plot()\n",
    "\n",
    "df[y] = df[y].asfactor()\n",
    "\n",
    "df.describe()"
   ]
  },
  {
   "cell_type": "code",
   "execution_count": null,
   "metadata": {},
   "outputs": [],
   "source": []
  },
  {
   "cell_type": "code",
   "execution_count": null,
   "metadata": {},
   "outputs": [],
   "source": []
  },
  {
   "cell_type": "code",
   "execution_count": null,
   "metadata": {},
   "outputs": [],
   "source": []
  },
  {
   "cell_type": "code",
   "execution_count": null,
   "metadata": {},
   "outputs": [],
   "source": []
  },
  {
   "cell_type": "code",
   "execution_count": null,
   "metadata": {},
   "outputs": [],
   "source": []
  }
 ],
 "metadata": {
  "kernelspec": {
   "display_name": "Python 3",
   "language": "python",
   "name": "python3"
  },
  "language_info": {
   "codemirror_mode": {
    "name": "ipython",
    "version": 3
   },
   "file_extension": ".py",
   "mimetype": "text/x-python",
   "name": "python",
   "nbconvert_exporter": "python",
   "pygments_lexer": "ipython3",
   "version": "3.7.1"
  }
 },
 "nbformat": 4,
 "nbformat_minor": 2
}
