{
 "cells": [
  {
   "cell_type": "code",
   "execution_count": 1,
   "metadata": {},
   "outputs": [],
   "source": [
    "import h2o\n",
    "from h2o.automl import H2OAutoML\n",
    "import random, os, sys\n",
    "from datetime import datetime\n",
    "import pandas as pd\n",
    "import logging\n",
    "import csv\n",
    "import optparse\n",
    "import time\n",
    "import json\n",
    "from distutils.util import strtobool\n",
    "import psutil\n",
    "import numpy as np\n",
    "import datetime"
   ]
  },
  {
   "cell_type": "code",
   "execution_count": 2,
   "metadata": {},
   "outputs": [],
   "source": [
    "import matplotlib.pyplot as plt\n",
    "%matplotlib inline\n",
    "\n",
    "import warnings\n",
    "import matplotlib.cbook\n",
    "warnings.filterwarnings(\"ignore\", category = matplotlib.cbook.mplDeprecation)"
   ]
  },
  {
   "cell_type": "code",
   "execution_count": 3,
   "metadata": {},
   "outputs": [],
   "source": [
    "target='transaction_real_price'"
   ]
  },
  {
   "cell_type": "code",
   "execution_count": 4,
   "metadata": {},
   "outputs": [
    {
     "name": "stdout",
     "output_type": "stream",
     "text": [
      "Checking whether there is an H2O instance running at http://localhost:54321 ..... not found.\n",
      "Attempting to start a local H2O server...\n",
      "  Java Version: java version \"1.8.0_191\"; Java(TM) SE Runtime Environment (build 1.8.0_191-b12); Java HotSpot(TM) 64-Bit Server VM (build 25.191-b12, mixed mode)\n",
      "  Starting server from /Users/bonnie/anaconda3/lib/python3.7/site-packages/h2o/backend/bin/h2o.jar\n",
      "  Ice root: /var/folders/f1/2lb7b2n57j9d7ktf62rd4mkh0000gn/T/tmpnu6hkoqm\n",
      "  JVM stdout: /var/folders/f1/2lb7b2n57j9d7ktf62rd4mkh0000gn/T/tmpnu6hkoqm/h2o_bonnie_started_from_python.out\n",
      "  JVM stderr: /var/folders/f1/2lb7b2n57j9d7ktf62rd4mkh0000gn/T/tmpnu6hkoqm/h2o_bonnie_started_from_python.err\n",
      "  Server is running at http://127.0.0.1:54321\n",
      "Connecting to H2O server at http://127.0.0.1:54321 ... successful.\n"
     ]
    },
    {
     "data": {
      "text/html": [
       "<div style=\"overflow:auto\"><table style=\"width:50%\"><tr><td>H2O cluster uptime:</td>\n",
       "<td>02 secs</td></tr>\n",
       "<tr><td>H2O cluster timezone:</td>\n",
       "<td>America/New_York</td></tr>\n",
       "<tr><td>H2O data parsing timezone:</td>\n",
       "<td>UTC</td></tr>\n",
       "<tr><td>H2O cluster version:</td>\n",
       "<td>3.24.0.1</td></tr>\n",
       "<tr><td>H2O cluster version age:</td>\n",
       "<td>14 days, 20 hours and 13 minutes </td></tr>\n",
       "<tr><td>H2O cluster name:</td>\n",
       "<td>H2O_from_python_bonnie_9b0rf3</td></tr>\n",
       "<tr><td>H2O cluster total nodes:</td>\n",
       "<td>1</td></tr>\n",
       "<tr><td>H2O cluster free memory:</td>\n",
       "<td>1.778 Gb</td></tr>\n",
       "<tr><td>H2O cluster total cores:</td>\n",
       "<td>4</td></tr>\n",
       "<tr><td>H2O cluster allowed cores:</td>\n",
       "<td>4</td></tr>\n",
       "<tr><td>H2O cluster status:</td>\n",
       "<td>accepting new members, healthy</td></tr>\n",
       "<tr><td>H2O connection url:</td>\n",
       "<td>http://127.0.0.1:54321</td></tr>\n",
       "<tr><td>H2O connection proxy:</td>\n",
       "<td>None</td></tr>\n",
       "<tr><td>H2O internal security:</td>\n",
       "<td>False</td></tr>\n",
       "<tr><td>H2O API Extensions:</td>\n",
       "<td>Amazon S3, XGBoost, Algos, AutoML, Core V3, Core V4</td></tr>\n",
       "<tr><td>Python version:</td>\n",
       "<td>3.7.1 final</td></tr></table></div>"
      ],
      "text/plain": [
       "--------------------------  ---------------------------------------------------\n",
       "H2O cluster uptime:         02 secs\n",
       "H2O cluster timezone:       America/New_York\n",
       "H2O data parsing timezone:  UTC\n",
       "H2O cluster version:        3.24.0.1\n",
       "H2O cluster version age:    14 days, 20 hours and 13 minutes\n",
       "H2O cluster name:           H2O_from_python_bonnie_9b0rf3\n",
       "H2O cluster total nodes:    1\n",
       "H2O cluster free memory:    1.778 Gb\n",
       "H2O cluster total cores:    4\n",
       "H2O cluster allowed cores:  4\n",
       "H2O cluster status:         accepting new members, healthy\n",
       "H2O connection url:         http://127.0.0.1:54321\n",
       "H2O connection proxy:\n",
       "H2O internal security:      False\n",
       "H2O API Extensions:         Amazon S3, XGBoost, Algos, AutoML, Core V3, Core V4\n",
       "Python version:             3.7.1 final\n",
       "--------------------------  ---------------------------------------------------"
      ]
     },
     "metadata": {},
     "output_type": "display_data"
    }
   ],
   "source": [
    "h2o.init() # start h2o"
   ]
  },
  {
   "cell_type": "code",
   "execution_count": 5,
   "metadata": {},
   "outputs": [
    {
     "name": "stdout",
     "output_type": "stream",
     "text": [
      "Parse progress: |█████████████████████████████████████████████████████████| 100%\n"
     ]
    }
   ],
   "source": [
    "df = h2o.import_file(path = 'data/trainPriceCleaned.csv')"
   ]
  },
  {
   "cell_type": "code",
   "execution_count": 6,
   "metadata": {
    "scrolled": true
   },
   "outputs": [
    {
     "name": "stdout",
     "output_type": "stream",
     "text": [
      "Rows:4465\n",
      "Cols:19\n",
      "\n",
      "\n"
     ]
    },
    {
     "data": {
      "text/html": [
       "<table>\n",
       "<thead>\n",
       "<tr><th>       </th><th>transaction_real_price  </th><th>city               </th><th>exclusive_use_area  </th><th>floor             </th><th>total_parking_capacity_in_site  </th><th>total_household_count_in_sites  </th><th>apartment_building_count_in_sites  </th><th>supply_area      </th><th>total_household_count_of_area_type  </th><th>room_count        </th><th>bathroom_count    </th><th>heat_fuel_cogeneration  </th><th>heat_fuel_gas     </th><th>heat_type_central  </th><th>heat_type_district  </th><th>heat_type_individual  </th><th>front_door_structure_corridor  </th><th>front_door_structure_mixed  </th><th>front_door_structure_stairway  </th></tr>\n",
       "</thead>\n",
       "<tbody>\n",
       "<tr><td>type   </td><td>int                     </td><td>int                </td><td>real                </td><td>int               </td><td>int                             </td><td>int                             </td><td>int                                </td><td>real             </td><td>int                                 </td><td>int               </td><td>int               </td><td>int                     </td><td>int               </td><td>int                </td><td>int                 </td><td>int                   </td><td>int                            </td><td>int                         </td><td>int                            </td></tr>\n",
       "<tr><td>mins   </td><td>15150000.0              </td><td>0.0                </td><td>23.32               </td><td>1.0               </td><td>0.0                             </td><td>100.0                           </td><td>1.0                                </td><td>25.52            </td><td>0.0                                 </td><td>0.0               </td><td>0.0               </td><td>0.0                     </td><td>0.0               </td><td>0.0                </td><td>0.0                 </td><td>0.0                   </td><td>0.0                            </td><td>0.0                         </td><td>0.0                            </td></tr>\n",
       "<tr><td>mean   </td><td>407325225.0839865       </td><td>0.6326987681970885 </td><td>78.98916750279955   </td><td>10.478387458006718</td><td>1358.196640537514               </td><td>1205.4591265397537              </td><td>13.059350503919374                 </td><td>101.8436640537514</td><td>302.55341545352746                  </td><td>2.9393057110862264</td><td>1.5979843225083987</td><td>0.23829787234042554     </td><td>0.7617021276595745</td><td>0.08421052631578947</td><td>0.23852183650615902 </td><td>0.6772676371780515    </td><td>0.26382978723404255            </td><td>0.01702127659574468         </td><td>0.7191489361702128             </td></tr>\n",
       "<tr><td>maxs   </td><td>3878340000.0            </td><td>1.0                </td><td>244.8647            </td><td>59.0              </td><td>9766.0                          </td><td>6864.0                          </td><td>124.0                              </td><td>309.36           </td><td>2960.0                              </td><td>6.0               </td><td>3.0               </td><td>1.0                     </td><td>1.0               </td><td>1.0                </td><td>1.0                 </td><td>1.0                   </td><td>1.0                            </td><td>1.0                         </td><td>1.0                            </td></tr>\n",
       "<tr><td>sigma  </td><td>316990725.1286814       </td><td>0.48212352757671595</td><td>27.536207663209645  </td><td>7.258355776752853 </td><td>1511.328449626355               </td><td>1147.2439103271977              </td><td>14.478395659958464                 </td><td>32.50384704917918</td><td>342.17734963028045                  </td><td>0.6466331065494135</td><td>0.5029887953511339</td><td>0.4260899642891898      </td><td>0.4260899642891898</td><td>0.27773438634871633</td><td>0.42622747160873403 </td><td>0.4675736829724452    </td><td>0.4407574610598276             </td><td>0.12936499080697303         </td><td>0.4494652253397927             </td></tr>\n",
       "<tr><td>zeros  </td><td>0                       </td><td>1640               </td><td>0                   </td><td>0                 </td><td>5                               </td><td>0                               </td><td>0                                  </td><td>0                </td><td>54                                  </td><td>8                 </td><td>8                 </td><td>3401                    </td><td>1064              </td><td>4089               </td><td>3400                </td><td>1441                  </td><td>3287                           </td><td>4389                        </td><td>1254                           </td></tr>\n",
       "<tr><td>missing</td><td>0                       </td><td>0                  </td><td>0                   </td><td>0                 </td><td>0                               </td><td>0                               </td><td>0                                  </td><td>0                </td><td>0                                   </td><td>0                 </td><td>0                 </td><td>0                       </td><td>0                 </td><td>0                  </td><td>0                   </td><td>0                     </td><td>0                              </td><td>0                           </td><td>0                              </td></tr>\n",
       "<tr><td>0      </td><td>570000000.0             </td><td>1.0                </td><td>84.91               </td><td>15.0              </td><td>1391.0                          </td><td>1606.0                          </td><td>15.0                               </td><td>104.75           </td><td>958.0                               </td><td>3.0               </td><td>2.0               </td><td>0.0                     </td><td>1.0               </td><td>0.0                </td><td>0.0                 </td><td>1.0                   </td><td>0.0                            </td><td>0.0                         </td><td>1.0                            </td></tr>\n",
       "<tr><td>1      </td><td>1050000000.0            </td><td>1.0                </td><td>84.99               </td><td>17.0              </td><td>7876.0                          </td><td>5563.0                          </td><td>65.0                               </td><td>109.35           </td><td>828.0                               </td><td>3.0               </td><td>2.0               </td><td>1.0                     </td><td>0.0               </td><td>0.0                </td><td>1.0                 </td><td>0.0                   </td><td>0.0                            </td><td>0.0                         </td><td>1.0                            </td></tr>\n",
       "<tr><td>2      </td><td>586050000.0             </td><td>0.0                </td><td>156.7997            </td><td>13.0              </td><td>857.0                           </td><td>390.0                           </td><td>4.0                                </td><td>198.7            </td><td>154.0                               </td><td>3.0               </td><td>2.0               </td><td>0.0                     </td><td>1.0               </td><td>0.0                </td><td>0.0                 </td><td>1.0                   </td><td>0.0                            </td><td>0.0                         </td><td>1.0                            </td></tr>\n",
       "<tr><td>3      </td><td>389370000.0             </td><td>1.0                </td><td>84.93               </td><td>9.0               </td><td>492.0                           </td><td>455.0                           </td><td>6.0                                </td><td>109.81           </td><td>78.0                                </td><td>3.0               </td><td>2.0               </td><td>0.0                     </td><td>1.0               </td><td>0.0                </td><td>0.0                 </td><td>1.0                   </td><td>0.0                            </td><td>0.0                         </td><td>1.0                            </td></tr>\n",
       "<tr><td>4      </td><td>1130000000.0            </td><td>1.0                </td><td>76.5                </td><td>6.0               </td><td>3930.0                          </td><td>3930.0                          </td><td>30.0                               </td><td>112.39           </td><td>1170.0                              </td><td>3.0               </td><td>1.0               </td><td>1.0                     </td><td>0.0               </td><td>0.0                </td><td>1.0                 </td><td>0.0                   </td><td>1.0                            </td><td>0.0                         </td><td>0.0                            </td></tr>\n",
       "<tr><td>5      </td><td>128000000.0             </td><td>0.0                </td><td>84.92               </td><td>10.0              </td><td>225.0                           </td><td>343.0                           </td><td>1.0                                </td><td>125.62           </td><td>164.0                               </td><td>3.0               </td><td>2.0               </td><td>0.0                     </td><td>1.0               </td><td>0.0                </td><td>0.0                 </td><td>1.0                   </td><td>0.0                            </td><td>0.0                         </td><td>1.0                            </td></tr>\n",
       "<tr><td>6      </td><td>350000000.0             </td><td>1.0                </td><td>59.54               </td><td>26.0              </td><td>2990.0                          </td><td>2182.0                          </td><td>22.0                               </td><td>76.62            </td><td>176.0                               </td><td>3.0               </td><td>1.0               </td><td>0.0                     </td><td>1.0               </td><td>0.0                </td><td>0.0                 </td><td>1.0                   </td><td>0.0                            </td><td>0.0                         </td><td>1.0                            </td></tr>\n",
       "<tr><td>7      </td><td>305000000.0             </td><td>1.0                </td><td>84.96               </td><td>9.0               </td><td>169.0                           </td><td>165.0                           </td><td>1.0                                </td><td>111.28           </td><td>60.0                                </td><td>3.0               </td><td>2.0               </td><td>0.0                     </td><td>1.0               </td><td>0.0                </td><td>0.0                 </td><td>1.0                   </td><td>0.0                            </td><td>0.0                         </td><td>1.0                            </td></tr>\n",
       "<tr><td>8      </td><td>315000000.0             </td><td>1.0                </td><td>60.054              </td><td>4.0               </td><td>635.0                           </td><td>620.0                           </td><td>22.0                               </td><td>81.54            </td><td>256.0                               </td><td>3.0               </td><td>2.0               </td><td>0.0                     </td><td>1.0               </td><td>0.0                </td><td>0.0                 </td><td>1.0                   </td><td>0.0                            </td><td>0.0                         </td><td>1.0                            </td></tr>\n",
       "<tr><td>9      </td><td>350000000.0             </td><td>1.0                </td><td>84.99               </td><td>6.0               </td><td>209.0                           </td><td>194.0                           </td><td>2.0                                </td><td>108.79           </td><td>108.0                               </td><td>3.0               </td><td>2.0               </td><td>0.0                     </td><td>1.0               </td><td>0.0                </td><td>0.0                 </td><td>1.0                   </td><td>0.0                            </td><td>0.0                         </td><td>1.0                            </td></tr>\n",
       "</tbody>\n",
       "</table>"
      ]
     },
     "metadata": {},
     "output_type": "display_data"
    }
   ],
   "source": [
    "df.describe()"
   ]
  },
  {
   "cell_type": "code",
   "execution_count": 7,
   "metadata": {
    "scrolled": false
   },
   "outputs": [
    {
     "name": "stdout",
     "output_type": "stream",
     "text": [
      "['city', 'exclusive_use_area', 'floor', 'total_parking_capacity_in_site', 'total_household_count_in_sites', 'apartment_building_count_in_sites', 'supply_area', 'total_household_count_of_area_type', 'room_count', 'bathroom_count', 'heat_fuel_cogeneration', 'heat_fuel_gas', 'heat_type_central', 'heat_type_district', 'heat_type_individual', 'front_door_structure_corridor', 'front_door_structure_mixed', 'front_door_structure_stairway']\n"
     ]
    }
   ],
   "source": [
    "X  = [name for name in df.columns if name != target]\n",
    "print(X)"
   ]
  },
  {
   "cell_type": "code",
   "execution_count": 8,
   "metadata": {},
   "outputs": [],
   "source": [
    "# Set target and predictor variables\n",
    "y = target\n",
    "project = 'hyper'"
   ]
  },
  {
   "cell_type": "code",
   "execution_count": 9,
   "metadata": {
    "scrolled": false
   },
   "outputs": [],
   "source": [
    "def get_leaderBoard(runtime):\n",
    "    aml = H2OAutoML(max_runtime_secs=runtime, \n",
    "                    project_name = project)\n",
    "    aml.train(x=X, y=y, training_frame=df)\n",
    "    \n",
    "    board = aml.leaderboard    \n",
    "    print ('get_leaderBoard done')\n",
    "    return board"
   ]
  },
  {
   "cell_type": "code",
   "execution_count": null,
   "metadata": {},
   "outputs": [],
   "source": [
    "def get_BestModel(board_csv):\n",
    "    all_params = []\n",
    "    for index, row in board_csv.iterrows():    \n",
    "        model_list.append(row['model_id'])\n",
    "    for i in model_list:  \n",
    "        print (i)\n",
    "        model = h2o.get_model(i)\n",
    "        params = model.params        \n",
    "        all_params.append(params)\n",
    "    \n",
    "    print (\"get_all_params done\")\n",
    "    print ('model_list : ', len(model_list))\n",
    "    print ('all_params : ', len(all_params))\n",
    "    return all_params      "
   ]
  },
  {
   "cell_type": "code",
   "execution_count": 10,
   "metadata": {},
   "outputs": [],
   "source": [
    "def board_to_csv(board, runtime):\n",
    "    board_csv = board.as_data_frame() \n",
    "    system_date = datetime.date.today()\n",
    "    board_csv['system_date'] = system_date\n",
    "    board_csv['runtime'] = runtime\n",
    "    print ('board_to_csv done')\n",
    "    return board_csv    "
   ]
  },
  {
   "cell_type": "code",
   "execution_count": 63,
   "metadata": {
    "scrolled": true
   },
   "outputs": [],
   "source": [
    "def get_modelList(board_csv):\n",
    "    model_list = []\n",
    "    for index, row in board_csv.iterrows():    \n",
    "        model_list.append(row['model_id'])\n",
    "    return model_list"
   ]
  },
  {
   "cell_type": "code",
   "execution_count": 45,
   "metadata": {},
   "outputs": [],
   "source": [
    "def get_all_params(board_csv):\n",
    "    all_params = []\n",
    "    model_list = get_modelList(board_csv)\n",
    "    for i in model_list:  \n",
    "        print (i)\n",
    "        model = h2o.get_model(i)\n",
    "        params = model.params        \n",
    "        all_params.append(params)\n",
    "    print (\"get_all_params done\")\n",
    "    print ('model_list : ', len(model_list))\n",
    "    print ('all_params : ', len(all_params))\n",
    "    return all_params"
   ]
  },
  {
   "cell_type": "code",
   "execution_count": 48,
   "metadata": {},
   "outputs": [],
   "source": [
    "def get_BestModel(board_csv):\n",
    "    id = board_csv['model_id'][0]\n",
    "    best_model = h2o.get_model(id)\n",
    "    return best_model        "
   ]
  },
  {
   "cell_type": "code",
   "execution_count": 355,
   "metadata": {},
   "outputs": [],
   "source": [
    "def get_all_varimp(board_csv):\n",
    "    model_list = get_modelList(board_csv) \n",
    "    tup=[]\n",
    "    gg = 1\n",
    "    for mid in model_list:    \n",
    "        model = h2o.get_model(mid)\n",
    "        varimp = model.varimp()       \n",
    "        print(\"tryyyyyyyyyyyyyyyy          \", gg)\n",
    "        gg+= 1\n",
    "        try:\n",
    "            for var_item in varimp:\n",
    "                vv = []\n",
    "                vv.append(mid)  \n",
    "                ass = []                     \n",
    "                for tit in var_item:     \n",
    "                    ass.append(tit)           \n",
    "                item = vv + ass\n",
    "                tup.append(item)   \n",
    "                \n",
    "            print('done')\n",
    "        except:  \n",
    "            print(mid)  \n",
    "            print('pass')  \n",
    "            pass\n",
    "        continue\n",
    "\n",
    "    new_varimp = pd.DataFrame(tup, columns = ['model_id',\n",
    "                                'variable', \n",
    "                                'relative_importance', \n",
    "                                'scaled_importance',\n",
    "                                'percentage'                                \n",
    "                               ]) \n",
    "            \n",
    "    return new_varimp"
   ]
  },
  {
   "cell_type": "code",
   "execution_count": 357,
   "metadata": {
    "scrolled": true
   },
   "outputs": [
    {
     "name": "stdout",
     "output_type": "stream",
     "text": [
      "AutoML progress: |████████████████████████████████████████████████████████| 100%\n",
      "get_leaderBoard done\n",
      "board_to_csv done\n",
      "GBM_1_AutoML_20190415_201144\n",
      "XGBoost_1_AutoML_20190415_201144\n",
      "XGBoost_1_AutoML_20190415_220045\n",
      "XGBoost_1_AutoML_20190415_220145\n",
      "GBM_grid_1_AutoML_20190415_201144_model_3\n",
      "XGBoost_1_AutoML_20190416_013912\n",
      "GBM_4_AutoML_20190415_201144\n",
      "XGBoost_1_AutoML_20190415_195347\n",
      "XGBoost_2_AutoML_20190415_201144\n",
      "XRT_1_AutoML_20190415_201144\n",
      "GBM_3_AutoML_20190415_201144\n",
      "GBM_2_AutoML_20190415_201144\n",
      "DRF_1_AutoML_20190415_201144\n",
      "XGBoost_2_AutoML_20190415_220145\n",
      "XGBoost_3_AutoML_20190415_201144\n",
      "XGBoost_grid_1_AutoML_20190415_201144_model_1\n",
      "XGBoost_2_AutoML_20190415_220045\n",
      "XGBoost_2_AutoML_20190416_013912\n",
      "GBM_grid_1_AutoML_20190415_201144_model_7\n",
      "GBM_grid_1_AutoML_20190415_201144_model_8\n",
      "GBM_grid_1_AutoML_20190415_201144_model_6\n",
      "GBM_grid_1_AutoML_20190415_201144_model_11\n",
      "GBM_grid_1_AutoML_20190415_201144_model_2\n",
      "GBM_grid_1_AutoML_20190415_201144_model_5\n",
      "GBM_5_AutoML_20190415_201144\n",
      "GBM_grid_1_AutoML_20190415_201144_model_1\n",
      "DeepLearning_grid_1_AutoML_20190415_201144_model_1\n",
      "GBM_grid_1_AutoML_20190415_201144_model_9\n",
      "DeepLearning_1_AutoML_20190415_201144\n",
      "DeepLearning_grid_1_AutoML_20190415_201144_model_3\n",
      "DeepLearning_grid_1_AutoML_20190415_201144_model_2\n",
      "DeepLearning_grid_1_AutoML_20190415_201144_model_4\n",
      "DeepLearning_grid_1_AutoML_20190415_201144_model_5\n",
      "XGBoost_2_AutoML_20190415_195347\n",
      "XGBoost_grid_1_AutoML_20190415_201144_model_2\n",
      "GBM_grid_1_AutoML_20190415_201144_model_10\n",
      "XGBoost_grid_1_AutoML_20190415_201144_model_3\n",
      "GBM_grid_1_AutoML_20190415_201144_model_12\n",
      "GLM_grid_1_AutoML_20190415_201144_model_1\n",
      "StackedEnsemble_BestOfFamily_AutoML_20190415_201144\n",
      "StackedEnsemble_AllModels_AutoML_20190415_195347\n",
      "StackedEnsemble_BestOfFamily_AutoML_20190415_195347\n",
      "GBM_grid_1_AutoML_20190415_201144_model_4\n",
      "get_all_params done\n",
      "model_list :  43\n",
      "all_params :  43\n",
      "tryyyyyyyyyyyyyyyy           1\n",
      "done\n",
      "tryyyyyyyyyyyyyyyy           2\n",
      "done\n",
      "tryyyyyyyyyyyyyyyy           3\n",
      "done\n",
      "tryyyyyyyyyyyyyyyy           4\n",
      "done\n",
      "tryyyyyyyyyyyyyyyy           5\n",
      "done\n",
      "tryyyyyyyyyyyyyyyy           6\n",
      "done\n",
      "tryyyyyyyyyyyyyyyy           7\n",
      "done\n",
      "tryyyyyyyyyyyyyyyy           8\n",
      "done\n",
      "tryyyyyyyyyyyyyyyy           9\n",
      "done\n",
      "tryyyyyyyyyyyyyyyy           10\n",
      "done\n",
      "tryyyyyyyyyyyyyyyy           11\n",
      "done\n",
      "tryyyyyyyyyyyyyyyy           12\n",
      "done\n",
      "tryyyyyyyyyyyyyyyy           13\n",
      "done\n",
      "tryyyyyyyyyyyyyyyy           14\n",
      "done\n",
      "tryyyyyyyyyyyyyyyy           15\n",
      "done\n",
      "tryyyyyyyyyyyyyyyy           16\n",
      "done\n",
      "tryyyyyyyyyyyyyyyy           17\n",
      "done\n",
      "tryyyyyyyyyyyyyyyy           18\n",
      "done\n",
      "tryyyyyyyyyyyyyyyy           19\n",
      "done\n",
      "tryyyyyyyyyyyyyyyy           20\n",
      "done\n",
      "tryyyyyyyyyyyyyyyy           21\n",
      "done\n",
      "tryyyyyyyyyyyyyyyy           22\n",
      "done\n",
      "tryyyyyyyyyyyyyyyy           23\n",
      "done\n",
      "tryyyyyyyyyyyyyyyy           24\n",
      "done\n",
      "tryyyyyyyyyyyyyyyy           25\n",
      "done\n",
      "tryyyyyyyyyyyyyyyy           26\n",
      "done\n",
      "tryyyyyyyyyyyyyyyy           27\n",
      "done\n",
      "tryyyyyyyyyyyyyyyy           28\n",
      "done\n",
      "tryyyyyyyyyyyyyyyy           29\n",
      "done\n",
      "tryyyyyyyyyyyyyyyy           30\n",
      "done\n",
      "tryyyyyyyyyyyyyyyy           31\n",
      "done\n",
      "tryyyyyyyyyyyyyyyy           32\n",
      "done\n",
      "tryyyyyyyyyyyyyyyy           33\n",
      "done\n",
      "tryyyyyyyyyyyyyyyy           34\n",
      "done\n",
      "tryyyyyyyyyyyyyyyy           35\n",
      "done\n",
      "tryyyyyyyyyyyyyyyy           36\n",
      "done\n",
      "tryyyyyyyyyyyyyyyy           37\n",
      "done\n",
      "tryyyyyyyyyyyyyyyy           38\n",
      "done\n",
      "tryyyyyyyyyyyyyyyy           39\n",
      "done\n",
      "Warning: This model doesn't have variable importances\n",
      "tryyyyyyyyyyyyyyyy           40\n",
      "StackedEnsemble_BestOfFamily_AutoML_20190415_201144\n",
      "pass\n",
      "Warning: This model doesn't have variable importances\n",
      "tryyyyyyyyyyyyyyyy           41\n",
      "StackedEnsemble_AllModels_AutoML_20190415_195347\n",
      "pass\n",
      "Warning: This model doesn't have variable importances\n",
      "tryyyyyyyyyyyyyyyy           42\n",
      "StackedEnsemble_BestOfFamily_AutoML_20190415_195347\n",
      "pass\n",
      "tryyyyyyyyyyyyyyyy           43\n",
      "done\n"
     ]
    }
   ],
   "source": [
    "runtime = 20\n",
    "leaderBoard = get_leaderBoard(runtime)\n",
    "\n",
    "board_csv = board_to_csv(leaderBoard, runtime)\n",
    "board_csv.to_csv('result/300/leaderboard.csv', sep='\\t')\n",
    "\n",
    "params =  get_all_params(board_csv)\n",
    "with open('result/300/params.json', 'w') as f:\n",
    "    json.dump(ee, f)\n",
    "    \n",
    "all_varimp = get_all_varimp(board_csv)   \n",
    "all_varimp.to_csv('result/300/all_varimp.csv', sep='\\t')"
   ]
  },
  {
   "cell_type": "code",
   "execution_count": null,
   "metadata": {},
   "outputs": [],
   "source": []
  },
  {
   "cell_type": "code",
   "execution_count": null,
   "metadata": {},
   "outputs": [],
   "source": []
  },
  {
   "cell_type": "code",
   "execution_count": null,
   "metadata": {},
   "outputs": [],
   "source": []
  },
  {
   "cell_type": "code",
   "execution_count": null,
   "metadata": {},
   "outputs": [],
   "source": []
  },
  {
   "cell_type": "code",
   "execution_count": null,
   "metadata": {},
   "outputs": [],
   "source": []
  },
  {
   "cell_type": "code",
   "execution_count": null,
   "metadata": {},
   "outputs": [],
   "source": []
  },
  {
   "cell_type": "code",
   "execution_count": 137,
   "metadata": {},
   "outputs": [
    {
     "ename": "IndentationError",
     "evalue": "unindent does not match any outer indentation level (<tokenize>, line 7)",
     "output_type": "error",
     "traceback": [
      "\u001b[0;36m  File \u001b[0;32m\"<tokenize>\"\u001b[0;36m, line \u001b[0;32m7\u001b[0m\n\u001b[0;31m    print (new_varimp)\u001b[0m\n\u001b[0m    ^\u001b[0m\n\u001b[0;31mIndentationError\u001b[0m\u001b[0;31m:\u001b[0m unindent does not match any outer indentation level\n"
     ]
    }
   ],
   "source": [
    "tup1 = (i,j,)\n",
    "       # tup2 = (,)\n",
    "        #tup3 = tup1 + tup2\n",
    "        new = tup1\n",
    "        \n",
    "        new_varimp.append(new)\n",
    "    print (new_varimp)\n",
    "\n"
   ]
  },
  {
   "cell_type": "code",
   "execution_count": null,
   "metadata": {},
   "outputs": [],
   "source": [
    "vamp_csv = pd.DataFrame(varimp, \n",
    "                            columns = ['variable', \n",
    "                                       'relative_importance',\n",
    "                                       'scaled_importance',\n",
    "                                       'percentage']) \n",
    "    vamp_csv['model_id']  = i\n",
    "    result = frame.append(vamp_csv)"
   ]
  },
  {
   "cell_type": "code",
   "execution_count": null,
   "metadata": {},
   "outputs": [],
   "source": []
  },
  {
   "cell_type": "code",
   "execution_count": null,
   "metadata": {},
   "outputs": [],
   "source": []
  },
  {
   "cell_type": "code",
   "execution_count": null,
   "metadata": {},
   "outputs": [],
   "source": []
  },
  {
   "cell_type": "code",
   "execution_count": null,
   "metadata": {},
   "outputs": [],
   "source": []
  },
  {
   "cell_type": "code",
   "execution_count": null,
   "metadata": {},
   "outputs": [],
   "source": []
  },
  {
   "cell_type": "code",
   "execution_count": null,
   "metadata": {},
   "outputs": [],
   "source": []
  },
  {
   "cell_type": "code",
   "execution_count": 76,
   "metadata": {
    "scrolled": true
   },
   "outputs": [
    {
     "data": {
      "text/html": [
       "<div>\n",
       "<style scoped>\n",
       "    .dataframe tbody tr th:only-of-type {\n",
       "        vertical-align: middle;\n",
       "    }\n",
       "\n",
       "    .dataframe tbody tr th {\n",
       "        vertical-align: top;\n",
       "    }\n",
       "\n",
       "    .dataframe thead th {\n",
       "        text-align: right;\n",
       "    }\n",
       "</style>\n",
       "<table border=\"1\" class=\"dataframe\">\n",
       "  <thead>\n",
       "    <tr style=\"text-align: right;\">\n",
       "      <th></th>\n",
       "      <th>variable</th>\n",
       "      <th>relative_importance</th>\n",
       "      <th>scaled_importance</th>\n",
       "      <th>percentage</th>\n",
       "      <th>model_id</th>\n",
       "    </tr>\n",
       "  </thead>\n",
       "  <tbody>\n",
       "    <tr>\n",
       "      <th>0</th>\n",
       "      <td>supply_area</td>\n",
       "      <td>1.746461e+20</td>\n",
       "      <td>1.000000</td>\n",
       "      <td>0.281362</td>\n",
       "      <td>GBM_grid_1_AutoML_20190415_201144_model_4</td>\n",
       "    </tr>\n",
       "    <tr>\n",
       "      <th>1</th>\n",
       "      <td>total_parking_capacity_in_site</td>\n",
       "      <td>7.106299e+19</td>\n",
       "      <td>0.406897</td>\n",
       "      <td>0.114485</td>\n",
       "      <td>GBM_grid_1_AutoML_20190415_201144_model_4</td>\n",
       "    </tr>\n",
       "    <tr>\n",
       "      <th>2</th>\n",
       "      <td>total_household_count_of_area_type</td>\n",
       "      <td>6.636811e+19</td>\n",
       "      <td>0.380015</td>\n",
       "      <td>0.106922</td>\n",
       "      <td>GBM_grid_1_AutoML_20190415_201144_model_4</td>\n",
       "    </tr>\n",
       "    <tr>\n",
       "      <th>3</th>\n",
       "      <td>floor</td>\n",
       "      <td>6.378004e+19</td>\n",
       "      <td>0.365196</td>\n",
       "      <td>0.102752</td>\n",
       "      <td>GBM_grid_1_AutoML_20190415_201144_model_4</td>\n",
       "    </tr>\n",
       "    <tr>\n",
       "      <th>4</th>\n",
       "      <td>apartment_building_count_in_sites</td>\n",
       "      <td>5.247006e+19</td>\n",
       "      <td>0.300436</td>\n",
       "      <td>0.084531</td>\n",
       "      <td>GBM_grid_1_AutoML_20190415_201144_model_4</td>\n",
       "    </tr>\n",
       "    <tr>\n",
       "      <th>5</th>\n",
       "      <td>exclusive_use_area</td>\n",
       "      <td>4.634108e+19</td>\n",
       "      <td>0.265343</td>\n",
       "      <td>0.074657</td>\n",
       "      <td>GBM_grid_1_AutoML_20190415_201144_model_4</td>\n",
       "    </tr>\n",
       "    <tr>\n",
       "      <th>6</th>\n",
       "      <td>total_household_count_in_sites</td>\n",
       "      <td>3.700841e+19</td>\n",
       "      <td>0.211905</td>\n",
       "      <td>0.059622</td>\n",
       "      <td>GBM_grid_1_AutoML_20190415_201144_model_4</td>\n",
       "    </tr>\n",
       "    <tr>\n",
       "      <th>7</th>\n",
       "      <td>heat_fuel_cogeneration</td>\n",
       "      <td>3.146001e+19</td>\n",
       "      <td>0.180136</td>\n",
       "      <td>0.050683</td>\n",
       "      <td>GBM_grid_1_AutoML_20190415_201144_model_4</td>\n",
       "    </tr>\n",
       "    <tr>\n",
       "      <th>8</th>\n",
       "      <td>room_count</td>\n",
       "      <td>2.171885e+19</td>\n",
       "      <td>0.124359</td>\n",
       "      <td>0.034990</td>\n",
       "      <td>GBM_grid_1_AutoML_20190415_201144_model_4</td>\n",
       "    </tr>\n",
       "    <tr>\n",
       "      <th>9</th>\n",
       "      <td>city</td>\n",
       "      <td>2.121044e+19</td>\n",
       "      <td>0.121448</td>\n",
       "      <td>0.034171</td>\n",
       "      <td>GBM_grid_1_AutoML_20190415_201144_model_4</td>\n",
       "    </tr>\n",
       "    <tr>\n",
       "      <th>10</th>\n",
       "      <td>heat_type_individual</td>\n",
       "      <td>8.088873e+18</td>\n",
       "      <td>0.046316</td>\n",
       "      <td>0.013032</td>\n",
       "      <td>GBM_grid_1_AutoML_20190415_201144_model_4</td>\n",
       "    </tr>\n",
       "    <tr>\n",
       "      <th>11</th>\n",
       "      <td>bathroom_count</td>\n",
       "      <td>7.312704e+18</td>\n",
       "      <td>0.041872</td>\n",
       "      <td>0.011781</td>\n",
       "      <td>GBM_grid_1_AutoML_20190415_201144_model_4</td>\n",
       "    </tr>\n",
       "    <tr>\n",
       "      <th>12</th>\n",
       "      <td>heat_type_district</td>\n",
       "      <td>4.850913e+18</td>\n",
       "      <td>0.027776</td>\n",
       "      <td>0.007815</td>\n",
       "      <td>GBM_grid_1_AutoML_20190415_201144_model_4</td>\n",
       "    </tr>\n",
       "    <tr>\n",
       "      <th>13</th>\n",
       "      <td>front_door_structure_stairway</td>\n",
       "      <td>4.269403e+18</td>\n",
       "      <td>0.024446</td>\n",
       "      <td>0.006878</td>\n",
       "      <td>GBM_grid_1_AutoML_20190415_201144_model_4</td>\n",
       "    </tr>\n",
       "    <tr>\n",
       "      <th>14</th>\n",
       "      <td>heat_fuel_gas</td>\n",
       "      <td>3.680608e+18</td>\n",
       "      <td>0.021075</td>\n",
       "      <td>0.005930</td>\n",
       "      <td>GBM_grid_1_AutoML_20190415_201144_model_4</td>\n",
       "    </tr>\n",
       "    <tr>\n",
       "      <th>15</th>\n",
       "      <td>heat_type_central</td>\n",
       "      <td>2.334959e+18</td>\n",
       "      <td>0.013370</td>\n",
       "      <td>0.003762</td>\n",
       "      <td>GBM_grid_1_AutoML_20190415_201144_model_4</td>\n",
       "    </tr>\n",
       "    <tr>\n",
       "      <th>16</th>\n",
       "      <td>front_door_structure_mixed</td>\n",
       "      <td>2.159844e+18</td>\n",
       "      <td>0.012367</td>\n",
       "      <td>0.003480</td>\n",
       "      <td>GBM_grid_1_AutoML_20190415_201144_model_4</td>\n",
       "    </tr>\n",
       "    <tr>\n",
       "      <th>17</th>\n",
       "      <td>front_door_structure_corridor</td>\n",
       "      <td>1.952678e+18</td>\n",
       "      <td>0.011181</td>\n",
       "      <td>0.003146</td>\n",
       "      <td>GBM_grid_1_AutoML_20190415_201144_model_4</td>\n",
       "    </tr>\n",
       "  </tbody>\n",
       "</table>\n",
       "</div>"
      ],
      "text/plain": [
       "                              variable  relative_importance  \\\n",
       "0                          supply_area         1.746461e+20   \n",
       "1       total_parking_capacity_in_site         7.106299e+19   \n",
       "2   total_household_count_of_area_type         6.636811e+19   \n",
       "3                                floor         6.378004e+19   \n",
       "4    apartment_building_count_in_sites         5.247006e+19   \n",
       "5                   exclusive_use_area         4.634108e+19   \n",
       "6       total_household_count_in_sites         3.700841e+19   \n",
       "7               heat_fuel_cogeneration         3.146001e+19   \n",
       "8                           room_count         2.171885e+19   \n",
       "9                                 city         2.121044e+19   \n",
       "10                heat_type_individual         8.088873e+18   \n",
       "11                      bathroom_count         7.312704e+18   \n",
       "12                  heat_type_district         4.850913e+18   \n",
       "13       front_door_structure_stairway         4.269403e+18   \n",
       "14                       heat_fuel_gas         3.680608e+18   \n",
       "15                   heat_type_central         2.334959e+18   \n",
       "16          front_door_structure_mixed         2.159844e+18   \n",
       "17       front_door_structure_corridor         1.952678e+18   \n",
       "\n",
       "    scaled_importance  percentage                                   model_id  \n",
       "0            1.000000    0.281362  GBM_grid_1_AutoML_20190415_201144_model_4  \n",
       "1            0.406897    0.114485  GBM_grid_1_AutoML_20190415_201144_model_4  \n",
       "2            0.380015    0.106922  GBM_grid_1_AutoML_20190415_201144_model_4  \n",
       "3            0.365196    0.102752  GBM_grid_1_AutoML_20190415_201144_model_4  \n",
       "4            0.300436    0.084531  GBM_grid_1_AutoML_20190415_201144_model_4  \n",
       "5            0.265343    0.074657  GBM_grid_1_AutoML_20190415_201144_model_4  \n",
       "6            0.211905    0.059622  GBM_grid_1_AutoML_20190415_201144_model_4  \n",
       "7            0.180136    0.050683  GBM_grid_1_AutoML_20190415_201144_model_4  \n",
       "8            0.124359    0.034990  GBM_grid_1_AutoML_20190415_201144_model_4  \n",
       "9            0.121448    0.034171  GBM_grid_1_AutoML_20190415_201144_model_4  \n",
       "10           0.046316    0.013032  GBM_grid_1_AutoML_20190415_201144_model_4  \n",
       "11           0.041872    0.011781  GBM_grid_1_AutoML_20190415_201144_model_4  \n",
       "12           0.027776    0.007815  GBM_grid_1_AutoML_20190415_201144_model_4  \n",
       "13           0.024446    0.006878  GBM_grid_1_AutoML_20190415_201144_model_4  \n",
       "14           0.021075    0.005930  GBM_grid_1_AutoML_20190415_201144_model_4  \n",
       "15           0.013370    0.003762  GBM_grid_1_AutoML_20190415_201144_model_4  \n",
       "16           0.012367    0.003480  GBM_grid_1_AutoML_20190415_201144_model_4  \n",
       "17           0.011181    0.003146  GBM_grid_1_AutoML_20190415_201144_model_4  "
      ]
     },
     "execution_count": 76,
     "metadata": {},
     "output_type": "execute_result"
    }
   ],
   "source": [
    "vamp_csv"
   ]
  },
  {
   "cell_type": "code",
   "execution_count": null,
   "metadata": {},
   "outputs": [],
   "source": []
  },
  {
   "cell_type": "code",
   "execution_count": null,
   "metadata": {},
   "outputs": [],
   "source": []
  },
  {
   "cell_type": "code",
   "execution_count": null,
   "metadata": {},
   "outputs": [],
   "source": []
  },
  {
   "cell_type": "code",
   "execution_count": null,
   "metadata": {},
   "outputs": [],
   "source": []
  },
  {
   "cell_type": "code",
   "execution_count": null,
   "metadata": {},
   "outputs": [],
   "source": []
  },
  {
   "cell_type": "code",
   "execution_count": null,
   "metadata": {},
   "outputs": [],
   "source": []
  },
  {
   "cell_type": "code",
   "execution_count": null,
   "metadata": {},
   "outputs": [],
   "source": []
  },
  {
   "cell_type": "code",
   "execution_count": null,
   "metadata": {},
   "outputs": [],
   "source": [
    "varimp = best_model.varimp()"
   ]
  },
  {
   "cell_type": "code",
   "execution_count": null,
   "metadata": {},
   "outputs": [],
   "source": [
    "def get_varimp(board_csv):\n",
    "    \n",
    "    model_list = get_modelList(board_csv)\n",
    "    \n",
    "    \n",
    "    for i in model_list:  \n",
    "        print (i)\n",
    "        model = h2o.get_model(i)\n",
    "        varimp = model.varimp()\n",
    "        \n",
    "        \n",
    "        vamp_csv = pd.DataFrame(varimp, \n",
    "                                columns = ['variable', \n",
    "                                           'relative_importance', \n",
    "                                           'scaled_importance',\n",
    "                                           'percentage']) \n",
    "        vamp_csv['model_id'] = i\n",
    "    print ('done')\n",
    "      \n",
    "        "
   ]
  },
  {
   "cell_type": "code",
   "execution_count": 49,
   "metadata": {
    "scrolled": true
   },
   "outputs": [],
   "source": [
    "best_model = get_BestModel(board_csv)"
   ]
  },
  {
   "cell_type": "code",
   "execution_count": 55,
   "metadata": {
    "scrolled": true
   },
   "outputs": [
    {
     "data": {
      "text/plain": [
       "[('supply_area', 5.355707768835502e+20, 1.0, 0.2828908289899341),\n",
       " ('city', 3.4799806901901066e+20, 0.6497704580596941, 0.18381410353367608),\n",
       " ('exclusive_use_area',\n",
       "  2.3511374347003914e+20,\n",
       "  0.4389965875997752,\n",
       "  0.12418810858985264),\n",
       " ('apartment_building_count_in_sites',\n",
       "  1.1646203962873138e+20,\n",
       "  0.2174540595855809,\n",
       "  0.06151575918339151),\n",
       " ('total_parking_capacity_in_site',\n",
       "  1.1368426863669019e+20,\n",
       "  0.21226749767455794,\n",
       "  0.060048528384774605),\n",
       " ('room_count',\n",
       "  8.192512155898505e+19,\n",
       "  0.15296787109203705,\n",
       "  0.04327320786205174),\n",
       " ('floor', 7.808684961172134e+19, 0.14580117695387226, 0.041245815816188997),\n",
       " ('total_household_count_in_sites',\n",
       "  7.225703665111348e+19,\n",
       "  0.13491594345675886,\n",
       "  0.03816648308844159),\n",
       " ('heat_fuel_gas',\n",
       "  6.984222324349416e+19,\n",
       "  0.130407083915036,\n",
       "  0.036890968074884435),\n",
       " ('heat_fuel_cogeneration',\n",
       "  5.1422386418339545e+19,\n",
       "  0.09601417522733952,\n",
       "  0.02716152962484687),\n",
       " ('bathroom_count',\n",
       "  5.025567703792039e+19,\n",
       "  0.09383573414956421,\n",
       "  0.026545268622449287),\n",
       " ('total_household_count_of_area_type',\n",
       "  4.750154554587637e+19,\n",
       "  0.08869331112926777,\n",
       "  0.02509052431122071),\n",
       " ('heat_type_district',\n",
       "  3.301082891574208e+19,\n",
       "  0.06163672541625561,\n",
       "  0.01743646434922949),\n",
       " ('heat_type_individual',\n",
       "  1.934912646076485e+19,\n",
       "  0.03612804748861783,\n",
       "  0.010220293303842805),\n",
       " ('front_door_structure_stairway',\n",
       "  1.4116900268876497e+19,\n",
       "  0.026358608195581126,\n",
       "  0.007456608523468815),\n",
       " ('front_door_structure_mixed',\n",
       "  1.1968775605597503e+19,\n",
       "  0.022347701036346663,\n",
       "  0.006321959672191318),\n",
       " ('heat_type_central',\n",
       "  8.398264426511204e+18,\n",
       "  0.01568096092804042,\n",
       "  0.004436000036292121),\n",
       " ('front_door_structure_corridor',\n",
       "  6.24293961133772e+18,\n",
       "  0.011656609883879324,\n",
       "  0.0032975480332628816),\n",
       " 'gg']"
      ]
     },
     "execution_count": 55,
     "metadata": {},
     "output_type": "execute_result"
    }
   ],
   "source": [
    "fg = best_model.varimp()\n",
    "fg"
   ]
  },
  {
   "cell_type": "code",
   "execution_count": 54,
   "metadata": {},
   "outputs": [
    {
     "data": {
      "text/plain": [
       "tuple"
      ]
     },
     "execution_count": 54,
     "metadata": {},
     "output_type": "execute_result"
    }
   ],
   "source": [
    "type(fg[0])"
   ]
  },
  {
   "cell_type": "code",
   "execution_count": 102,
   "metadata": {},
   "outputs": [
    {
     "data": {
      "text/html": [
       "<div>\n",
       "<style scoped>\n",
       "    .dataframe tbody tr th:only-of-type {\n",
       "        vertical-align: middle;\n",
       "    }\n",
       "\n",
       "    .dataframe tbody tr th {\n",
       "        vertical-align: top;\n",
       "    }\n",
       "\n",
       "    .dataframe thead th {\n",
       "        text-align: right;\n",
       "    }\n",
       "</style>\n",
       "<table border=\"1\" class=\"dataframe\">\n",
       "  <thead>\n",
       "    <tr style=\"text-align: right;\">\n",
       "      <th></th>\n",
       "      <th>variable</th>\n",
       "      <th>relative_importance</th>\n",
       "      <th>scaled_importance</th>\n",
       "      <th>percentage</th>\n",
       "    </tr>\n",
       "  </thead>\n",
       "  <tbody>\n",
       "    <tr>\n",
       "      <th>0</th>\n",
       "      <td>supply_area</td>\n",
       "      <td>7.661354e+20</td>\n",
       "      <td>1.000000</td>\n",
       "      <td>0.278459</td>\n",
       "    </tr>\n",
       "    <tr>\n",
       "      <th>1</th>\n",
       "      <td>exclusive_use_area</td>\n",
       "      <td>5.134831e+20</td>\n",
       "      <td>0.670225</td>\n",
       "      <td>0.186630</td>\n",
       "    </tr>\n",
       "    <tr>\n",
       "      <th>2</th>\n",
       "      <td>city</td>\n",
       "      <td>4.754017e+20</td>\n",
       "      <td>0.620519</td>\n",
       "      <td>0.172789</td>\n",
       "    </tr>\n",
       "    <tr>\n",
       "      <th>3</th>\n",
       "      <td>apartment_building_count_in_sites</td>\n",
       "      <td>1.845275e+20</td>\n",
       "      <td>0.240855</td>\n",
       "      <td>0.067068</td>\n",
       "    </tr>\n",
       "    <tr>\n",
       "      <th>4</th>\n",
       "      <td>total_parking_capacity_in_site</td>\n",
       "      <td>1.584386e+20</td>\n",
       "      <td>0.206802</td>\n",
       "      <td>0.057586</td>\n",
       "    </tr>\n",
       "    <tr>\n",
       "      <th>5</th>\n",
       "      <td>total_household_count_in_sites</td>\n",
       "      <td>1.223583e+20</td>\n",
       "      <td>0.159708</td>\n",
       "      <td>0.044472</td>\n",
       "    </tr>\n",
       "    <tr>\n",
       "      <th>6</th>\n",
       "      <td>total_household_count_of_area_type</td>\n",
       "      <td>9.606162e+19</td>\n",
       "      <td>0.125385</td>\n",
       "      <td>0.034914</td>\n",
       "    </tr>\n",
       "    <tr>\n",
       "      <th>7</th>\n",
       "      <td>floor</td>\n",
       "      <td>9.330845e+19</td>\n",
       "      <td>0.121791</td>\n",
       "      <td>0.033914</td>\n",
       "    </tr>\n",
       "    <tr>\n",
       "      <th>8</th>\n",
       "      <td>heat_type_individual</td>\n",
       "      <td>7.657353e+19</td>\n",
       "      <td>0.099948</td>\n",
       "      <td>0.027831</td>\n",
       "    </tr>\n",
       "    <tr>\n",
       "      <th>9</th>\n",
       "      <td>heat_fuel_gas</td>\n",
       "      <td>5.298236e+19</td>\n",
       "      <td>0.069155</td>\n",
       "      <td>0.019257</td>\n",
       "    </tr>\n",
       "    <tr>\n",
       "      <th>10</th>\n",
       "      <td>heat_type_district</td>\n",
       "      <td>5.226003e+19</td>\n",
       "      <td>0.068213</td>\n",
       "      <td>0.018994</td>\n",
       "    </tr>\n",
       "    <tr>\n",
       "      <th>11</th>\n",
       "      <td>heat_fuel_cogeneration</td>\n",
       "      <td>4.731369e+19</td>\n",
       "      <td>0.061756</td>\n",
       "      <td>0.017197</td>\n",
       "    </tr>\n",
       "    <tr>\n",
       "      <th>12</th>\n",
       "      <td>bathroom_count</td>\n",
       "      <td>3.328086e+19</td>\n",
       "      <td>0.043440</td>\n",
       "      <td>0.012096</td>\n",
       "    </tr>\n",
       "    <tr>\n",
       "      <th>13</th>\n",
       "      <td>room_count</td>\n",
       "      <td>2.779572e+19</td>\n",
       "      <td>0.036280</td>\n",
       "      <td>0.010103</td>\n",
       "    </tr>\n",
       "    <tr>\n",
       "      <th>14</th>\n",
       "      <td>front_door_structure_stairway</td>\n",
       "      <td>2.026118e+19</td>\n",
       "      <td>0.026446</td>\n",
       "      <td>0.007364</td>\n",
       "    </tr>\n",
       "    <tr>\n",
       "      <th>15</th>\n",
       "      <td>front_door_structure_corridor</td>\n",
       "      <td>1.457761e+19</td>\n",
       "      <td>0.019027</td>\n",
       "      <td>0.005298</td>\n",
       "    </tr>\n",
       "    <tr>\n",
       "      <th>16</th>\n",
       "      <td>heat_type_central</td>\n",
       "      <td>9.879154e+18</td>\n",
       "      <td>0.012895</td>\n",
       "      <td>0.003591</td>\n",
       "    </tr>\n",
       "    <tr>\n",
       "      <th>17</th>\n",
       "      <td>front_door_structure_mixed</td>\n",
       "      <td>6.702152e+18</td>\n",
       "      <td>0.008748</td>\n",
       "      <td>0.002436</td>\n",
       "    </tr>\n",
       "  </tbody>\n",
       "</table>\n",
       "</div>"
      ],
      "text/plain": [
       "                              variable  relative_importance  \\\n",
       "0                          supply_area         7.661354e+20   \n",
       "1                   exclusive_use_area         5.134831e+20   \n",
       "2                                 city         4.754017e+20   \n",
       "3    apartment_building_count_in_sites         1.845275e+20   \n",
       "4       total_parking_capacity_in_site         1.584386e+20   \n",
       "5       total_household_count_in_sites         1.223583e+20   \n",
       "6   total_household_count_of_area_type         9.606162e+19   \n",
       "7                                floor         9.330845e+19   \n",
       "8                 heat_type_individual         7.657353e+19   \n",
       "9                        heat_fuel_gas         5.298236e+19   \n",
       "10                  heat_type_district         5.226003e+19   \n",
       "11              heat_fuel_cogeneration         4.731369e+19   \n",
       "12                      bathroom_count         3.328086e+19   \n",
       "13                          room_count         2.779572e+19   \n",
       "14       front_door_structure_stairway         2.026118e+19   \n",
       "15       front_door_structure_corridor         1.457761e+19   \n",
       "16                   heat_type_central         9.879154e+18   \n",
       "17          front_door_structure_mixed         6.702152e+18   \n",
       "\n",
       "    scaled_importance  percentage  \n",
       "0            1.000000    0.278459  \n",
       "1            0.670225    0.186630  \n",
       "2            0.620519    0.172789  \n",
       "3            0.240855    0.067068  \n",
       "4            0.206802    0.057586  \n",
       "5            0.159708    0.044472  \n",
       "6            0.125385    0.034914  \n",
       "7            0.121791    0.033914  \n",
       "8            0.099948    0.027831  \n",
       "9            0.069155    0.019257  \n",
       "10           0.068213    0.018994  \n",
       "11           0.061756    0.017197  \n",
       "12           0.043440    0.012096  \n",
       "13           0.036280    0.010103  \n",
       "14           0.026446    0.007364  \n",
       "15           0.019027    0.005298  \n",
       "16           0.012895    0.003591  \n",
       "17           0.008748    0.002436  "
      ]
     },
     "execution_count": 102,
     "metadata": {},
     "output_type": "execute_result"
    }
   ],
   "source": [
    "dfObj = pd.DataFrame(fg, columns = ['variable', 'relative_importance', 'scaled_importance','percentage']) \n",
    "dfObj"
   ]
  },
  {
   "cell_type": "code",
   "execution_count": 104,
   "metadata": {},
   "outputs": [
    {
     "data": {
      "text/html": [
       "<div>\n",
       "<style scoped>\n",
       "    .dataframe tbody tr th:only-of-type {\n",
       "        vertical-align: middle;\n",
       "    }\n",
       "\n",
       "    .dataframe tbody tr th {\n",
       "        vertical-align: top;\n",
       "    }\n",
       "\n",
       "    .dataframe thead th {\n",
       "        text-align: right;\n",
       "    }\n",
       "</style>\n",
       "<table border=\"1\" class=\"dataframe\">\n",
       "  <thead>\n",
       "    <tr style=\"text-align: right;\">\n",
       "      <th></th>\n",
       "      <th>variable</th>\n",
       "      <th>relative_importance</th>\n",
       "      <th>scaled_importance</th>\n",
       "      <th>percentage</th>\n",
       "      <th>model_id</th>\n",
       "    </tr>\n",
       "  </thead>\n",
       "  <tbody>\n",
       "    <tr>\n",
       "      <th>0</th>\n",
       "      <td>supply_area</td>\n",
       "      <td>7.661354e+20</td>\n",
       "      <td>1.000000</td>\n",
       "      <td>0.278459</td>\n",
       "      <td>XGBoost_1_AutoML_20190415_124010</td>\n",
       "    </tr>\n",
       "    <tr>\n",
       "      <th>1</th>\n",
       "      <td>exclusive_use_area</td>\n",
       "      <td>5.134831e+20</td>\n",
       "      <td>0.670225</td>\n",
       "      <td>0.186630</td>\n",
       "      <td>XGBoost_1_AutoML_20190415_124010</td>\n",
       "    </tr>\n",
       "    <tr>\n",
       "      <th>2</th>\n",
       "      <td>city</td>\n",
       "      <td>4.754017e+20</td>\n",
       "      <td>0.620519</td>\n",
       "      <td>0.172789</td>\n",
       "      <td>XGBoost_1_AutoML_20190415_124010</td>\n",
       "    </tr>\n",
       "    <tr>\n",
       "      <th>3</th>\n",
       "      <td>apartment_building_count_in_sites</td>\n",
       "      <td>1.845275e+20</td>\n",
       "      <td>0.240855</td>\n",
       "      <td>0.067068</td>\n",
       "      <td>XGBoost_1_AutoML_20190415_124010</td>\n",
       "    </tr>\n",
       "    <tr>\n",
       "      <th>4</th>\n",
       "      <td>total_parking_capacity_in_site</td>\n",
       "      <td>1.584386e+20</td>\n",
       "      <td>0.206802</td>\n",
       "      <td>0.057586</td>\n",
       "      <td>XGBoost_1_AutoML_20190415_124010</td>\n",
       "    </tr>\n",
       "    <tr>\n",
       "      <th>5</th>\n",
       "      <td>total_household_count_in_sites</td>\n",
       "      <td>1.223583e+20</td>\n",
       "      <td>0.159708</td>\n",
       "      <td>0.044472</td>\n",
       "      <td>XGBoost_1_AutoML_20190415_124010</td>\n",
       "    </tr>\n",
       "    <tr>\n",
       "      <th>6</th>\n",
       "      <td>total_household_count_of_area_type</td>\n",
       "      <td>9.606162e+19</td>\n",
       "      <td>0.125385</td>\n",
       "      <td>0.034914</td>\n",
       "      <td>XGBoost_1_AutoML_20190415_124010</td>\n",
       "    </tr>\n",
       "    <tr>\n",
       "      <th>7</th>\n",
       "      <td>floor</td>\n",
       "      <td>9.330845e+19</td>\n",
       "      <td>0.121791</td>\n",
       "      <td>0.033914</td>\n",
       "      <td>XGBoost_1_AutoML_20190415_124010</td>\n",
       "    </tr>\n",
       "    <tr>\n",
       "      <th>8</th>\n",
       "      <td>heat_type_individual</td>\n",
       "      <td>7.657353e+19</td>\n",
       "      <td>0.099948</td>\n",
       "      <td>0.027831</td>\n",
       "      <td>XGBoost_1_AutoML_20190415_124010</td>\n",
       "    </tr>\n",
       "    <tr>\n",
       "      <th>9</th>\n",
       "      <td>heat_fuel_gas</td>\n",
       "      <td>5.298236e+19</td>\n",
       "      <td>0.069155</td>\n",
       "      <td>0.019257</td>\n",
       "      <td>XGBoost_1_AutoML_20190415_124010</td>\n",
       "    </tr>\n",
       "    <tr>\n",
       "      <th>10</th>\n",
       "      <td>heat_type_district</td>\n",
       "      <td>5.226003e+19</td>\n",
       "      <td>0.068213</td>\n",
       "      <td>0.018994</td>\n",
       "      <td>XGBoost_1_AutoML_20190415_124010</td>\n",
       "    </tr>\n",
       "    <tr>\n",
       "      <th>11</th>\n",
       "      <td>heat_fuel_cogeneration</td>\n",
       "      <td>4.731369e+19</td>\n",
       "      <td>0.061756</td>\n",
       "      <td>0.017197</td>\n",
       "      <td>XGBoost_1_AutoML_20190415_124010</td>\n",
       "    </tr>\n",
       "    <tr>\n",
       "      <th>12</th>\n",
       "      <td>bathroom_count</td>\n",
       "      <td>3.328086e+19</td>\n",
       "      <td>0.043440</td>\n",
       "      <td>0.012096</td>\n",
       "      <td>XGBoost_1_AutoML_20190415_124010</td>\n",
       "    </tr>\n",
       "    <tr>\n",
       "      <th>13</th>\n",
       "      <td>room_count</td>\n",
       "      <td>2.779572e+19</td>\n",
       "      <td>0.036280</td>\n",
       "      <td>0.010103</td>\n",
       "      <td>XGBoost_1_AutoML_20190415_124010</td>\n",
       "    </tr>\n",
       "    <tr>\n",
       "      <th>14</th>\n",
       "      <td>front_door_structure_stairway</td>\n",
       "      <td>2.026118e+19</td>\n",
       "      <td>0.026446</td>\n",
       "      <td>0.007364</td>\n",
       "      <td>XGBoost_1_AutoML_20190415_124010</td>\n",
       "    </tr>\n",
       "    <tr>\n",
       "      <th>15</th>\n",
       "      <td>front_door_structure_corridor</td>\n",
       "      <td>1.457761e+19</td>\n",
       "      <td>0.019027</td>\n",
       "      <td>0.005298</td>\n",
       "      <td>XGBoost_1_AutoML_20190415_124010</td>\n",
       "    </tr>\n",
       "    <tr>\n",
       "      <th>16</th>\n",
       "      <td>heat_type_central</td>\n",
       "      <td>9.879154e+18</td>\n",
       "      <td>0.012895</td>\n",
       "      <td>0.003591</td>\n",
       "      <td>XGBoost_1_AutoML_20190415_124010</td>\n",
       "    </tr>\n",
       "    <tr>\n",
       "      <th>17</th>\n",
       "      <td>front_door_structure_mixed</td>\n",
       "      <td>6.702152e+18</td>\n",
       "      <td>0.008748</td>\n",
       "      <td>0.002436</td>\n",
       "      <td>XGBoost_1_AutoML_20190415_124010</td>\n",
       "    </tr>\n",
       "  </tbody>\n",
       "</table>\n",
       "</div>"
      ],
      "text/plain": [
       "                              variable  relative_importance  \\\n",
       "0                          supply_area         7.661354e+20   \n",
       "1                   exclusive_use_area         5.134831e+20   \n",
       "2                                 city         4.754017e+20   \n",
       "3    apartment_building_count_in_sites         1.845275e+20   \n",
       "4       total_parking_capacity_in_site         1.584386e+20   \n",
       "5       total_household_count_in_sites         1.223583e+20   \n",
       "6   total_household_count_of_area_type         9.606162e+19   \n",
       "7                                floor         9.330845e+19   \n",
       "8                 heat_type_individual         7.657353e+19   \n",
       "9                        heat_fuel_gas         5.298236e+19   \n",
       "10                  heat_type_district         5.226003e+19   \n",
       "11              heat_fuel_cogeneration         4.731369e+19   \n",
       "12                      bathroom_count         3.328086e+19   \n",
       "13                          room_count         2.779572e+19   \n",
       "14       front_door_structure_stairway         2.026118e+19   \n",
       "15       front_door_structure_corridor         1.457761e+19   \n",
       "16                   heat_type_central         9.879154e+18   \n",
       "17          front_door_structure_mixed         6.702152e+18   \n",
       "\n",
       "    scaled_importance  percentage                          model_id  \n",
       "0            1.000000    0.278459  XGBoost_1_AutoML_20190415_124010  \n",
       "1            0.670225    0.186630  XGBoost_1_AutoML_20190415_124010  \n",
       "2            0.620519    0.172789  XGBoost_1_AutoML_20190415_124010  \n",
       "3            0.240855    0.067068  XGBoost_1_AutoML_20190415_124010  \n",
       "4            0.206802    0.057586  XGBoost_1_AutoML_20190415_124010  \n",
       "5            0.159708    0.044472  XGBoost_1_AutoML_20190415_124010  \n",
       "6            0.125385    0.034914  XGBoost_1_AutoML_20190415_124010  \n",
       "7            0.121791    0.033914  XGBoost_1_AutoML_20190415_124010  \n",
       "8            0.099948    0.027831  XGBoost_1_AutoML_20190415_124010  \n",
       "9            0.069155    0.019257  XGBoost_1_AutoML_20190415_124010  \n",
       "10           0.068213    0.018994  XGBoost_1_AutoML_20190415_124010  \n",
       "11           0.061756    0.017197  XGBoost_1_AutoML_20190415_124010  \n",
       "12           0.043440    0.012096  XGBoost_1_AutoML_20190415_124010  \n",
       "13           0.036280    0.010103  XGBoost_1_AutoML_20190415_124010  \n",
       "14           0.026446    0.007364  XGBoost_1_AutoML_20190415_124010  \n",
       "15           0.019027    0.005298  XGBoost_1_AutoML_20190415_124010  \n",
       "16           0.012895    0.003591  XGBoost_1_AutoML_20190415_124010  \n",
       "17           0.008748    0.002436  XGBoost_1_AutoML_20190415_124010  "
      ]
     },
     "execution_count": 104,
     "metadata": {},
     "output_type": "execute_result"
    }
   ],
   "source": [
    "model_id = best_model.model_id\n",
    "dfObj['model_id'] = model_id\n",
    "dfObj"
   ]
  },
  {
   "cell_type": "code",
   "execution_count": null,
   "metadata": {},
   "outputs": [],
   "source": []
  },
  {
   "cell_type": "code",
   "execution_count": 58,
   "metadata": {},
   "outputs": [
    {
     "ename": "TypeError",
     "evalue": "'NoneType' object is not iterable",
     "output_type": "error",
     "traceback": [
      "\u001b[0;31m---------------------------------------------------------------------------\u001b[0m",
      "\u001b[0;31mTypeError\u001b[0m                                 Traceback (most recent call last)",
      "\u001b[0;32m<ipython-input-58-218b72974870>\u001b[0m in \u001b[0;36m<module>\u001b[0;34m\u001b[0m\n\u001b[1;32m      1\u001b[0m \u001b[0mmodel_list\u001b[0m \u001b[0;34m=\u001b[0m \u001b[0mget_modelList\u001b[0m\u001b[0;34m(\u001b[0m\u001b[0mboard_csv\u001b[0m\u001b[0;34m)\u001b[0m\u001b[0;34m\u001b[0m\u001b[0;34m\u001b[0m\u001b[0m\n\u001b[1;32m      2\u001b[0m \u001b[0;34m\u001b[0m\u001b[0m\n\u001b[0;32m----> 3\u001b[0;31m \u001b[0;32mfor\u001b[0m \u001b[0mi\u001b[0m \u001b[0;32min\u001b[0m \u001b[0mmodel_list\u001b[0m\u001b[0;34m:\u001b[0m\u001b[0;34m\u001b[0m\u001b[0;34m\u001b[0m\u001b[0m\n\u001b[0m\u001b[1;32m      4\u001b[0m     \u001b[0mprint\u001b[0m \u001b[0;34m(\u001b[0m\u001b[0mi\u001b[0m\u001b[0;34m)\u001b[0m\u001b[0;34m\u001b[0m\u001b[0;34m\u001b[0m\u001b[0m\n\u001b[1;32m      5\u001b[0m \u001b[0;34m\u001b[0m\u001b[0m\n",
      "\u001b[0;31mTypeError\u001b[0m: 'NoneType' object is not iterable"
     ]
    }
   ],
   "source": [
    "model_list = get_modelList(board_csv)\n",
    "\n",
    "for i in model_list:  \n",
    "    print (i)\n",
    "    \n",
    "    model = h2o.get_model(i)\n",
    "    varimp = model.varimp()\n",
    "    vamp_csv = pd.DataFrame(varimp, \n",
    "                                columns = ['variable', \n",
    "                                           'relative_importance', \n",
    "                                           'scaled_importance',\n",
    "                                           'percentage']) \n",
    "    vamp_csv['model_id'] = i\n",
    "    print ('done')"
   ]
  },
  {
   "cell_type": "code",
   "execution_count": null,
   "metadata": {},
   "outputs": [],
   "source": []
  },
  {
   "cell_type": "code",
   "execution_count": null,
   "metadata": {},
   "outputs": [],
   "source": []
  },
  {
   "cell_type": "code",
   "execution_count": null,
   "metadata": {},
   "outputs": [],
   "source": []
  },
  {
   "cell_type": "code",
   "execution_count": 61,
   "metadata": {},
   "outputs": [
    {
     "name": "stdout",
     "output_type": "stream",
     "text": [
      "None\n"
     ]
    }
   ],
   "source": [
    "model_list = get_modelList(board_csv)\n",
    "print(model_list)"
   ]
  },
  {
   "cell_type": "code",
   "execution_count": null,
   "metadata": {},
   "outputs": [],
   "source": []
  },
  {
   "cell_type": "code",
   "execution_count": null,
   "metadata": {},
   "outputs": [],
   "source": []
  },
  {
   "cell_type": "code",
   "execution_count": null,
   "metadata": {},
   "outputs": [],
   "source": []
  },
  {
   "cell_type": "code",
   "execution_count": null,
   "metadata": {},
   "outputs": [],
   "source": []
  },
  {
   "cell_type": "code",
   "execution_count": 105,
   "metadata": {},
   "outputs": [
    {
     "data": {
      "text/plain": [
       "{'model_id': {'default': None,\n",
       "  'actual': {'__meta': {'schema_version': 3,\n",
       "    'schema_name': 'ModelKeyV3',\n",
       "    'schema_type': 'Key<Model>'},\n",
       "   'name': 'XGBoost_1_AutoML_20190415_124010',\n",
       "   'type': 'Key<Model>',\n",
       "   'URL': '/3/Models/XGBoost_1_AutoML_20190415_124010'}},\n",
       " 'training_frame': {'default': None,\n",
       "  'actual': {'__meta': {'schema_version': 3,\n",
       "    'schema_name': 'FrameKeyV3',\n",
       "    'schema_type': 'Key<Frame>'},\n",
       "   'name': 'automl_training_trainPriceCleaned.hex',\n",
       "   'type': 'Key<Frame>',\n",
       "   'URL': '/3/Frames/automl_training_trainPriceCleaned.hex'}},\n",
       " 'validation_frame': {'default': None, 'actual': None},\n",
       " 'nfolds': {'default': 0, 'actual': 5},\n",
       " 'keep_cross_validation_models': {'default': True, 'actual': False},\n",
       " 'keep_cross_validation_predictions': {'default': False, 'actual': True},\n",
       " 'keep_cross_validation_fold_assignment': {'default': False, 'actual': False},\n",
       " 'score_each_iteration': {'default': False, 'actual': False},\n",
       " 'fold_assignment': {'default': 'AUTO', 'actual': 'Modulo'},\n",
       " 'fold_column': {'default': None, 'actual': None},\n",
       " 'response_column': {'default': None,\n",
       "  'actual': {'__meta': {'schema_version': 3,\n",
       "    'schema_name': 'ColSpecifierV3',\n",
       "    'schema_type': 'VecSpecifier'},\n",
       "   'column_name': 'transaction_real_price',\n",
       "   'is_member_of_frames': None}},\n",
       " 'ignored_columns': {'default': None, 'actual': []},\n",
       " 'ignore_const_cols': {'default': True, 'actual': True},\n",
       " 'offset_column': {'default': None, 'actual': None},\n",
       " 'weights_column': {'default': None, 'actual': None},\n",
       " 'stopping_rounds': {'default': 0, 'actual': 0},\n",
       " 'stopping_metric': {'default': 'AUTO', 'actual': 'deviance'},\n",
       " 'stopping_tolerance': {'default': 0.001, 'actual': 0.014965432360392486},\n",
       " 'max_runtime_secs': {'default': 0.0, 'actual': 0.0},\n",
       " 'seed': {'default': -1, 'actual': -771981113382198050},\n",
       " 'distribution': {'default': 'AUTO', 'actual': 'AUTO'},\n",
       " 'tweedie_power': {'default': 1.5, 'actual': 1.5},\n",
       " 'categorical_encoding': {'default': 'AUTO', 'actual': 'AUTO'},\n",
       " 'quiet_mode': {'default': True, 'actual': True},\n",
       " 'export_checkpoints_dir': {'default': None, 'actual': None},\n",
       " 'ntrees': {'default': 50, 'actual': 104},\n",
       " 'max_depth': {'default': 6, 'actual': 5},\n",
       " 'min_rows': {'default': 1.0, 'actual': 3.0},\n",
       " 'min_child_weight': {'default': 1.0, 'actual': 1.0},\n",
       " 'learn_rate': {'default': 0.3, 'actual': 0.05},\n",
       " 'eta': {'default': 0.3, 'actual': 0.3},\n",
       " 'sample_rate': {'default': 1.0, 'actual': 0.8},\n",
       " 'subsample': {'default': 1.0, 'actual': 1.0},\n",
       " 'col_sample_rate': {'default': 1.0, 'actual': 0.8},\n",
       " 'colsample_bylevel': {'default': 1.0, 'actual': 1.0},\n",
       " 'col_sample_rate_per_tree': {'default': 1.0, 'actual': 0.8},\n",
       " 'colsample_bytree': {'default': 1.0, 'actual': 1.0},\n",
       " 'max_abs_leafnode_pred': {'default': 0.0, 'actual': 0.0},\n",
       " 'max_delta_step': {'default': 0.0, 'actual': 0.0},\n",
       " 'monotone_constraints': {'default': None, 'actual': None},\n",
       " 'score_tree_interval': {'default': 0, 'actual': 5},\n",
       " 'min_split_improvement': {'default': 0.0, 'actual': 0.0},\n",
       " 'gamma': {'default': 0.0, 'actual': 0.0},\n",
       " 'nthread': {'default': -1, 'actual': -1},\n",
       " 'max_bins': {'default': 256, 'actual': 256},\n",
       " 'max_leaves': {'default': 0, 'actual': 0},\n",
       " 'min_sum_hessian_in_leaf': {'default': 100.0, 'actual': 100.0},\n",
       " 'min_data_in_leaf': {'default': 0.0, 'actual': 0.0},\n",
       " 'sample_type': {'default': 'uniform', 'actual': 'uniform'},\n",
       " 'normalize_type': {'default': 'tree', 'actual': 'tree'},\n",
       " 'rate_drop': {'default': 0.0, 'actual': 0.0},\n",
       " 'one_drop': {'default': False, 'actual': False},\n",
       " 'skip_drop': {'default': 0.0, 'actual': 0.0},\n",
       " 'tree_method': {'default': 'auto', 'actual': 'auto'},\n",
       " 'grow_policy': {'default': 'depthwise', 'actual': 'depthwise'},\n",
       " 'booster': {'default': 'gbtree', 'actual': 'gbtree'},\n",
       " 'reg_lambda': {'default': 1.0, 'actual': 1.0},\n",
       " 'reg_alpha': {'default': 0.0, 'actual': 0.0},\n",
       " 'dmatrix_type': {'default': 'auto', 'actual': 'auto'},\n",
       " 'backend': {'default': 'auto', 'actual': 'auto'},\n",
       " 'gpu_id': {'default': 0, 'actual': 0}}"
      ]
     },
     "execution_count": 105,
     "metadata": {},
     "output_type": "execute_result"
    }
   ],
   "source": [
    "params = best_model.params\n",
    "params"
   ]
  },
  {
   "cell_type": "code",
   "execution_count": null,
   "metadata": {},
   "outputs": [],
   "source": []
  },
  {
   "cell_type": "code",
   "execution_count": null,
   "metadata": {},
   "outputs": [],
   "source": []
  },
  {
   "cell_type": "code",
   "execution_count": null,
   "metadata": {},
   "outputs": [],
   "source": []
  },
  {
   "cell_type": "code",
   "execution_count": null,
   "metadata": {},
   "outputs": [],
   "source": []
  },
  {
   "cell_type": "code",
   "execution_count": null,
   "metadata": {},
   "outputs": [],
   "source": []
  },
  {
   "cell_type": "code",
   "execution_count": 13,
   "metadata": {},
   "outputs": [
    {
     "data": {
      "text/plain": [
       "{'model_id': {'default': None,\n",
       "  'actual': {'__meta': {'schema_version': 3,\n",
       "    'schema_name': 'ModelKeyV3',\n",
       "    'schema_type': 'Key<Model>'},\n",
       "   'name': 'XGBoost_1_AutoML_20190415_124010',\n",
       "   'type': 'Key<Model>',\n",
       "   'URL': '/3/Models/XGBoost_1_AutoML_20190415_124010'}},\n",
       " 'training_frame': {'default': None,\n",
       "  'actual': {'__meta': {'schema_version': 3,\n",
       "    'schema_name': 'FrameKeyV3',\n",
       "    'schema_type': 'Key<Frame>'},\n",
       "   'name': 'automl_training_trainPriceCleaned.hex',\n",
       "   'type': 'Key<Frame>',\n",
       "   'URL': '/3/Frames/automl_training_trainPriceCleaned.hex'}},\n",
       " 'validation_frame': {'default': None, 'actual': None},\n",
       " 'nfolds': {'default': 0, 'actual': 5},\n",
       " 'keep_cross_validation_models': {'default': True, 'actual': False},\n",
       " 'keep_cross_validation_predictions': {'default': False, 'actual': True},\n",
       " 'keep_cross_validation_fold_assignment': {'default': False, 'actual': False},\n",
       " 'score_each_iteration': {'default': False, 'actual': False},\n",
       " 'fold_assignment': {'default': 'AUTO', 'actual': 'Modulo'},\n",
       " 'fold_column': {'default': None, 'actual': None},\n",
       " 'response_column': {'default': None,\n",
       "  'actual': {'__meta': {'schema_version': 3,\n",
       "    'schema_name': 'ColSpecifierV3',\n",
       "    'schema_type': 'VecSpecifier'},\n",
       "   'column_name': 'transaction_real_price',\n",
       "   'is_member_of_frames': None}},\n",
       " 'ignored_columns': {'default': None, 'actual': []},\n",
       " 'ignore_const_cols': {'default': True, 'actual': True},\n",
       " 'offset_column': {'default': None, 'actual': None},\n",
       " 'weights_column': {'default': None, 'actual': None},\n",
       " 'stopping_rounds': {'default': 0, 'actual': 0},\n",
       " 'stopping_metric': {'default': 'AUTO', 'actual': 'deviance'},\n",
       " 'stopping_tolerance': {'default': 0.001, 'actual': 0.014965432360392486},\n",
       " 'max_runtime_secs': {'default': 0.0, 'actual': 0.0},\n",
       " 'seed': {'default': -1, 'actual': -771981113382198050},\n",
       " 'distribution': {'default': 'AUTO', 'actual': 'AUTO'},\n",
       " 'tweedie_power': {'default': 1.5, 'actual': 1.5},\n",
       " 'categorical_encoding': {'default': 'AUTO', 'actual': 'AUTO'},\n",
       " 'quiet_mode': {'default': True, 'actual': True},\n",
       " 'export_checkpoints_dir': {'default': None, 'actual': None},\n",
       " 'ntrees': {'default': 50, 'actual': 104},\n",
       " 'max_depth': {'default': 6, 'actual': 5},\n",
       " 'min_rows': {'default': 1.0, 'actual': 3.0},\n",
       " 'min_child_weight': {'default': 1.0, 'actual': 1.0},\n",
       " 'learn_rate': {'default': 0.3, 'actual': 0.05},\n",
       " 'eta': {'default': 0.3, 'actual': 0.3},\n",
       " 'sample_rate': {'default': 1.0, 'actual': 0.8},\n",
       " 'subsample': {'default': 1.0, 'actual': 1.0},\n",
       " 'col_sample_rate': {'default': 1.0, 'actual': 0.8},\n",
       " 'colsample_bylevel': {'default': 1.0, 'actual': 1.0},\n",
       " 'col_sample_rate_per_tree': {'default': 1.0, 'actual': 0.8},\n",
       " 'colsample_bytree': {'default': 1.0, 'actual': 1.0},\n",
       " 'max_abs_leafnode_pred': {'default': 0.0, 'actual': 0.0},\n",
       " 'max_delta_step': {'default': 0.0, 'actual': 0.0},\n",
       " 'monotone_constraints': {'default': None, 'actual': None},\n",
       " 'score_tree_interval': {'default': 0, 'actual': 5},\n",
       " 'min_split_improvement': {'default': 0.0, 'actual': 0.0},\n",
       " 'gamma': {'default': 0.0, 'actual': 0.0},\n",
       " 'nthread': {'default': -1, 'actual': -1},\n",
       " 'max_bins': {'default': 256, 'actual': 256},\n",
       " 'max_leaves': {'default': 0, 'actual': 0},\n",
       " 'min_sum_hessian_in_leaf': {'default': 100.0, 'actual': 100.0},\n",
       " 'min_data_in_leaf': {'default': 0.0, 'actual': 0.0},\n",
       " 'sample_type': {'default': 'uniform', 'actual': 'uniform'},\n",
       " 'normalize_type': {'default': 'tree', 'actual': 'tree'},\n",
       " 'rate_drop': {'default': 0.0, 'actual': 0.0},\n",
       " 'one_drop': {'default': False, 'actual': False},\n",
       " 'skip_drop': {'default': 0.0, 'actual': 0.0},\n",
       " 'tree_method': {'default': 'auto', 'actual': 'auto'},\n",
       " 'grow_policy': {'default': 'depthwise', 'actual': 'depthwise'},\n",
       " 'booster': {'default': 'gbtree', 'actual': 'gbtree'},\n",
       " 'reg_lambda': {'default': 1.0, 'actual': 1.0},\n",
       " 'reg_alpha': {'default': 0.0, 'actual': 0.0},\n",
       " 'dmatrix_type': {'default': 'auto', 'actual': 'auto'},\n",
       " 'backend': {'default': 'auto', 'actual': 'auto'},\n",
       " 'gpu_id': {'default': 0, 'actual': 0}}"
      ]
     },
     "execution_count": 13,
     "metadata": {},
     "output_type": "execute_result"
    }
   ],
   "source": [
    "params = best_model.params\n",
    "params"
   ]
  },
  {
   "cell_type": "code",
   "execution_count": 14,
   "metadata": {},
   "outputs": [
    {
     "name": "stdout",
     "output_type": "stream",
     "text": [
      "Model Details\n",
      "=============\n",
      "H2OXGBoostEstimator :  XGBoost\n",
      "Model Key:  XGBoost_1_AutoML_20190415_124010\n",
      "\n",
      "\n",
      "ModelMetricsRegression: xgboost\n",
      "** Reported on train data. **\n",
      "\n",
      "MSE: 8277652039089038.0\n",
      "RMSE: 90981602.7507157\n",
      "MAE: 58442347.67480403\n",
      "RMSLE: 0.21739540785820188\n",
      "Mean Residual Deviance: 8277652039089038.0\n",
      "\n",
      "ModelMetricsRegression: xgboost\n",
      "** Reported on cross-validation data. **\n",
      "\n",
      "MSE: 2.597665337554727e+16\n",
      "RMSE: 161172743.89780447\n",
      "MAE: 95202015.22597985\n",
      "RMSLE: 0.32580066367998356\n",
      "Mean Residual Deviance: 2.597665337554727e+16\n",
      "Cross-Validation Metrics Summary: \n"
     ]
    },
    {
     "data": {
      "text/html": [
       "<div style=\"overflow:auto\"><table style=\"width:50%\"><tr><td><b></b></td>\n",
       "<td><b>mean</b></td>\n",
       "<td><b>sd</b></td>\n",
       "<td><b>cv_1_valid</b></td>\n",
       "<td><b>cv_2_valid</b></td>\n",
       "<td><b>cv_3_valid</b></td>\n",
       "<td><b>cv_4_valid</b></td>\n",
       "<td><b>cv_5_valid</b></td></tr>\n",
       "<tr><td>mae</td>\n",
       "<td>95202016.0000000</td>\n",
       "<td>3471115.2</td>\n",
       "<td>100623912.0000000</td>\n",
       "<td>91163912.0000000</td>\n",
       "<td>98595584.0000000</td>\n",
       "<td>87721416.0000000</td>\n",
       "<td>97905256.0000000</td></tr>\n",
       "<tr><td>mean_residual_deviance</td>\n",
       "<td>25976653700000000.0000000</td>\n",
       "<td>4189882330000000.0000000</td>\n",
       "<td>26296592300000000.0000000</td>\n",
       "<td>20727619500000000.0000000</td>\n",
       "<td>33349843400000000.0000000</td>\n",
       "<td>18026095900000000.0000000</td>\n",
       "<td>31483117400000000.0000000</td></tr>\n",
       "<tr><td>mse</td>\n",
       "<td>25976653700000000.0000000</td>\n",
       "<td>4189882330000000.0000000</td>\n",
       "<td>26296592300000000.0000000</td>\n",
       "<td>20727619500000000.0000000</td>\n",
       "<td>33349843400000000.0000000</td>\n",
       "<td>18026095900000000.0000000</td>\n",
       "<td>31483117400000000.0000000</td></tr>\n",
       "<tr><td>r2</td>\n",
       "<td>0.7435545</td>\n",
       "<td>0.0224293</td>\n",
       "<td>0.7614703</td>\n",
       "<td>0.7397454</td>\n",
       "<td>0.7141171</td>\n",
       "<td>0.7942962</td>\n",
       "<td>0.7081433</td></tr>\n",
       "<tr><td>residual_deviance</td>\n",
       "<td>25976653700000000.0000000</td>\n",
       "<td>4189882330000000.0000000</td>\n",
       "<td>26296592300000000.0000000</td>\n",
       "<td>20727619500000000.0000000</td>\n",
       "<td>33349843400000000.0000000</td>\n",
       "<td>18026095900000000.0000000</td>\n",
       "<td>31483117400000000.0000000</td></tr>\n",
       "<tr><td>rmse</td>\n",
       "<td>160089728.0000000</td>\n",
       "<td>13189609.0000000</td>\n",
       "<td>162162240.0000000</td>\n",
       "<td>143970896.0000000</td>\n",
       "<td>182619392.0000000</td>\n",
       "<td>134261296.0000000</td>\n",
       "<td>177434816.0000000</td></tr>\n",
       "<tr><td>rmsle</td>\n",
       "<td>0.3256595</td>\n",
       "<td>0.0067798</td>\n",
       "<td>0.3382431</td>\n",
       "<td>0.3203479</td>\n",
       "<td>0.3308964</td>\n",
       "<td>0.3102552</td>\n",
       "<td>0.3285551</td></tr></table></div>"
      ],
      "text/plain": [
       "                        mean         sd           cv_1_valid    cv_2_valid    cv_3_valid    cv_4_valid    cv_5_valid\n",
       "----------------------  -----------  -----------  ------------  ------------  ------------  ------------  ------------\n",
       "mae                     9.5202e+07   3.47112e+06  1.00624e+08   9.11639e+07   9.85956e+07   8.77214e+07   9.79053e+07\n",
       "mean_residual_deviance  2.59767e+16  4.18988e+15  2.62966e+16   2.07276e+16   3.33498e+16   1.80261e+16   3.14831e+16\n",
       "mse                     2.59767e+16  4.18988e+15  2.62966e+16   2.07276e+16   3.33498e+16   1.80261e+16   3.14831e+16\n",
       "r2                      0.743555     0.0224293    0.76147       0.739745      0.714117      0.794296      0.708143\n",
       "residual_deviance       2.59767e+16  4.18988e+15  2.62966e+16   2.07276e+16   3.33498e+16   1.80261e+16   3.14831e+16\n",
       "rmse                    1.6009e+08   1.31896e+07  1.62162e+08   1.43971e+08   1.82619e+08   1.34261e+08   1.77435e+08\n",
       "rmsle                   0.32566      0.00677983   0.338243      0.320348      0.330896      0.310255      0.328555"
      ]
     },
     "metadata": {},
     "output_type": "display_data"
    },
    {
     "name": "stdout",
     "output_type": "stream",
     "text": [
      "Scoring History: \n"
     ]
    },
    {
     "data": {
      "text/html": [
       "<div style=\"overflow:auto\"><table style=\"width:50%\"><tr><td><b></b></td>\n",
       "<td><b>timestamp</b></td>\n",
       "<td><b>duration</b></td>\n",
       "<td><b>number_of_trees</b></td>\n",
       "<td><b>training_rmse</b></td>\n",
       "<td><b>training_mae</b></td>\n",
       "<td><b>training_deviance</b></td></tr>\n",
       "<tr><td></td>\n",
       "<td>2019-04-15 12:40:29</td>\n",
       "<td>18.392 sec</td>\n",
       "<td>0.0</td>\n",
       "<td>516114768.6270046</td>\n",
       "<td>407325224.7237402</td>\n",
       "<td>266374454394906464.0000000</td></tr>\n",
       "<tr><td></td>\n",
       "<td>2019-04-15 12:40:29</td>\n",
       "<td>18.448 sec</td>\n",
       "<td>5.0</td>\n",
       "<td>418608767.0014673</td>\n",
       "<td>318561097.3442329</td>\n",
       "<td>175233299810488704.0000000</td></tr>\n",
       "<tr><td></td>\n",
       "<td>2019-04-15 12:40:29</td>\n",
       "<td>18.493 sec</td>\n",
       "<td>10.0</td>\n",
       "<td>341576112.6332141</td>\n",
       "<td>249194663.2886898</td>\n",
       "<td>116674240721618144.0000000</td></tr>\n",
       "<tr><td></td>\n",
       "<td>2019-04-15 12:40:29</td>\n",
       "<td>18.542 sec</td>\n",
       "<td>15.0</td>\n",
       "<td>283318044.6351890</td>\n",
       "<td>196248365.6940649</td>\n",
       "<td>80269114415906928.0000000</td></tr>\n",
       "<tr><td></td>\n",
       "<td>2019-04-15 12:40:29</td>\n",
       "<td>18.602 sec</td>\n",
       "<td>20.0</td>\n",
       "<td>239530744.4666728</td>\n",
       "<td>157008276.5334826</td>\n",
       "<td>57374977544758496.0000000</td></tr>\n",
       "<tr><td>---</td>\n",
       "<td>---</td>\n",
       "<td>---</td>\n",
       "<td>---</td>\n",
       "<td>---</td>\n",
       "<td>---</td>\n",
       "<td>---</td></tr>\n",
       "<tr><td></td>\n",
       "<td>2019-04-15 12:40:31</td>\n",
       "<td>20.573 sec</td>\n",
       "<td>120.0</td>\n",
       "<td>93456366.1883762</td>\n",
       "<td>59601432.2526316</td>\n",
       "<td>8734092381135866.0000000</td></tr>\n",
       "<tr><td></td>\n",
       "<td>2019-04-15 12:40:31</td>\n",
       "<td>20.696 sec</td>\n",
       "<td>125.0</td>\n",
       "<td>92610717.4942993</td>\n",
       "<td>59199813.3903695</td>\n",
       "<td>8576744994808916.0000000</td></tr>\n",
       "<tr><td></td>\n",
       "<td>2019-04-15 12:40:31</td>\n",
       "<td>20.833 sec</td>\n",
       "<td>130.0</td>\n",
       "<td>91920919.8635470</td>\n",
       "<td>58852808.0125420</td>\n",
       "<td>8449455508560628.0000000</td></tr>\n",
       "<tr><td></td>\n",
       "<td>2019-04-15 12:40:31</td>\n",
       "<td>20.958 sec</td>\n",
       "<td>135.0</td>\n",
       "<td>91186238.9842962</td>\n",
       "<td>58508396.8179171</td>\n",
       "<td>8314930180101174.0000000</td></tr>\n",
       "<tr><td></td>\n",
       "<td>2019-04-15 12:40:32</td>\n",
       "<td>21.063 sec</td>\n",
       "<td>136.0</td>\n",
       "<td>90981602.7507157</td>\n",
       "<td>58442347.6748040</td>\n",
       "<td>8277652039089038.0000000</td></tr></table></div>"
      ],
      "text/plain": [
       "     timestamp            duration    number_of_trees    training_rmse       training_mae        training_deviance\n",
       "---  -------------------  ----------  -----------------  ------------------  ------------------  ----------------------\n",
       "     2019-04-15 12:40:29  18.392 sec  0.0                516114768.62700456  407325224.7237402   2.6637445439490646e+17\n",
       "     2019-04-15 12:40:29  18.448 sec  5.0                418608767.0014673   318561097.3442329   1.752332998104887e+17\n",
       "     2019-04-15 12:40:29  18.493 sec  10.0               341576112.63321406  249194663.28868982  1.1667424072161814e+17\n",
       "     2019-04-15 12:40:29  18.542 sec  15.0               283318044.635189    196248365.69406494  8.026911441590693e+16\n",
       "     2019-04-15 12:40:29  18.602 sec  20.0               239530744.46667278  157008276.53348264  5.73749775447585e+16\n",
       "---  ---                  ---         ---                ---                 ---                 ---\n",
       "     2019-04-15 12:40:31  20.573 sec  120.0              93456366.1883762    59601432.25263158   8734092381135866.0\n",
       "     2019-04-15 12:40:31  20.696 sec  125.0              92610717.49429931   59199813.39036954   8576744994808916.0\n",
       "     2019-04-15 12:40:31  20.833 sec  130.0              91920919.863547     58852808.012541994  8449455508560628.0\n",
       "     2019-04-15 12:40:31  20.958 sec  135.0              91186238.98429617   58508396.81791713   8314930180101174.0\n",
       "     2019-04-15 12:40:32  21.063 sec  136.0              90981602.7507157    58442347.67480403   8277652039089038.0"
      ]
     },
     "metadata": {},
     "output_type": "display_data"
    },
    {
     "name": "stdout",
     "output_type": "stream",
     "text": [
      "\n",
      "See the whole table with table.as_data_frame()\n",
      "Variable Importances: \n"
     ]
    },
    {
     "data": {
      "text/html": [
       "<div style=\"overflow:auto\"><table style=\"width:50%\"><tr><td><b>variable</b></td>\n",
       "<td><b>relative_importance</b></td>\n",
       "<td><b>scaled_importance</b></td>\n",
       "<td><b>percentage</b></td></tr>\n",
       "<tr><td>supply_area</td>\n",
       "<td>766135409740921962496.0000000</td>\n",
       "<td>1.0</td>\n",
       "<td>0.2784589</td></tr>\n",
       "<tr><td>exclusive_use_area</td>\n",
       "<td>513483118801716248576.0000000</td>\n",
       "<td>0.6702250</td>\n",
       "<td>0.1866301</td></tr>\n",
       "<tr><td>city</td>\n",
       "<td>475401735883833999360.0000000</td>\n",
       "<td>0.6205192</td>\n",
       "<td>0.1727891</td></tr>\n",
       "<tr><td>apartment_building_count_in_sites</td>\n",
       "<td>184527482868065107968.0000000</td>\n",
       "<td>0.2408549</td>\n",
       "<td>0.0670682</td></tr>\n",
       "<tr><td>total_parking_capacity_in_site</td>\n",
       "<td>158438605215731023872.0000000</td>\n",
       "<td>0.2068024</td>\n",
       "<td>0.0575860</td></tr>\n",
       "<tr><td>total_household_count_in_sites</td>\n",
       "<td>122358280683842961408.0000000</td>\n",
       "<td>0.1597084</td>\n",
       "<td>0.0444722</td></tr>\n",
       "<tr><td>total_household_count_of_area_type</td>\n",
       "<td>96061621722138279936.0000000</td>\n",
       "<td>0.1253847</td>\n",
       "<td>0.0349145</td></tr>\n",
       "<tr><td>floor</td>\n",
       "<td>93308453402280198144.0000000</td>\n",
       "<td>0.1217911</td>\n",
       "<td>0.0339138</td></tr>\n",
       "<tr><td>heat_type_individual</td>\n",
       "<td>76573525787715567616.0000000</td>\n",
       "<td>0.0999478</td>\n",
       "<td>0.0278313</td></tr>\n",
       "<tr><td>heat_fuel_gas</td>\n",
       "<td>52982364719735111680.0000000</td>\n",
       "<td>0.0691554</td>\n",
       "<td>0.0192569</td></tr>\n",
       "<tr><td>heat_type_district</td>\n",
       "<td>52260033958797901824.0000000</td>\n",
       "<td>0.0682125</td>\n",
       "<td>0.0189944</td></tr>\n",
       "<tr><td>heat_fuel_cogeneration</td>\n",
       "<td>47313691785247588352.0000000</td>\n",
       "<td>0.0617563</td>\n",
       "<td>0.0171966</td></tr>\n",
       "<tr><td>bathroom_count</td>\n",
       "<td>33280857976407588864.0000000</td>\n",
       "<td>0.0434399</td>\n",
       "<td>0.0120962</td></tr>\n",
       "<tr><td>room_count</td>\n",
       "<td>27795722119898202112.0000000</td>\n",
       "<td>0.0362804</td>\n",
       "<td>0.0101026</td></tr>\n",
       "<tr><td>front_door_structure_stairway</td>\n",
       "<td>20261184550144573440.0000000</td>\n",
       "<td>0.0264460</td>\n",
       "<td>0.0073641</td></tr>\n",
       "<tr><td>front_door_structure_corridor</td>\n",
       "<td>14577608835054174208.0000000</td>\n",
       "<td>0.0190275</td>\n",
       "<td>0.0052984</td></tr>\n",
       "<tr><td>heat_type_central</td>\n",
       "<td>9879153757009215488.0000000</td>\n",
       "<td>0.0128948</td>\n",
       "<td>0.0035907</td></tr>\n",
       "<tr><td>front_door_structure_mixed</td>\n",
       "<td>6702152291945807872.0000000</td>\n",
       "<td>0.0087480</td>\n",
       "<td>0.0024360</td></tr></table></div>"
      ],
      "text/plain": [
       "variable                            relative_importance    scaled_importance    percentage\n",
       "----------------------------------  ---------------------  -------------------  ------------\n",
       "supply_area                         7.66135e+20            1                    0.278459\n",
       "exclusive_use_area                  5.13483e+20            0.670225             0.18663\n",
       "city                                4.75402e+20            0.620519             0.172789\n",
       "apartment_building_count_in_sites   1.84527e+20            0.240855             0.0670682\n",
       "total_parking_capacity_in_site      1.58439e+20            0.206802             0.057586\n",
       "total_household_count_in_sites      1.22358e+20            0.159708             0.0444722\n",
       "total_household_count_of_area_type  9.60616e+19            0.125385             0.0349145\n",
       "floor                               9.33085e+19            0.121791             0.0339138\n",
       "heat_type_individual                7.65735e+19            0.0999478            0.0278313\n",
       "heat_fuel_gas                       5.29824e+19            0.0691554            0.0192569\n",
       "heat_type_district                  5.226e+19              0.0682125            0.0189944\n",
       "heat_fuel_cogeneration              4.73137e+19            0.0617563            0.0171966\n",
       "bathroom_count                      3.32809e+19            0.0434399            0.0120962\n",
       "room_count                          2.77957e+19            0.0362804            0.0101026\n",
       "front_door_structure_stairway       2.02612e+19            0.026446             0.00736411\n",
       "front_door_structure_corridor       1.45776e+19            0.0190275            0.00529836\n",
       "heat_type_central                   9.87915e+18            0.0128948            0.00359067\n",
       "front_door_structure_mixed          6.70215e+18            0.008748             0.00243596"
      ]
     },
     "metadata": {},
     "output_type": "display_data"
    },
    {
     "data": {
      "text/plain": []
     },
     "execution_count": 14,
     "metadata": {},
     "output_type": "execute_result"
    }
   ],
   "source": [
    "gg = h2o.get_model(aml.leaderboard[2,'model_id'])\n",
    "gg"
   ]
  },
  {
   "cell_type": "code",
   "execution_count": 15,
   "metadata": {
    "scrolled": false
   },
   "outputs": [
    {
     "name": "stdout",
     "output_type": "stream",
     "text": [
      "{'model_id': {'default': None, 'actual': {'__meta': {'schema_version': 3, 'schema_name': 'ModelKeyV3', 'schema_type': 'Key<Model>'}, 'name': 'XGBoost_1_AutoML_20190415_124010', 'type': 'Key<Model>', 'URL': '/3/Models/XGBoost_1_AutoML_20190415_124010'}}, 'training_frame': {'default': None, 'actual': {'__meta': {'schema_version': 3, 'schema_name': 'FrameKeyV3', 'schema_type': 'Key<Frame>'}, 'name': 'automl_training_trainPriceCleaned.hex', 'type': 'Key<Frame>', 'URL': '/3/Frames/automl_training_trainPriceCleaned.hex'}}, 'validation_frame': {'default': None, 'actual': None}, 'nfolds': {'default': 0, 'actual': 5}, 'keep_cross_validation_models': {'default': True, 'actual': False}, 'keep_cross_validation_predictions': {'default': False, 'actual': True}, 'keep_cross_validation_fold_assignment': {'default': False, 'actual': False}, 'score_each_iteration': {'default': False, 'actual': False}, 'fold_assignment': {'default': 'AUTO', 'actual': 'Modulo'}, 'fold_column': {'default': None, 'actual': None}, 'response_column': {'default': None, 'actual': {'__meta': {'schema_version': 3, 'schema_name': 'ColSpecifierV3', 'schema_type': 'VecSpecifier'}, 'column_name': 'transaction_real_price', 'is_member_of_frames': None}}, 'ignored_columns': {'default': None, 'actual': []}, 'ignore_const_cols': {'default': True, 'actual': True}, 'offset_column': {'default': None, 'actual': None}, 'weights_column': {'default': None, 'actual': None}, 'stopping_rounds': {'default': 0, 'actual': 0}, 'stopping_metric': {'default': 'AUTO', 'actual': 'deviance'}, 'stopping_tolerance': {'default': 0.001, 'actual': 0.014965432360392486}, 'max_runtime_secs': {'default': 0.0, 'actual': 0.0}, 'seed': {'default': -1, 'actual': -771981113382198050}, 'distribution': {'default': 'AUTO', 'actual': 'AUTO'}, 'tweedie_power': {'default': 1.5, 'actual': 1.5}, 'categorical_encoding': {'default': 'AUTO', 'actual': 'AUTO'}, 'quiet_mode': {'default': True, 'actual': True}, 'export_checkpoints_dir': {'default': None, 'actual': None}, 'ntrees': {'default': 50, 'actual': 104}, 'max_depth': {'default': 6, 'actual': 5}, 'min_rows': {'default': 1.0, 'actual': 3.0}, 'min_child_weight': {'default': 1.0, 'actual': 1.0}, 'learn_rate': {'default': 0.3, 'actual': 0.05}, 'eta': {'default': 0.3, 'actual': 0.3}, 'sample_rate': {'default': 1.0, 'actual': 0.8}, 'subsample': {'default': 1.0, 'actual': 1.0}, 'col_sample_rate': {'default': 1.0, 'actual': 0.8}, 'colsample_bylevel': {'default': 1.0, 'actual': 1.0}, 'col_sample_rate_per_tree': {'default': 1.0, 'actual': 0.8}, 'colsample_bytree': {'default': 1.0, 'actual': 1.0}, 'max_abs_leafnode_pred': {'default': 0.0, 'actual': 0.0}, 'max_delta_step': {'default': 0.0, 'actual': 0.0}, 'monotone_constraints': {'default': None, 'actual': None}, 'score_tree_interval': {'default': 0, 'actual': 5}, 'min_split_improvement': {'default': 0.0, 'actual': 0.0}, 'gamma': {'default': 0.0, 'actual': 0.0}, 'nthread': {'default': -1, 'actual': -1}, 'max_bins': {'default': 256, 'actual': 256}, 'max_leaves': {'default': 0, 'actual': 0}, 'min_sum_hessian_in_leaf': {'default': 100.0, 'actual': 100.0}, 'min_data_in_leaf': {'default': 0.0, 'actual': 0.0}, 'sample_type': {'default': 'uniform', 'actual': 'uniform'}, 'normalize_type': {'default': 'tree', 'actual': 'tree'}, 'rate_drop': {'default': 0.0, 'actual': 0.0}, 'one_drop': {'default': False, 'actual': False}, 'skip_drop': {'default': 0.0, 'actual': 0.0}, 'tree_method': {'default': 'auto', 'actual': 'auto'}, 'grow_policy': {'default': 'depthwise', 'actual': 'depthwise'}, 'booster': {'default': 'gbtree', 'actual': 'gbtree'}, 'reg_lambda': {'default': 1.0, 'actual': 1.0}, 'reg_alpha': {'default': 0.0, 'actual': 0.0}, 'dmatrix_type': {'default': 'auto', 'actual': 'auto'}, 'backend': {'default': 'auto', 'actual': 'auto'}, 'gpu_id': {'default': 0, 'actual': 0}}\n"
     ]
    }
   ],
   "source": [
    "params = gg.params\n",
    "print (params)"
   ]
  },
  {
   "cell_type": "code",
   "execution_count": 1,
   "metadata": {},
   "outputs": [
    {
     "ename": "NameError",
     "evalue": "name 'params' is not defined",
     "output_type": "error",
     "traceback": [
      "\u001b[0;31m---------------------------------------------------------------------------\u001b[0m",
      "\u001b[0;31mNameError\u001b[0m                                 Traceback (most recent call last)",
      "\u001b[0;32m<ipython-input-1-c44b8634e5ca>\u001b[0m in \u001b[0;36m<module>\u001b[0;34m\u001b[0m\n\u001b[0;32m----> 1\u001b[0;31m \u001b[0mprint\u001b[0m \u001b[0;34m(\u001b[0m\u001b[0mparams\u001b[0m\u001b[0;34m)\u001b[0m\u001b[0;34m\u001b[0m\u001b[0;34m\u001b[0m\u001b[0m\n\u001b[0m",
      "\u001b[0;31mNameError\u001b[0m: name 'params' is not defined"
     ]
    }
   ],
   "source": [
    "print (params)"
   ]
  },
  {
   "cell_type": "code",
   "execution_count": null,
   "metadata": {},
   "outputs": [],
   "source": []
  },
  {
   "cell_type": "code",
   "execution_count": null,
   "metadata": {},
   "outputs": [],
   "source": []
  },
  {
   "cell_type": "code",
   "execution_count": null,
   "metadata": {},
   "outputs": [],
   "source": []
  },
  {
   "cell_type": "code",
   "execution_count": null,
   "metadata": {},
   "outputs": [],
   "source": []
  },
  {
   "cell_type": "code",
   "execution_count": null,
   "metadata": {},
   "outputs": [],
   "source": []
  },
  {
   "cell_type": "code",
   "execution_count": null,
   "metadata": {},
   "outputs": [],
   "source": []
  },
  {
   "cell_type": "code",
   "execution_count": null,
   "metadata": {},
   "outputs": [],
   "source": []
  },
  {
   "cell_type": "code",
   "execution_count": null,
   "metadata": {},
   "outputs": [],
   "source": []
  },
  {
   "cell_type": "code",
   "execution_count": null,
   "metadata": {},
   "outputs": [],
   "source": []
  },
  {
   "cell_type": "code",
   "execution_count": null,
   "metadata": {},
   "outputs": [],
   "source": []
  },
  {
   "cell_type": "code",
   "execution_count": null,
   "metadata": {},
   "outputs": [],
   "source": []
  },
  {
   "cell_type": "code",
   "execution_count": null,
   "metadata": {},
   "outputs": [],
   "source": []
  },
  {
   "cell_type": "code",
   "execution_count": null,
   "metadata": {},
   "outputs": [],
   "source": []
  },
  {
   "cell_type": "code",
   "execution_count": null,
   "metadata": {},
   "outputs": [],
   "source": []
  },
  {
   "cell_type": "code",
   "execution_count": null,
   "metadata": {},
   "outputs": [],
   "source": []
  },
  {
   "cell_type": "code",
   "execution_count": null,
   "metadata": {},
   "outputs": [],
   "source": []
  },
  {
   "cell_type": "code",
   "execution_count": null,
   "metadata": {},
   "outputs": [],
   "source": []
  },
  {
   "cell_type": "code",
   "execution_count": null,
   "metadata": {},
   "outputs": [],
   "source": []
  },
  {
   "cell_type": "code",
   "execution_count": null,
   "metadata": {},
   "outputs": [],
   "source": []
  },
  {
   "cell_type": "code",
   "execution_count": null,
   "metadata": {},
   "outputs": [],
   "source": []
  },
  {
   "cell_type": "code",
   "execution_count": null,
   "metadata": {},
   "outputs": [],
   "source": []
  },
  {
   "cell_type": "code",
   "execution_count": null,
   "metadata": {},
   "outputs": [],
   "source": []
  },
  {
   "cell_type": "code",
   "execution_count": null,
   "metadata": {},
   "outputs": [],
   "source": []
  },
  {
   "cell_type": "code",
   "execution_count": null,
   "metadata": {},
   "outputs": [],
   "source": []
  },
  {
   "cell_type": "code",
   "execution_count": null,
   "metadata": {},
   "outputs": [],
   "source": []
  },
  {
   "cell_type": "code",
   "execution_count": null,
   "metadata": {},
   "outputs": [],
   "source": []
  },
  {
   "cell_type": "code",
   "execution_count": null,
   "metadata": {},
   "outputs": [],
   "source": []
  },
  {
   "cell_type": "code",
   "execution_count": null,
   "metadata": {},
   "outputs": [],
   "source": []
  },
  {
   "cell_type": "code",
   "execution_count": null,
   "metadata": {},
   "outputs": [],
   "source": []
  },
  {
   "cell_type": "code",
   "execution_count": null,
   "metadata": {},
   "outputs": [],
   "source": []
  },
  {
   "cell_type": "code",
   "execution_count": null,
   "metadata": {},
   "outputs": [],
   "source": []
  },
  {
   "cell_type": "code",
   "execution_count": null,
   "metadata": {},
   "outputs": [],
   "source": []
  },
  {
   "cell_type": "code",
   "execution_count": 33,
   "metadata": {},
   "outputs": [
    {
     "ename": "TypeError",
     "evalue": "Object of type H2OFrame is not JSON serializable",
     "output_type": "error",
     "traceback": [
      "\u001b[0;31m---------------------------------------------------------------------------\u001b[0m",
      "\u001b[0;31mTypeError\u001b[0m                                 Traceback (most recent call last)",
      "\u001b[0;32m<ipython-input-33-c791a85f01f9>\u001b[0m in \u001b[0;36m<module>\u001b[0;34m\u001b[0m\n\u001b[1;32m      1\u001b[0m \u001b[0;32mwith\u001b[0m \u001b[0mopen\u001b[0m\u001b[0;34m(\u001b[0m\u001b[0;34m'800_data.json'\u001b[0m\u001b[0;34m,\u001b[0m \u001b[0;34m'w'\u001b[0m\u001b[0;34m)\u001b[0m \u001b[0;32mas\u001b[0m \u001b[0mf\u001b[0m\u001b[0;34m:\u001b[0m\u001b[0;34m\u001b[0m\u001b[0;34m\u001b[0m\u001b[0m\n\u001b[0;32m----> 2\u001b[0;31m     \u001b[0mjson\u001b[0m\u001b[0;34m.\u001b[0m\u001b[0mdump\u001b[0m\u001b[0;34m(\u001b[0m\u001b[0mgg\u001b[0m\u001b[0;34m,\u001b[0m \u001b[0mf\u001b[0m\u001b[0;34m)\u001b[0m\u001b[0;34m\u001b[0m\u001b[0;34m\u001b[0m\u001b[0m\n\u001b[0m\u001b[1;32m      3\u001b[0m \u001b[0mprint\u001b[0m \u001b[0;34m(\u001b[0m\u001b[0;34m\"done\"\u001b[0m\u001b[0;34m)\u001b[0m\u001b[0;34m\u001b[0m\u001b[0;34m\u001b[0m\u001b[0m\n",
      "\u001b[0;32m~/anaconda3/lib/python3.7/json/__init__.py\u001b[0m in \u001b[0;36mdump\u001b[0;34m(obj, fp, skipkeys, ensure_ascii, check_circular, allow_nan, cls, indent, separators, default, sort_keys, **kw)\u001b[0m\n\u001b[1;32m    177\u001b[0m     \u001b[0;31m# could accelerate with writelines in some versions of Python, at\u001b[0m\u001b[0;34m\u001b[0m\u001b[0;34m\u001b[0m\u001b[0;34m\u001b[0m\u001b[0m\n\u001b[1;32m    178\u001b[0m     \u001b[0;31m# a debuggability cost\u001b[0m\u001b[0;34m\u001b[0m\u001b[0;34m\u001b[0m\u001b[0;34m\u001b[0m\u001b[0m\n\u001b[0;32m--> 179\u001b[0;31m     \u001b[0;32mfor\u001b[0m \u001b[0mchunk\u001b[0m \u001b[0;32min\u001b[0m \u001b[0miterable\u001b[0m\u001b[0;34m:\u001b[0m\u001b[0;34m\u001b[0m\u001b[0;34m\u001b[0m\u001b[0m\n\u001b[0m\u001b[1;32m    180\u001b[0m         \u001b[0mfp\u001b[0m\u001b[0;34m.\u001b[0m\u001b[0mwrite\u001b[0m\u001b[0;34m(\u001b[0m\u001b[0mchunk\u001b[0m\u001b[0;34m)\u001b[0m\u001b[0;34m\u001b[0m\u001b[0;34m\u001b[0m\u001b[0m\n\u001b[1;32m    181\u001b[0m \u001b[0;34m\u001b[0m\u001b[0m\n",
      "\u001b[0;32m~/anaconda3/lib/python3.7/json/encoder.py\u001b[0m in \u001b[0;36m_iterencode\u001b[0;34m(o, _current_indent_level)\u001b[0m\n\u001b[1;32m    436\u001b[0m                     \u001b[0;32mraise\u001b[0m \u001b[0mValueError\u001b[0m\u001b[0;34m(\u001b[0m\u001b[0;34m\"Circular reference detected\"\u001b[0m\u001b[0;34m)\u001b[0m\u001b[0;34m\u001b[0m\u001b[0;34m\u001b[0m\u001b[0m\n\u001b[1;32m    437\u001b[0m                 \u001b[0mmarkers\u001b[0m\u001b[0;34m[\u001b[0m\u001b[0mmarkerid\u001b[0m\u001b[0;34m]\u001b[0m \u001b[0;34m=\u001b[0m \u001b[0mo\u001b[0m\u001b[0;34m\u001b[0m\u001b[0;34m\u001b[0m\u001b[0m\n\u001b[0;32m--> 438\u001b[0;31m             \u001b[0mo\u001b[0m \u001b[0;34m=\u001b[0m \u001b[0m_default\u001b[0m\u001b[0;34m(\u001b[0m\u001b[0mo\u001b[0m\u001b[0;34m)\u001b[0m\u001b[0;34m\u001b[0m\u001b[0;34m\u001b[0m\u001b[0m\n\u001b[0m\u001b[1;32m    439\u001b[0m             \u001b[0;32myield\u001b[0m \u001b[0;32mfrom\u001b[0m \u001b[0m_iterencode\u001b[0m\u001b[0;34m(\u001b[0m\u001b[0mo\u001b[0m\u001b[0;34m,\u001b[0m \u001b[0m_current_indent_level\u001b[0m\u001b[0;34m)\u001b[0m\u001b[0;34m\u001b[0m\u001b[0;34m\u001b[0m\u001b[0m\n\u001b[1;32m    440\u001b[0m             \u001b[0;32mif\u001b[0m \u001b[0mmarkers\u001b[0m \u001b[0;32mis\u001b[0m \u001b[0;32mnot\u001b[0m \u001b[0;32mNone\u001b[0m\u001b[0;34m:\u001b[0m\u001b[0;34m\u001b[0m\u001b[0;34m\u001b[0m\u001b[0m\n",
      "\u001b[0;32m~/anaconda3/lib/python3.7/json/encoder.py\u001b[0m in \u001b[0;36mdefault\u001b[0;34m(self, o)\u001b[0m\n\u001b[1;32m    177\u001b[0m \u001b[0;34m\u001b[0m\u001b[0m\n\u001b[1;32m    178\u001b[0m         \"\"\"\n\u001b[0;32m--> 179\u001b[0;31m         raise TypeError(f'Object of type {o.__class__.__name__} '\n\u001b[0m\u001b[1;32m    180\u001b[0m                         f'is not JSON serializable')\n\u001b[1;32m    181\u001b[0m \u001b[0;34m\u001b[0m\u001b[0m\n",
      "\u001b[0;31mTypeError\u001b[0m: Object of type H2OFrame is not JSON serializable"
     ]
    }
   ],
   "source": [
    "gg = [aml.leaderboard[2,'model_id']]\n",
    "with open('800_data.json', 'w') as f:\n",
    "    json.dump(gg, f)\n",
    "print (\"done\")"
   ]
  },
  {
   "cell_type": "code",
   "execution_count": null,
   "metadata": {},
   "outputs": [],
   "source": []
  },
  {
   "cell_type": "code",
   "execution_count": null,
   "metadata": {},
   "outputs": [],
   "source": []
  },
  {
   "cell_type": "code",
   "execution_count": null,
   "metadata": {},
   "outputs": [],
   "source": []
  },
  {
   "cell_type": "code",
   "execution_count": null,
   "metadata": {},
   "outputs": [],
   "source": []
  },
  {
   "cell_type": "code",
   "execution_count": null,
   "metadata": {},
   "outputs": [],
   "source": []
  },
  {
   "cell_type": "code",
   "execution_count": null,
   "metadata": {},
   "outputs": [],
   "source": []
  },
  {
   "cell_type": "code",
   "execution_count": 15,
   "metadata": {},
   "outputs": [],
   "source": [
    "best_model = h2o.get_model(aml.leaderboard[2,'model_id'])"
   ]
  },
  {
   "cell_type": "code",
   "execution_count": null,
   "metadata": {},
   "outputs": [],
   "source": [
    "params = best_model.params\n",
    "print (params)\n",
    "with open('800_data.json', 'w') as f:\n",
    "    json.dump(params, f)\n",
    "print (\"done\")"
   ]
  },
  {
   "cell_type": "code",
   "execution_count": 16,
   "metadata": {},
   "outputs": [
    {
     "data": {
      "text/plain": [
       "'xgboost'"
      ]
     },
     "execution_count": 16,
     "metadata": {},
     "output_type": "execute_result"
    }
   ],
   "source": [
    "best_model.algo"
   ]
  },
  {
   "cell_type": "code",
   "execution_count": 17,
   "metadata": {},
   "outputs": [],
   "source": [
    "import matplotlib.pyplot as plt\n",
    "%matplotlib inline\n",
    "\n",
    "import warnings\n",
    "import matplotlib.cbook\n",
    "warnings.filterwarnings(\"ignore\", category = matplotlib.cbook.mplDeprecation)"
   ]
  },
  {
   "cell_type": "code",
   "execution_count": 18,
   "metadata": {},
   "outputs": [
    {
     "data": {
      "image/png": "[encoded data removed]",
      "text/plain": [
       "<Figure size 1008x720 with 1 Axes>"
      ]
     },
     "metadata": {
      "needs_background": "light"
     },
     "output_type": "display_data"
    }
   ],
   "source": [
    "best_model.varimp_plot()"
   ]
  },
  {
   "cell_type": "code",
   "execution_count": 19,
   "metadata": {},
   "outputs": [],
   "source": [
    "df[y] = df[y].asfactor()"
   ]
  },
  {
   "cell_type": "code",
   "execution_count": 20,
   "metadata": {
    "scrolled": false
   },
   "outputs": [
    {
     "name": "stdout",
     "output_type": "stream",
     "text": [
      "Rows:4447\n",
      "Cols:19\n",
      "\n",
      "\n"
     ]
    },
    {
     "data": {
      "text/html": [
       "<table>\n",
       "<thead>\n",
       "<tr><th>       </th><th>transaction_real_price  </th><th>city              </th><th>exclusive_use_area  </th><th>floor             </th><th>total_parking_capacity_in_site  </th><th>total_household_count_in_sites  </th><th>apartment_building_count_in_sites  </th><th>supply_area       </th><th>total_household_count_of_area_type  </th><th>room_count        </th><th>bathroom_count    </th><th>heat_fuel_cogeneration  </th><th>heat_fuel_gas     </th><th>heat_type_central  </th><th>heat_type_district  </th><th>heat_type_individual  </th><th>front_door_structure_corridor  </th><th>front_door_structure_mixed  </th><th>front_door_structure_stairway  </th></tr>\n",
       "</thead>\n",
       "<tbody>\n",
       "<tr><td>type   </td><td>enum                    </td><td>int               </td><td>real                </td><td>int               </td><td>int                             </td><td>int                             </td><td>int                                </td><td>real              </td><td>int                                 </td><td>int               </td><td>int               </td><td>int                     </td><td>int               </td><td>int                </td><td>int                 </td><td>int                   </td><td>int                            </td><td>int                         </td><td>int                            </td></tr>\n",
       "<tr><td>mins   </td><td>                        </td><td>0.0               </td><td>24.2475             </td><td>1.0               </td><td>0.0                             </td><td>100.0                           </td><td>1.0                                </td><td>33.59             </td><td>0.0                                 </td><td>0.0               </td><td>0.0               </td><td>0.0                     </td><td>0.0               </td><td>0.0                </td><td>0.0                 </td><td>0.0                   </td><td>0.0                            </td><td>0.0                         </td><td>0.0                            </td></tr>\n",
       "<tr><td>mean   </td><td>                        </td><td>0.633235889363616 </td><td>80.43324200584667   </td><td>10.161457162131775</td><td>1320.9788621542616              </td><td>1191.7533168428156              </td><td>12.970991679784124                 </td><td>103.30118956599955</td><td>292.6532493816056                   </td><td>2.9759388351697784</td><td>1.597031706768608 </td><td>0.2397121655048347      </td><td>0.7602878344951652</td><td>0.08162806386327862</td><td>0.24061164830222623 </td><td>0.6777602878344952    </td><td>0.259051045648752              </td><td>0.016865302451090622        </td><td>0.7240836519001574             </td></tr>\n",
       "<tr><td>maxs   </td><td>                        </td><td>1.0               </td><td>266.8181            </td><td>66.0              </td><td>9766.0                          </td><td>6864.0                          </td><td>124.0                              </td><td>343.89            </td><td>2960.0                              </td><td>6.0               </td><td>4.0               </td><td>1.0                     </td><td>1.0               </td><td>1.0                </td><td>1.0                 </td><td>1.0                   </td><td>1.0                            </td><td>1.0                         </td><td>1.0                            </td></tr>\n",
       "<tr><td>sigma  </td><td>                        </td><td>0.4819755547191596</td><td>28.772107257421734  </td><td>7.028892141141552 </td><td>1448.080749614069               </td><td>1135.12591706417                </td><td>14.331711124397955                 </td><td>33.90022505192435 </td><td>329.45238690672653                  </td><td>0.6674127834544982</td><td>0.5081169355394869</td><td>0.4269557765991174      </td><td>0.4269557765991174</td><td>0.27382801949303126</td><td>0.427502959168945   </td><td>0.46738678111809034   </td><td>0.43816295324580384            </td><td>0.12878118423684082         </td><td>0.4470251147192063             </td></tr>\n",
       "<tr><td>zeros  </td><td>                        </td><td>1631              </td><td>0                   </td><td>0                 </td><td>3                               </td><td>0                               </td><td>0                                  </td><td>0                 </td><td>54                                  </td><td>8                 </td><td>8                 </td><td>3381                    </td><td>1066              </td><td>4084               </td><td>3377                </td><td>1433                  </td><td>3295                           </td><td>4372                        </td><td>1227                           </td></tr>\n",
       "<tr><td>missing</td><td>0                       </td><td>0                 </td><td>0                   </td><td>0                 </td><td>0                               </td><td>0                               </td><td>0                                  </td><td>0                 </td><td>0                                   </td><td>0                 </td><td>0                 </td><td>0                       </td><td>0                 </td><td>0                  </td><td>0                   </td><td>0                     </td><td>0                              </td><td>0                           </td><td>0                              </td></tr>\n",
       "<tr><td>0      </td><td>334000000               </td><td>1.0               </td><td>84.94               </td><td>12.0              </td><td>3481.0                          </td><td>2678.0                          </td><td>25.0                               </td><td>102.02            </td><td>2254.0                              </td><td>3.0               </td><td>2.0               </td><td>0.0                     </td><td>1.0               </td><td>0.0                </td><td>0.0                 </td><td>1.0                   </td><td>0.0                            </td><td>0.0                         </td><td>1.0                            </td></tr>\n",
       "<tr><td>1      </td><td>400000000               </td><td>1.0               </td><td>114.88              </td><td>17.0              </td><td>1665.0                          </td><td>2017.0                          </td><td>22.0                               </td><td>137.59            </td><td>325.0                               </td><td>4.0               </td><td>2.0               </td><td>0.0                     </td><td>1.0               </td><td>0.0                </td><td>0.0                 </td><td>1.0                   </td><td>0.0                            </td><td>0.0                         </td><td>1.0                            </td></tr>\n",
       "<tr><td>2      </td><td>290000000               </td><td>0.0               </td><td>84.96               </td><td>7.0               </td><td>1761.0                          </td><td>1326.0                          </td><td>9.0                                </td><td>109.77            </td><td>209.0                               </td><td>3.0               </td><td>2.0               </td><td>0.0                     </td><td>1.0               </td><td>0.0                </td><td>0.0                 </td><td>1.0                   </td><td>0.0                            </td><td>0.0                         </td><td>1.0                            </td></tr>\n",
       "<tr><td>3      </td><td>156500000               </td><td>0.0               </td><td>85.0                </td><td>3.0               </td><td>2381.0                          </td><td>1391.0                          </td><td>14.0                               </td><td>107.24            </td><td>138.0                               </td><td>3.0               </td><td>2.0               </td><td>0.0                     </td><td>1.0               </td><td>0.0                </td><td>0.0                 </td><td>1.0                   </td><td>0.0                            </td><td>0.0                         </td><td>1.0                            </td></tr>\n",
       "<tr><td>4      </td><td>380000000               </td><td>0.0               </td><td>140.293             </td><td>14.0              </td><td>664.0                           </td><td>388.0                           </td><td>5.0                                </td><td>166.53            </td><td>130.0                               </td><td>5.0               </td><td>2.0               </td><td>0.0                     </td><td>1.0               </td><td>0.0                </td><td>0.0                 </td><td>1.0                   </td><td>0.0                            </td><td>0.0                         </td><td>1.0                            </td></tr>\n",
       "<tr><td>5      </td><td>87000000                </td><td>0.0               </td><td>60.0                </td><td>6.0               </td><td>200.0                           </td><td>124.0                           </td><td>2.0                                </td><td>85.95             </td><td>64.0                                </td><td>3.0               </td><td>1.0               </td><td>1.0                     </td><td>0.0               </td><td>0.0                </td><td>1.0                 </td><td>0.0                   </td><td>1.0                            </td><td>0.0                         </td><td>0.0                            </td></tr>\n",
       "<tr><td>6      </td><td>1530000000              </td><td>1.0               </td><td>219.82              </td><td>35.0              </td><td>1081.0                          </td><td>445.0                           </td><td>2.0                                </td><td>279.31            </td><td>4.0                                 </td><td>3.0               </td><td>4.0               </td><td>1.0                     </td><td>0.0               </td><td>0.0                </td><td>0.0                 </td><td>1.0                   </td><td>0.0                            </td><td>0.0                         </td><td>1.0                            </td></tr>\n",
       "<tr><td>7      </td><td>115000000               </td><td>0.0               </td><td>49.42               </td><td>11.0              </td><td>340.0                           </td><td>720.0                           </td><td>5.0                                </td><td>69.02             </td><td>720.0                               </td><td>2.0               </td><td>1.0               </td><td>0.0                     </td><td>1.0               </td><td>0.0                </td><td>0.0                 </td><td>1.0                   </td><td>1.0                            </td><td>0.0                         </td><td>0.0                            </td></tr>\n",
       "<tr><td>8      </td><td>398000000               </td><td>1.0               </td><td>59.97               </td><td>2.0               </td><td>302.0                           </td><td>636.0                           </td><td>9.0                                </td><td>81.55             </td><td>323.0                               </td><td>2.0               </td><td>1.0               </td><td>0.0                     </td><td>1.0               </td><td>0.0                </td><td>0.0                 </td><td>1.0                   </td><td>1.0                            </td><td>0.0                         </td><td>0.0                            </td></tr>\n",
       "<tr><td>9      </td><td>94500000                </td><td>0.0               </td><td>45.5                </td><td>4.0               </td><td>230.0                           </td><td>996.0                           </td><td>7.0                                </td><td>63.17             </td><td>996.0                               </td><td>3.0               </td><td>1.0               </td><td>0.0                     </td><td>1.0               </td><td>0.0                </td><td>0.0                 </td><td>1.0                   </td><td>1.0                            </td><td>0.0                         </td><td>0.0                            </td></tr>\n",
       "</tbody>\n",
       "</table>"
      ]
     },
     "metadata": {},
     "output_type": "display_data"
    }
   ],
   "source": [
    "df.describe()"
   ]
  },
  {
   "cell_type": "code",
   "execution_count": null,
   "metadata": {},
   "outputs": [],
   "source": []
  },
  {
   "cell_type": "code",
   "execution_count": null,
   "metadata": {},
   "outputs": [],
   "source": []
  },
  {
   "cell_type": "code",
   "execution_count": null,
   "metadata": {},
   "outputs": [],
   "source": []
  },
  {
   "cell_type": "code",
   "execution_count": null,
   "metadata": {},
   "outputs": [],
   "source": []
  },
  {
   "cell_type": "code",
   "execution_count": 14,
   "metadata": {},
   "outputs": [
    {
     "name": "stdout",
     "output_type": "stream",
     "text": [
      "AutoML progress: |████████████████████████████████████████████████████████| 100%\n",
      "{'model_execution_time': {'regression': 770.712281703949}}\n"
     ]
    },
    {
     "data": {
      "text/html": [
       "<table>\n",
       "<thead>\n",
       "<tr><th>model_id                                      </th><th style=\"text-align: right;\">  mean_residual_deviance</th><th style=\"text-align: right;\">       rmse</th><th style=\"text-align: right;\">        mse</th><th style=\"text-align: right;\">        mae</th><th style=\"text-align: right;\">   rmsle</th></tr>\n",
       "</thead>\n",
       "<tbody>\n",
       "<tr><td>GBM_1_AutoML_20190412_025147                  </td><td style=\"text-align: right;\">             2.83413e+16</td><td style=\"text-align: right;\">1.68349e+08</td><td style=\"text-align: right;\">2.83413e+16</td><td style=\"text-align: right;\">1.02997e+08</td><td style=\"text-align: right;\">0.336906</td></tr>\n",
       "<tr><td>XGBoost_grid_1_AutoML_20190412_025147_model_1 </td><td style=\"text-align: right;\">             2.84504e+16</td><td style=\"text-align: right;\">1.68672e+08</td><td style=\"text-align: right;\">2.84504e+16</td><td style=\"text-align: right;\">1.00677e+08</td><td style=\"text-align: right;\">0.32952 </td></tr>\n",
       "<tr><td>GBM_1_AutoML_20190412_030307                  </td><td style=\"text-align: right;\">             2.85147e+16</td><td style=\"text-align: right;\">1.68863e+08</td><td style=\"text-align: right;\">2.85147e+16</td><td style=\"text-align: right;\">1.02924e+08</td><td style=\"text-align: right;\">0.338887</td></tr>\n",
       "<tr><td>XGBoost_grid_1_AutoML_20190412_025147_model_9 </td><td style=\"text-align: right;\">             2.92906e+16</td><td style=\"text-align: right;\">1.71145e+08</td><td style=\"text-align: right;\">2.92906e+16</td><td style=\"text-align: right;\">1.01065e+08</td><td style=\"text-align: right;\">0.332222</td></tr>\n",
       "<tr><td>XGBoost_grid_1_AutoML_20190412_030307_model_9 </td><td style=\"text-align: right;\">             2.94858e+16</td><td style=\"text-align: right;\">1.71714e+08</td><td style=\"text-align: right;\">2.94858e+16</td><td style=\"text-align: right;\">1.01579e+08</td><td style=\"text-align: right;\">0.333928</td></tr>\n",
       "<tr><td>XGBoost_grid_1_AutoML_20190412_030307_model_4 </td><td style=\"text-align: right;\">             2.96623e+16</td><td style=\"text-align: right;\">1.72228e+08</td><td style=\"text-align: right;\">2.96623e+16</td><td style=\"text-align: right;\">1.027e+08  </td><td style=\"text-align: right;\">0.339225</td></tr>\n",
       "<tr><td>GBM_grid_1_AutoML_20190412_030307_model_16    </td><td style=\"text-align: right;\">             2.97983e+16</td><td style=\"text-align: right;\">1.72622e+08</td><td style=\"text-align: right;\">2.97983e+16</td><td style=\"text-align: right;\">1.0639e+08 </td><td style=\"text-align: right;\">0.351746</td></tr>\n",
       "<tr><td>XGBoost_grid_1_AutoML_20190412_025147_model_11</td><td style=\"text-align: right;\">             2.99557e+16</td><td style=\"text-align: right;\">1.73077e+08</td><td style=\"text-align: right;\">2.99557e+16</td><td style=\"text-align: right;\">1.0138e+08 </td><td style=\"text-align: right;\">0.333319</td></tr>\n",
       "<tr><td>GBM_grid_1_AutoML_20190412_025147_model_30    </td><td style=\"text-align: right;\">             3.00097e+16</td><td style=\"text-align: right;\">1.73233e+08</td><td style=\"text-align: right;\">3.00097e+16</td><td style=\"text-align: right;\">1.05518e+08</td><td style=\"text-align: right;\">0.34497 </td></tr>\n",
       "<tr><td>XGBoost_1_AutoML_20190412_025147              </td><td style=\"text-align: right;\">             3.00426e+16</td><td style=\"text-align: right;\">1.73328e+08</td><td style=\"text-align: right;\">3.00426e+16</td><td style=\"text-align: right;\">1.02117e+08</td><td style=\"text-align: right;\">0.332696</td></tr>\n",
       "</tbody>\n",
       "</table>"
      ]
     },
     "metadata": {},
     "output_type": "display_data"
    },
    {
     "name": "stdout",
     "output_type": "stream",
     "text": [
      "\n"
     ]
    }
   ],
   "source": [
    "# set auto\n",
    "\n",
    "aml = H2OAutoML(max_runtime_secs=900, exclude_algos = ['DeepLearning'])\n",
    "\n",
    "model_start_time = time.time()\n",
    "  \n",
    "try:\n",
    "  aml.train(x=X,y=y,training_frame=df)  # Change training_frame=train\n",
    "except Exception as e:\n",
    "  logging.critical('aml.train') \n",
    "  h2o.download_all_logs(dirname=logs_path, filename=logfile)      \n",
    "  h2o.cluster().shutdown()   \n",
    "  sys.exit(4)\n",
    "    \n",
    "meta_data={}\n",
    "meta_data['model_execution_time'] = {\"regression\":(time.time() - model_start_time)}\n",
    "print (meta_data)\n",
    "\n",
    "print(aml.leaderboard)"
   ]
  },
  {
   "cell_type": "code",
   "execution_count": 15,
   "metadata": {},
   "outputs": [
    {
     "data": {
      "image/png": "[encoded data removed]",
      "text/plain": [
       "<Figure size 1008x720 with 1 Axes>"
      ]
     },
     "metadata": {
      "needs_background": "light"
     },
     "output_type": "display_data"
    }
   ],
   "source": [
    "best_model = h2o.get_model(aml.leaderboard[2,'model_id'])\n",
    "\n",
    "best_model.varimp_plot()"
   ]
  },
  {
   "cell_type": "code",
   "execution_count": 16,
   "metadata": {},
   "outputs": [
    {
     "name": "stdout",
     "output_type": "stream",
     "text": [
      "{'model_id': {'default': None, 'actual': {'__meta': {'schema_version': 3, 'schema_name': 'ModelKeyV3', 'schema_type': 'Key<Model>'}, 'name': 'GBM_1_AutoML_20190412_030307', 'type': 'Key<Model>', 'URL': '/3/Models/GBM_1_AutoML_20190412_030307'}}, 'training_frame': {'default': None, 'actual': {'__meta': {'schema_version': 3, 'schema_name': 'FrameKeyV3', 'schema_type': 'Key<Frame>'}, 'name': 'automl_training_trainPriceCleaned.hex', 'type': 'Key<Frame>', 'URL': '/3/Frames/automl_training_trainPriceCleaned.hex'}}, 'validation_frame': {'default': None, 'actual': None}, 'nfolds': {'default': 0, 'actual': 5}, 'keep_cross_validation_models': {'default': True, 'actual': False}, 'keep_cross_validation_predictions': {'default': False, 'actual': True}, 'keep_cross_validation_fold_assignment': {'default': False, 'actual': False}, 'score_each_iteration': {'default': False, 'actual': False}, 'score_tree_interval': {'default': 0, 'actual': 5}, 'fold_assignment': {'default': 'AUTO', 'actual': 'Modulo'}, 'fold_column': {'default': None, 'actual': None}, 'response_column': {'default': None, 'actual': {'__meta': {'schema_version': 3, 'schema_name': 'ColSpecifierV3', 'schema_type': 'VecSpecifier'}, 'column_name': 'transaction_real_price', 'is_member_of_frames': None}}, 'ignored_columns': {'default': None, 'actual': []}, 'ignore_const_cols': {'default': True, 'actual': True}, 'offset_column': {'default': None, 'actual': None}, 'weights_column': {'default': None, 'actual': None}, 'balance_classes': {'default': False, 'actual': False}, 'class_sampling_factors': {'default': None, 'actual': None}, 'max_after_balance_size': {'default': 5.0, 'actual': 5.0}, 'max_confusion_matrix_size': {'default': 20, 'actual': 20}, 'max_hit_ratio_k': {'default': 0, 'actual': 0}, 'ntrees': {'default': 50, 'actual': 57}, 'max_depth': {'default': 5, 'actual': 15}, 'min_rows': {'default': 10.0, 'actual': 100.0}, 'nbins': {'default': 20, 'actual': 20}, 'nbins_top_level': {'default': 1024, 'actual': 1024}, 'nbins_cats': {'default': 1024, 'actual': 1024}, 'r2_stopping': {'default': 1.7976931348623157e+308, 'actual': 1.7976931348623157e+308}, 'stopping_rounds': {'default': 0, 'actual': 0}, 'stopping_metric': {'default': 'AUTO', 'actual': 'deviance'}, 'stopping_tolerance': {'default': 0.001, 'actual': 0.014995689358874936}, 'max_runtime_secs': {'default': 0.0, 'actual': 0.0}, 'seed': {'default': -1, 'actual': -2574854464705382925}, 'build_tree_one_node': {'default': False, 'actual': False}, 'learn_rate': {'default': 0.1, 'actual': 0.1}, 'learn_rate_annealing': {'default': 1.0, 'actual': 1.0}, 'distribution': {'default': 'AUTO', 'actual': 'gaussian'}, 'quantile_alpha': {'default': 0.5, 'actual': 0.5}, 'tweedie_power': {'default': 1.5, 'actual': 1.5}, 'huber_alpha': {'default': 0.9, 'actual': 0.9}, 'checkpoint': {'default': None, 'actual': None}, 'sample_rate': {'default': 1.0, 'actual': 0.8}, 'sample_rate_per_class': {'default': None, 'actual': None}, 'col_sample_rate': {'default': 1.0, 'actual': 0.8}, 'col_sample_rate_change_per_level': {'default': 1.0, 'actual': 1.0}, 'col_sample_rate_per_tree': {'default': 1.0, 'actual': 0.8}, 'min_split_improvement': {'default': 1e-05, 'actual': 1e-05}, 'histogram_type': {'default': 'AUTO', 'actual': 'AUTO'}, 'max_abs_leafnode_pred': {'default': 1.7976931348623157e+308, 'actual': 1.7976931348623157e+308}, 'pred_noise_bandwidth': {'default': 0.0, 'actual': 0.0}, 'categorical_encoding': {'default': 'AUTO', 'actual': 'AUTO'}, 'calibrate_model': {'default': False, 'actual': False}, 'calibration_frame': {'default': None, 'actual': None}, 'custom_metric_func': {'default': None, 'actual': None}, 'export_checkpoints_dir': {'default': None, 'actual': None}, 'monotone_constraints': {'default': None, 'actual': None}, 'check_constant_response': {'default': True, 'actual': True}}\n",
      "done\n"
     ]
    }
   ],
   "source": [
    "params = best_model.params\n",
    "print (params)\n",
    "with open('800_data.json', 'w') as f:\n",
    "    json.dump(params, f)\n",
    "print (\"done\")"
   ]
  },
  {
   "cell_type": "code",
   "execution_count": null,
   "metadata": {},
   "outputs": [],
   "source": []
  },
  {
   "cell_type": "code",
   "execution_count": null,
   "metadata": {},
   "outputs": [],
   "source": []
  },
  {
   "cell_type": "code",
   "execution_count": null,
   "metadata": {},
   "outputs": [],
   "source": []
  },
  {
   "cell_type": "code",
   "execution_count": null,
   "metadata": {},
   "outputs": [],
   "source": []
  },
  {
   "cell_type": "code",
   "execution_count": null,
   "metadata": {},
   "outputs": [],
   "source": []
  },
  {
   "cell_type": "code",
   "execution_count": null,
   "metadata": {},
   "outputs": [],
   "source": []
  },
  {
   "cell_type": "code",
   "execution_count": null,
   "metadata": {},
   "outputs": [],
   "source": []
  },
  {
   "cell_type": "code",
   "execution_count": null,
   "metadata": {},
   "outputs": [],
   "source": []
  },
  {
   "cell_type": "code",
   "execution_count": 11,
   "metadata": {},
   "outputs": [
    {
     "name": "stdout",
     "output_type": "stream",
     "text": [
      "AutoML progress: |████████████████████████████████████████████████████████| 100%\n"
     ]
    }
   ],
   "source": [
    "aml = H2OAutoML(max_runtime_secs=700,\n",
    "                exclude_algos = ['DeepLearning'])\n",
    "\n",
    "model_start_time = time.time()\n",
    "  \n",
    "try:\n",
    "  aml.train(x=X,y=y,training_frame=df)  # Change training_frame=train\n",
    "except Exception as e:\n",
    "  logging.critical('aml.train') \n",
    "  h2o.download_all_logs(dirname=logs_path, filename=logfile)      \n",
    "  h2o.cluster().shutdown()   \n",
    "  sys.exit(4)"
   ]
  },
  {
   "cell_type": "code",
   "execution_count": 12,
   "metadata": {},
   "outputs": [
    {
     "data": {
      "text/plain": [
       "{'model_execution_time': {'regression': 647.3190739154816}}"
      ]
     },
     "execution_count": 12,
     "metadata": {},
     "output_type": "execute_result"
    }
   ],
   "source": [
    "meta_data={}\n",
    "meta_data['model_execution_time'] = {\"regression\":(time.time() - model_start_time)}\n",
    "meta_data"
   ]
  },
  {
   "cell_type": "code",
   "execution_count": 13,
   "metadata": {},
   "outputs": [
    {
     "data": {
      "text/html": [
       "<table>\n",
       "<thead>\n",
       "<tr><th>model_id                                      </th><th style=\"text-align: right;\">  mean_residual_deviance</th><th style=\"text-align: right;\">       rmse</th><th style=\"text-align: right;\">        mse</th><th style=\"text-align: right;\">        mae</th><th style=\"text-align: right;\">   rmsle</th></tr>\n",
       "</thead>\n",
       "<tbody>\n",
       "<tr><td>GBM_1_AutoML_20190412_025147                  </td><td style=\"text-align: right;\">             2.83413e+16</td><td style=\"text-align: right;\">1.68349e+08</td><td style=\"text-align: right;\">2.83413e+16</td><td style=\"text-align: right;\">1.02997e+08</td><td style=\"text-align: right;\">0.336906</td></tr>\n",
       "<tr><td>XGBoost_grid_1_AutoML_20190412_025147_model_1 </td><td style=\"text-align: right;\">             2.84504e+16</td><td style=\"text-align: right;\">1.68672e+08</td><td style=\"text-align: right;\">2.84504e+16</td><td style=\"text-align: right;\">1.00677e+08</td><td style=\"text-align: right;\">0.32952 </td></tr>\n",
       "<tr><td>XGBoost_grid_1_AutoML_20190412_025147_model_9 </td><td style=\"text-align: right;\">             2.92906e+16</td><td style=\"text-align: right;\">1.71145e+08</td><td style=\"text-align: right;\">2.92906e+16</td><td style=\"text-align: right;\">1.01065e+08</td><td style=\"text-align: right;\">0.332222</td></tr>\n",
       "<tr><td>XGBoost_grid_1_AutoML_20190412_025147_model_11</td><td style=\"text-align: right;\">             2.99557e+16</td><td style=\"text-align: right;\">1.73077e+08</td><td style=\"text-align: right;\">2.99557e+16</td><td style=\"text-align: right;\">1.0138e+08 </td><td style=\"text-align: right;\">0.333319</td></tr>\n",
       "<tr><td>GBM_grid_1_AutoML_20190412_025147_model_30    </td><td style=\"text-align: right;\">             3.00097e+16</td><td style=\"text-align: right;\">1.73233e+08</td><td style=\"text-align: right;\">3.00097e+16</td><td style=\"text-align: right;\">1.05518e+08</td><td style=\"text-align: right;\">0.34497 </td></tr>\n",
       "<tr><td>XGBoost_1_AutoML_20190412_025147              </td><td style=\"text-align: right;\">             3.00426e+16</td><td style=\"text-align: right;\">1.73328e+08</td><td style=\"text-align: right;\">3.00426e+16</td><td style=\"text-align: right;\">1.02117e+08</td><td style=\"text-align: right;\">0.332696</td></tr>\n",
       "<tr><td>XGBoost_grid_1_AutoML_20190412_025147_model_7 </td><td style=\"text-align: right;\">             3.00548e+16</td><td style=\"text-align: right;\">1.73363e+08</td><td style=\"text-align: right;\">3.00548e+16</td><td style=\"text-align: right;\">1.03362e+08</td><td style=\"text-align: right;\">0.338225</td></tr>\n",
       "<tr><td>XGBoost_grid_1_AutoML_20190412_025147_model_5 </td><td style=\"text-align: right;\">             3.024e+16  </td><td style=\"text-align: right;\">1.73896e+08</td><td style=\"text-align: right;\">3.024e+16  </td><td style=\"text-align: right;\">1.021e+08  </td><td style=\"text-align: right;\">0.337123</td></tr>\n",
       "<tr><td>GBM_grid_1_AutoML_20190412_025147_model_7     </td><td style=\"text-align: right;\">             3.04094e+16</td><td style=\"text-align: right;\">1.74383e+08</td><td style=\"text-align: right;\">3.04094e+16</td><td style=\"text-align: right;\">1.03236e+08</td><td style=\"text-align: right;\">0.342389</td></tr>\n",
       "<tr><td>XGBoost_grid_1_AutoML_20190412_025147_model_13</td><td style=\"text-align: right;\">             3.05504e+16</td><td style=\"text-align: right;\">1.74787e+08</td><td style=\"text-align: right;\">3.05504e+16</td><td style=\"text-align: right;\">1.02342e+08</td><td style=\"text-align: right;\">0.333941</td></tr>\n",
       "</tbody>\n",
       "</table>"
      ]
     },
     "metadata": {},
     "output_type": "display_data"
    },
    {
     "name": "stdout",
     "output_type": "stream",
     "text": [
      "\n"
     ]
    }
   ],
   "source": [
    "print(aml.leaderboard)"
   ]
  },
  {
   "cell_type": "code",
   "execution_count": 18,
   "metadata": {},
   "outputs": [],
   "source": [
    "best_model = h2o.get_model(aml.leaderboard[2,'model_id'])"
   ]
  },
  {
   "cell_type": "code",
   "execution_count": 19,
   "metadata": {},
   "outputs": [
    {
     "data": {
      "text/plain": [
       "'xgboost'"
      ]
     },
     "execution_count": 19,
     "metadata": {},
     "output_type": "execute_result"
    }
   ],
   "source": [
    "best_model.algo"
   ]
  },
  {
   "cell_type": "code",
   "execution_count": 20,
   "metadata": {},
   "outputs": [],
   "source": []
  },
  {
   "cell_type": "code",
   "execution_count": 21,
   "metadata": {},
   "outputs": [
    {
     "data": {
      "image/png": "[encoded data removed]",
      "text/plain": [
       "<Figure size 1008x720 with 1 Axes>"
      ]
     },
     "metadata": {
      "needs_background": "light"
     },
     "output_type": "display_data"
    }
   ],
   "source": [
    "best_model.varimp_plot()"
   ]
  },
  {
   "cell_type": "code",
   "execution_count": 26,
   "metadata": {
    "scrolled": false
   },
   "outputs": [
    {
     "data": {
      "text/plain": [
       "dict_keys(['model_id', 'training_frame', 'validation_frame', 'nfolds', 'keep_cross_validation_models', 'keep_cross_validation_predictions', 'keep_cross_validation_fold_assignment', 'score_each_iteration', 'fold_assignment', 'fold_column', 'response_column', 'ignored_columns', 'ignore_const_cols', 'offset_column', 'weights_column', 'stopping_rounds', 'stopping_metric', 'stopping_tolerance', 'max_runtime_secs', 'seed', 'distribution', 'tweedie_power', 'categorical_encoding', 'quiet_mode', 'export_checkpoints_dir', 'ntrees', 'max_depth', 'min_rows', 'min_child_weight', 'learn_rate', 'eta', 'sample_rate', 'subsample', 'col_sample_rate', 'colsample_bylevel', 'col_sample_rate_per_tree', 'colsample_bytree', 'max_abs_leafnode_pred', 'max_delta_step', 'monotone_constraints', 'score_tree_interval', 'min_split_improvement', 'gamma', 'nthread', 'max_bins', 'max_leaves', 'min_sum_hessian_in_leaf', 'min_data_in_leaf', 'sample_type', 'normalize_type', 'rate_drop', 'one_drop', 'skip_drop', 'tree_method', 'grow_policy', 'booster', 'reg_lambda', 'reg_alpha', 'dmatrix_type', 'backend', 'gpu_id'])"
      ]
     },
     "execution_count": 26,
     "metadata": {},
     "output_type": "execute_result"
    }
   ],
   "source": [
    "keys = best_model.params.keys()\n",
    "keys"
   ]
  },
  {
   "cell_type": "code",
   "execution_count": 37,
   "metadata": {
    "scrolled": true
   },
   "outputs": [
    {
     "data": {
      "text/plain": [
       "{'model_id': {'default': None,\n",
       "  'actual': {'__meta': {'schema_version': 3,\n",
       "    'schema_name': 'ModelKeyV3',\n",
       "    'schema_type': 'Key<Model>'},\n",
       "   'name': 'XGBoost_grid_1_AutoML_20190412_012604_model_2',\n",
       "   'type': 'Key<Model>',\n",
       "   'URL': '/3/Models/XGBoost_grid_1_AutoML_20190412_012604_model_2'}},\n",
       " 'training_frame': {'default': None,\n",
       "  'actual': {'__meta': {'schema_version': 3,\n",
       "    'schema_name': 'FrameKeyV3',\n",
       "    'schema_type': 'Key<Frame>'},\n",
       "   'name': 'automl_training_trainPriceCleaned.hex',\n",
       "   'type': 'Key<Frame>',\n",
       "   'URL': '/3/Frames/automl_training_trainPriceCleaned.hex'}},\n",
       " 'validation_frame': {'default': None, 'actual': None},\n",
       " 'nfolds': {'default': 0, 'actual': 5},\n",
       " 'keep_cross_validation_models': {'default': True, 'actual': False},\n",
       " 'keep_cross_validation_predictions': {'default': False, 'actual': True},\n",
       " 'keep_cross_validation_fold_assignment': {'default': False, 'actual': False},\n",
       " 'score_each_iteration': {'default': False, 'actual': False},\n",
       " 'fold_assignment': {'default': 'AUTO', 'actual': 'Modulo'},\n",
       " 'fold_column': {'default': None, 'actual': None},\n",
       " 'response_column': {'default': None,\n",
       "  'actual': {'__meta': {'schema_version': 3,\n",
       "    'schema_name': 'ColSpecifierV3',\n",
       "    'schema_type': 'VecSpecifier'},\n",
       "   'column_name': 'transaction_real_price',\n",
       "   'is_member_of_frames': None}},\n",
       " 'ignored_columns': {'default': None, 'actual': []},\n",
       " 'ignore_const_cols': {'default': True, 'actual': True},\n",
       " 'offset_column': {'default': None, 'actual': None},\n",
       " 'weights_column': {'default': None, 'actual': None},\n",
       " 'stopping_rounds': {'default': 0, 'actual': 0},\n",
       " 'stopping_metric': {'default': 'AUTO', 'actual': 'deviance'},\n",
       " 'stopping_tolerance': {'default': 0.001, 'actual': 0.014995689358874936},\n",
       " 'max_runtime_secs': {'default': 0.0, 'actual': 0.0},\n",
       " 'seed': {'default': -1, 'actual': -247671621043173404},\n",
       " 'distribution': {'default': 'AUTO', 'actual': 'AUTO'},\n",
       " 'tweedie_power': {'default': 1.5, 'actual': 1.5},\n",
       " 'categorical_encoding': {'default': 'AUTO', 'actual': 'AUTO'},\n",
       " 'quiet_mode': {'default': True, 'actual': True},\n",
       " 'export_checkpoints_dir': {'default': None, 'actual': None},\n",
       " 'ntrees': {'default': 50, 'actual': 133},\n",
       " 'max_depth': {'default': 6, 'actual': 10},\n",
       " 'min_rows': {'default': 1.0, 'actual': 0.1},\n",
       " 'min_child_weight': {'default': 1.0, 'actual': 1.0},\n",
       " 'learn_rate': {'default': 0.3, 'actual': 0.05},\n",
       " 'eta': {'default': 0.3, 'actual': 0.3},\n",
       " 'sample_rate': {'default': 1.0, 'actual': 0.6},\n",
       " 'subsample': {'default': 1.0, 'actual': 1.0},\n",
       " 'col_sample_rate': {'default': 1.0, 'actual': 1.0},\n",
       " 'colsample_bylevel': {'default': 1.0, 'actual': 1.0},\n",
       " 'col_sample_rate_per_tree': {'default': 1.0, 'actual': 1.0},\n",
       " 'colsample_bytree': {'default': 1.0, 'actual': 1.0},\n",
       " 'max_abs_leafnode_pred': {'default': 0.0, 'actual': 0.0},\n",
       " 'max_delta_step': {'default': 0.0, 'actual': 0.0},\n",
       " 'monotone_constraints': {'default': None, 'actual': None},\n",
       " 'score_tree_interval': {'default': 0, 'actual': 5},\n",
       " 'min_split_improvement': {'default': 0.0, 'actual': 0.0},\n",
       " 'gamma': {'default': 0.0, 'actual': 0.0},\n",
       " 'nthread': {'default': -1, 'actual': -1},\n",
       " 'max_bins': {'default': 256, 'actual': 256},\n",
       " 'max_leaves': {'default': 0, 'actual': 0},\n",
       " 'min_sum_hessian_in_leaf': {'default': 100.0, 'actual': 100.0},\n",
       " 'min_data_in_leaf': {'default': 0.0, 'actual': 0.0},\n",
       " 'sample_type': {'default': 'uniform', 'actual': 'uniform'},\n",
       " 'normalize_type': {'default': 'tree', 'actual': 'tree'},\n",
       " 'rate_drop': {'default': 0.0, 'actual': 0.0},\n",
       " 'one_drop': {'default': False, 'actual': False},\n",
       " 'skip_drop': {'default': 0.0, 'actual': 0.0},\n",
       " 'tree_method': {'default': 'auto', 'actual': 'auto'},\n",
       " 'grow_policy': {'default': 'depthwise', 'actual': 'depthwise'},\n",
       " 'booster': {'default': 'gbtree', 'actual': 'gbtree'},\n",
       " 'reg_lambda': {'default': 1.0, 'actual': 1.0},\n",
       " 'reg_alpha': {'default': 0.0, 'actual': 1.0},\n",
       " 'dmatrix_type': {'default': 'auto', 'actual': 'auto'},\n",
       " 'backend': {'default': 'auto', 'actual': 'auto'},\n",
       " 'gpu_id': {'default': 0, 'actual': 0}}"
      ]
     },
     "execution_count": 37,
     "metadata": {},
     "output_type": "execute_result"
    }
   ],
   "source": [
    "params = best_model.params\n",
    "params"
   ]
  },
  {
   "cell_type": "code",
   "execution_count": 38,
   "metadata": {},
   "outputs": [],
   "source": [
    "with open('data.json', 'w') as f:\n",
    "    json.dump(params, f)"
   ]
  },
  {
   "cell_type": "code",
   "execution_count": null,
   "metadata": {},
   "outputs": [],
   "source": []
  },
  {
   "cell_type": "code",
   "execution_count": null,
   "metadata": {},
   "outputs": [],
   "source": []
  },
  {
   "cell_type": "code",
   "execution_count": null,
   "metadata": {},
   "outputs": [],
   "source": []
  },
  {
   "cell_type": "code",
   "execution_count": 22,
   "metadata": {},
   "outputs": [],
   "source": [
    "df[y] = df[y].asfactor()"
   ]
  },
  {
   "cell_type": "code",
   "execution_count": 23,
   "metadata": {
    "scrolled": false
   },
   "outputs": [
    {
     "name": "stdout",
     "output_type": "stream",
     "text": [
      "Rows:4447\n",
      "Cols:19\n",
      "\n",
      "\n"
     ]
    },
    {
     "data": {
      "text/html": [
       "<table>\n",
       "<thead>\n",
       "<tr><th>       </th><th>transaction_real_price  </th><th>city              </th><th>exclusive_use_area  </th><th>floor             </th><th>total_parking_capacity_in_site  </th><th>total_household_count_in_sites  </th><th>apartment_building_count_in_sites  </th><th>supply_area       </th><th>total_household_count_of_area_type  </th><th>room_count        </th><th>bathroom_count    </th><th>heat_fuel_cogeneration  </th><th>heat_fuel_gas     </th><th>heat_type_central  </th><th>heat_type_district  </th><th>heat_type_individual  </th><th>front_door_structure_corridor  </th><th>front_door_structure_mixed  </th><th>front_door_structure_stairway  </th></tr>\n",
       "</thead>\n",
       "<tbody>\n",
       "<tr><td>type   </td><td>enum                    </td><td>int               </td><td>real                </td><td>int               </td><td>int                             </td><td>int                             </td><td>int                                </td><td>real              </td><td>int                                 </td><td>int               </td><td>int               </td><td>int                     </td><td>int               </td><td>int                </td><td>int                 </td><td>int                   </td><td>int                            </td><td>int                         </td><td>int                            </td></tr>\n",
       "<tr><td>mins   </td><td>                        </td><td>0.0               </td><td>24.2475             </td><td>1.0               </td><td>0.0                             </td><td>100.0                           </td><td>1.0                                </td><td>33.59             </td><td>0.0                                 </td><td>0.0               </td><td>0.0               </td><td>0.0                     </td><td>0.0               </td><td>0.0                </td><td>0.0                 </td><td>0.0                   </td><td>0.0                            </td><td>0.0                         </td><td>0.0                            </td></tr>\n",
       "<tr><td>mean   </td><td>                        </td><td>0.633235889363616 </td><td>80.43324200584667   </td><td>10.161457162131775</td><td>1320.9788621542616              </td><td>1191.7533168428156              </td><td>12.970991679784124                 </td><td>103.30118956599955</td><td>292.6532493816056                   </td><td>2.9759388351697784</td><td>1.597031706768608 </td><td>0.2397121655048347      </td><td>0.7602878344951652</td><td>0.08162806386327862</td><td>0.24061164830222623 </td><td>0.6777602878344952    </td><td>0.259051045648752              </td><td>0.016865302451090622        </td><td>0.7240836519001574             </td></tr>\n",
       "<tr><td>maxs   </td><td>                        </td><td>1.0               </td><td>266.8181            </td><td>66.0              </td><td>9766.0                          </td><td>6864.0                          </td><td>124.0                              </td><td>343.89            </td><td>2960.0                              </td><td>6.0               </td><td>4.0               </td><td>1.0                     </td><td>1.0               </td><td>1.0                </td><td>1.0                 </td><td>1.0                   </td><td>1.0                            </td><td>1.0                         </td><td>1.0                            </td></tr>\n",
       "<tr><td>sigma  </td><td>                        </td><td>0.4819755547191596</td><td>28.772107257421734  </td><td>7.028892141141552 </td><td>1448.080749614069               </td><td>1135.12591706417                </td><td>14.331711124397955                 </td><td>33.90022505192435 </td><td>329.45238690672653                  </td><td>0.6674127834544982</td><td>0.5081169355394869</td><td>0.4269557765991174      </td><td>0.4269557765991174</td><td>0.27382801949303126</td><td>0.427502959168945   </td><td>0.46738678111809034   </td><td>0.43816295324580384            </td><td>0.12878118423684082         </td><td>0.4470251147192063             </td></tr>\n",
       "<tr><td>zeros  </td><td>                        </td><td>1631              </td><td>0                   </td><td>0                 </td><td>3                               </td><td>0                               </td><td>0                                  </td><td>0                 </td><td>54                                  </td><td>8                 </td><td>8                 </td><td>3381                    </td><td>1066              </td><td>4084               </td><td>3377                </td><td>1433                  </td><td>3295                           </td><td>4372                        </td><td>1227                           </td></tr>\n",
       "<tr><td>missing</td><td>0                       </td><td>0                 </td><td>0                   </td><td>0                 </td><td>0                               </td><td>0                               </td><td>0                                  </td><td>0                 </td><td>0                                   </td><td>0                 </td><td>0                 </td><td>0                       </td><td>0                 </td><td>0                  </td><td>0                   </td><td>0                     </td><td>0                              </td><td>0                           </td><td>0                              </td></tr>\n",
       "<tr><td>0      </td><td>334000000               </td><td>1.0               </td><td>84.94               </td><td>12.0              </td><td>3481.0                          </td><td>2678.0                          </td><td>25.0                               </td><td>102.02            </td><td>2254.0                              </td><td>3.0               </td><td>2.0               </td><td>0.0                     </td><td>1.0               </td><td>0.0                </td><td>0.0                 </td><td>1.0                   </td><td>0.0                            </td><td>0.0                         </td><td>1.0                            </td></tr>\n",
       "<tr><td>1      </td><td>400000000               </td><td>1.0               </td><td>114.88              </td><td>17.0              </td><td>1665.0                          </td><td>2017.0                          </td><td>22.0                               </td><td>137.59            </td><td>325.0                               </td><td>4.0               </td><td>2.0               </td><td>0.0                     </td><td>1.0               </td><td>0.0                </td><td>0.0                 </td><td>1.0                   </td><td>0.0                            </td><td>0.0                         </td><td>1.0                            </td></tr>\n",
       "<tr><td>2      </td><td>290000000               </td><td>0.0               </td><td>84.96               </td><td>7.0               </td><td>1761.0                          </td><td>1326.0                          </td><td>9.0                                </td><td>109.77            </td><td>209.0                               </td><td>3.0               </td><td>2.0               </td><td>0.0                     </td><td>1.0               </td><td>0.0                </td><td>0.0                 </td><td>1.0                   </td><td>0.0                            </td><td>0.0                         </td><td>1.0                            </td></tr>\n",
       "<tr><td>3      </td><td>156500000               </td><td>0.0               </td><td>85.0                </td><td>3.0               </td><td>2381.0                          </td><td>1391.0                          </td><td>14.0                               </td><td>107.24            </td><td>138.0                               </td><td>3.0               </td><td>2.0               </td><td>0.0                     </td><td>1.0               </td><td>0.0                </td><td>0.0                 </td><td>1.0                   </td><td>0.0                            </td><td>0.0                         </td><td>1.0                            </td></tr>\n",
       "<tr><td>4      </td><td>380000000               </td><td>0.0               </td><td>140.293             </td><td>14.0              </td><td>664.0                           </td><td>388.0                           </td><td>5.0                                </td><td>166.53            </td><td>130.0                               </td><td>5.0               </td><td>2.0               </td><td>0.0                     </td><td>1.0               </td><td>0.0                </td><td>0.0                 </td><td>1.0                   </td><td>0.0                            </td><td>0.0                         </td><td>1.0                            </td></tr>\n",
       "<tr><td>5      </td><td>87000000                </td><td>0.0               </td><td>60.0                </td><td>6.0               </td><td>200.0                           </td><td>124.0                           </td><td>2.0                                </td><td>85.95             </td><td>64.0                                </td><td>3.0               </td><td>1.0               </td><td>1.0                     </td><td>0.0               </td><td>0.0                </td><td>1.0                 </td><td>0.0                   </td><td>1.0                            </td><td>0.0                         </td><td>0.0                            </td></tr>\n",
       "<tr><td>6      </td><td>1530000000              </td><td>1.0               </td><td>219.82              </td><td>35.0              </td><td>1081.0                          </td><td>445.0                           </td><td>2.0                                </td><td>279.31            </td><td>4.0                                 </td><td>3.0               </td><td>4.0               </td><td>1.0                     </td><td>0.0               </td><td>0.0                </td><td>0.0                 </td><td>1.0                   </td><td>0.0                            </td><td>0.0                         </td><td>1.0                            </td></tr>\n",
       "<tr><td>7      </td><td>115000000               </td><td>0.0               </td><td>49.42               </td><td>11.0              </td><td>340.0                           </td><td>720.0                           </td><td>5.0                                </td><td>69.02             </td><td>720.0                               </td><td>2.0               </td><td>1.0               </td><td>0.0                     </td><td>1.0               </td><td>0.0                </td><td>0.0                 </td><td>1.0                   </td><td>1.0                            </td><td>0.0                         </td><td>0.0                            </td></tr>\n",
       "<tr><td>8      </td><td>398000000               </td><td>1.0               </td><td>59.97               </td><td>2.0               </td><td>302.0                           </td><td>636.0                           </td><td>9.0                                </td><td>81.55             </td><td>323.0                               </td><td>2.0               </td><td>1.0               </td><td>0.0                     </td><td>1.0               </td><td>0.0                </td><td>0.0                 </td><td>1.0                   </td><td>1.0                            </td><td>0.0                         </td><td>0.0                            </td></tr>\n",
       "<tr><td>9      </td><td>94500000                </td><td>0.0               </td><td>45.5                </td><td>4.0               </td><td>230.0                           </td><td>996.0                           </td><td>7.0                                </td><td>63.17             </td><td>996.0                               </td><td>3.0               </td><td>1.0               </td><td>0.0                     </td><td>1.0               </td><td>0.0                </td><td>0.0                 </td><td>1.0                   </td><td>1.0                            </td><td>0.0                         </td><td>0.0                            </td></tr>\n",
       "</tbody>\n",
       "</table>"
      ]
     },
     "metadata": {},
     "output_type": "display_data"
    }
   ],
   "source": [
    "df.describe()"
   ]
  },
  {
   "cell_type": "code",
   "execution_count": null,
   "metadata": {},
   "outputs": [],
   "source": []
  },
  {
   "cell_type": "code",
   "execution_count": null,
   "metadata": {},
   "outputs": [],
   "source": []
  },
  {
   "cell_type": "code",
   "execution_count": null,
   "metadata": {},
   "outputs": [],
   "source": []
  },
  {
   "cell_type": "code",
   "execution_count": null,
   "metadata": {},
   "outputs": [],
   "source": []
  },
  {
   "cell_type": "code",
   "execution_count": null,
   "metadata": {},
   "outputs": [],
   "source": []
  },
  {
   "cell_type": "code",
   "execution_count": null,
   "metadata": {},
   "outputs": [],
   "source": []
  },
  {
   "cell_type": "code",
   "execution_count": null,
   "metadata": {},
   "outputs": [],
   "source": []
  },
  {
   "cell_type": "code",
   "execution_count": null,
   "metadata": {},
   "outputs": [],
   "source": []
  },
  {
   "cell_type": "code",
   "execution_count": null,
   "metadata": {},
   "outputs": [],
   "source": []
  },
  {
   "cell_type": "code",
   "execution_count": null,
   "metadata": {},
   "outputs": [],
   "source": []
  },
  {
   "cell_type": "code",
   "execution_count": null,
   "metadata": {},
   "outputs": [],
   "source": []
  },
  {
   "cell_type": "code",
   "execution_count": null,
   "metadata": {},
   "outputs": [],
   "source": []
  },
  {
   "cell_type": "code",
   "execution_count": 56,
   "metadata": {},
   "outputs": [
    {
     "name": "stdout",
     "output_type": "stream",
     "text": [
      "AutoML progress: |████████████████████████████████████████████████████████| 100%\n"
     ]
    }
   ],
   "source": [
    "aml_1000 = H2OAutoML(max_runtime_secs=333,project_name = \"project\") # init automl, run for 300 seconds\n",
    "aml_1000.train(x=X,  \n",
    "           y=y,\n",
    "           training_frame=df)"
   ]
  },
  {
   "cell_type": "code",
   "execution_count": 57,
   "metadata": {},
   "outputs": [
    {
     "data": {
      "text/html": [
       "<table>\n",
       "<thead>\n",
       "<tr><th>model_id                                 </th><th style=\"text-align: right;\">  mean_per_class_error</th><th style=\"text-align: right;\">  logloss</th><th style=\"text-align: right;\">  rmse</th><th style=\"text-align: right;\">  mse</th></tr>\n",
       "</thead>\n",
       "<tbody>\n",
       "<tr><td>GLM_grid_1_AutoML_20190412_011235_model_1</td><td style=\"text-align: right;\">                   nan</td><td style=\"text-align: right;\">      nan</td><td style=\"text-align: right;\">   nan</td><td style=\"text-align: right;\">  nan</td></tr>\n",
       "<tr><td>GLM_grid_1_AutoML_20190412_005611_model_1</td><td style=\"text-align: right;\">                   nan</td><td style=\"text-align: right;\">      nan</td><td style=\"text-align: right;\">   nan</td><td style=\"text-align: right;\">  nan</td></tr>\n",
       "</tbody>\n",
       "</table>"
      ]
     },
     "metadata": {},
     "output_type": "display_data"
    },
    {
     "data": {
      "text/plain": []
     },
     "execution_count": 57,
     "metadata": {},
     "output_type": "execute_result"
    }
   ],
   "source": [
    "leaderboard_1000 = aml_1000.leaderboard\n",
    "leaderboard_1000.head(50)"
   ]
  },
  {
   "cell_type": "code",
   "execution_count": null,
   "metadata": {},
   "outputs": [],
   "source": []
  },
  {
   "cell_type": "code",
   "execution_count": null,
   "metadata": {},
   "outputs": [],
   "source": []
  },
  {
   "cell_type": "code",
   "execution_count": 58,
   "metadata": {},
   "outputs": [],
   "source": [
    "# Set up AutoML\n",
    "\n",
    "aml = H2OAutoML(max_runtime_secs=400,exclude_algos = ['DeepLearning'])"
   ]
  },
  {
   "cell_type": "code",
   "execution_count": 59,
   "metadata": {},
   "outputs": [
    {
     "name": "stdout",
     "output_type": "stream",
     "text": [
      "AutoML progress: |████████████████████████████████████████████████████████| 100%\n"
     ]
    }
   ],
   "source": [
    "model_start_time = time.time()\n",
    "  \n",
    "try:\n",
    "  aml.train(x=X,y=y,training_frame=df)  # Change training_frame=train\n",
    "except Exception as e:\n",
    "  logging.critical('aml.train') \n",
    "  h2o.download_all_logs(dirname=logs_path, filename=logfile)      \n",
    "  h2o.cluster().shutdown()   \n",
    "  sys.exit(4)"
   ]
  },
  {
   "cell_type": "code",
   "execution_count": 60,
   "metadata": {},
   "outputs": [],
   "source": [
    "meta_data={}\n",
    "meta_data['model_execution_time'] = {\"regression\":(time.time() - model_start_time)}"
   ]
  },
  {
   "cell_type": "code",
   "execution_count": 61,
   "metadata": {},
   "outputs": [
    {
     "data": {
      "text/plain": [
       "{'model_execution_time': {'regression': 354.5295760631561}}"
      ]
     },
     "execution_count": 61,
     "metadata": {},
     "output_type": "execute_result"
    }
   ],
   "source": [
    "meta_data"
   ]
  },
  {
   "cell_type": "code",
   "execution_count": 62,
   "metadata": {},
   "outputs": [
    {
     "data": {
      "text/html": [
       "<table>\n",
       "<thead>\n",
       "<tr><th>model_id                                 </th><th style=\"text-align: right;\">  mean_per_class_error</th><th style=\"text-align: right;\">  logloss</th><th style=\"text-align: right;\">  rmse</th><th style=\"text-align: right;\">  mse</th></tr>\n",
       "</thead>\n",
       "<tbody>\n",
       "<tr><td>GLM_grid_1_AutoML_20190411_180444_model_1</td><td style=\"text-align: right;\">                   nan</td><td style=\"text-align: right;\">      nan</td><td style=\"text-align: right;\">   nan</td><td style=\"text-align: right;\">  nan</td></tr>\n",
       "<tr><td>GLM_grid_1_AutoML_20190411_203300_model_1</td><td style=\"text-align: right;\">                   nan</td><td style=\"text-align: right;\">      nan</td><td style=\"text-align: right;\">   nan</td><td style=\"text-align: right;\">  nan</td></tr>\n",
       "<tr><td>GLM_grid_1_AutoML_20190411_211049_model_1</td><td style=\"text-align: right;\">                   nan</td><td style=\"text-align: right;\">      nan</td><td style=\"text-align: right;\">   nan</td><td style=\"text-align: right;\">  nan</td></tr>\n",
       "<tr><td>GLM_grid_1_AutoML_20190412_004249_model_1</td><td style=\"text-align: right;\">                   nan</td><td style=\"text-align: right;\">      nan</td><td style=\"text-align: right;\">   nan</td><td style=\"text-align: right;\">  nan</td></tr>\n",
       "<tr><td>GLM_grid_1_AutoML_20190412_011844_model_1</td><td style=\"text-align: right;\">                   nan</td><td style=\"text-align: right;\">      nan</td><td style=\"text-align: right;\">   nan</td><td style=\"text-align: right;\">  nan</td></tr>\n",
       "<tr><td>GLM_grid_1_AutoML_20190411_192454_model_1</td><td style=\"text-align: right;\">                   nan</td><td style=\"text-align: right;\">      nan</td><td style=\"text-align: right;\">   nan</td><td style=\"text-align: right;\">  nan</td></tr>\n",
       "</tbody>\n",
       "</table>"
      ]
     },
     "metadata": {},
     "output_type": "display_data"
    },
    {
     "name": "stdout",
     "output_type": "stream",
     "text": [
      "\n"
     ]
    }
   ],
   "source": [
    "print(aml.leaderboard)"
   ]
  },
  {
   "cell_type": "code",
   "execution_count": null,
   "metadata": {},
   "outputs": [],
   "source": []
  },
  {
   "cell_type": "code",
   "execution_count": null,
   "metadata": {},
   "outputs": [],
   "source": []
  },
  {
   "cell_type": "code",
   "execution_count": null,
   "metadata": {},
   "outputs": [],
   "source": []
  },
  {
   "cell_type": "code",
   "execution_count": null,
   "metadata": {},
   "outputs": [],
   "source": []
  },
  {
   "cell_type": "code",
   "execution_count": null,
   "metadata": {},
   "outputs": [],
   "source": []
  },
  {
   "cell_type": "code",
   "execution_count": 21,
   "metadata": {},
   "outputs": [],
   "source": [
    "# Set up AutoML\n",
    "aml = H2OAutoML(max_runtime_secs=run_time)"
   ]
  },
  {
   "cell_type": "code",
   "execution_count": 22,
   "metadata": {},
   "outputs": [
    {
     "name": "stdout",
     "output_type": "stream",
     "text": [
      "AutoML progress: |████████████████████████████████████████████████████████| 100%\n"
     ]
    }
   ],
   "source": [
    "model_start_time = time.time()\n",
    "  \n",
    "try:\n",
    "    aml.train(x=X,y=y,training_frame=df)  # Change training_frame=train\n",
    "except Exception as e:\n",
    "    logging.critical('aml.train') \n",
    "    h2o.download_all_logs(dirname=logs_path, filename=logfile)      \n",
    "    h2o.cluster().shutdown()   \n",
    "    sys.exit(4)"
   ]
  },
  {
   "cell_type": "code",
   "execution_count": 26,
   "metadata": {},
   "outputs": [],
   "source": [
    "d=meta_data['model_execution_time']\n",
    "d['classification']=(time.time() - model_start_time)\n",
    "meta_data['model_execution_time'] = d"
   ]
  },
  {
   "cell_type": "code",
   "execution_count": 27,
   "metadata": {},
   "outputs": [
    {
     "data": {
      "text/plain": [
       "{'model_execution_time': {'regression': 303.90435099601746,\n",
       "  'classification': 870.9414427280426}}"
      ]
     },
     "execution_count": 27,
     "metadata": {},
     "output_type": "execute_result"
    }
   ],
   "source": [
    "meta_data"
   ]
  },
  {
   "cell_type": "code",
   "execution_count": 28,
   "metadata": {
    "scrolled": true
   },
   "outputs": [
    {
     "data": {
      "text/html": [
       "<table>\n",
       "<thead>\n",
       "<tr><th>model_id                                 </th><th style=\"text-align: right;\">  mean_per_class_error</th><th style=\"text-align: right;\">  logloss</th><th style=\"text-align: right;\">  rmse</th><th style=\"text-align: right;\">  mse</th></tr>\n",
       "</thead>\n",
       "<tbody>\n",
       "<tr><td>GLM_grid_1_AutoML_20190411_180444_model_1</td><td style=\"text-align: right;\">                   nan</td><td style=\"text-align: right;\">      nan</td><td style=\"text-align: right;\">   nan</td><td style=\"text-align: right;\">  nan</td></tr>\n",
       "</tbody>\n",
       "</table>"
      ]
     },
     "metadata": {},
     "output_type": "display_data"
    },
    {
     "name": "stdout",
     "output_type": "stream",
     "text": [
      "\n"
     ]
    }
   ],
   "source": [
    "print(aml.leaderboard)"
   ]
  },
  {
   "cell_type": "code",
   "execution_count": 41,
   "metadata": {},
   "outputs": [],
   "source": [
    "target='transaction_real_price'\n",
    "min_mem_size=6\n",
    "run_time=333"
   ]
  },
  {
   "cell_type": "code",
   "execution_count": 42,
   "metadata": {},
   "outputs": [],
   "source": [
    "# Set up AutoML\n",
    "\n",
    "aml = H2OAutoML(max_runtime_secs=run_time,exclude_algos = ['DeepLearning'])"
   ]
  },
  {
   "cell_type": "code",
   "execution_count": 43,
   "metadata": {},
   "outputs": [
    {
     "name": "stdout",
     "output_type": "stream",
     "text": [
      "AutoML progress: |████████████████████████████████████████████████████████| 100%\n"
     ]
    }
   ],
   "source": [
    "model_start_time = time.time()\n",
    "  \n",
    "try:\n",
    "  aml.train(x=X,y=y,training_frame=df)  # Change training_frame=train\n",
    "except Exception as e:\n",
    "  logging.critical('aml.train') \n",
    "  h2o.download_all_logs(dirname=logs_path, filename=logfile)      \n",
    "  h2o.cluster().shutdown()   \n",
    "  sys.exit(4)"
   ]
  },
  {
   "cell_type": "code",
   "execution_count": 44,
   "metadata": {},
   "outputs": [],
   "source": [
    "meta_data={}\n",
    "meta_data['model_execution_time'] = {\"regression\":(time.time() - model_start_time)}"
   ]
  },
  {
   "cell_type": "code",
   "execution_count": 45,
   "metadata": {},
   "outputs": [
    {
     "data": {
      "text/plain": [
       "{'model_execution_time': {'regression': 298.1435778141022}}"
      ]
     },
     "execution_count": 45,
     "metadata": {},
     "output_type": "execute_result"
    }
   ],
   "source": [
    "meta_data"
   ]
  },
  {
   "cell_type": "code",
   "execution_count": 46,
   "metadata": {},
   "outputs": [
    {
     "data": {
      "text/html": [
       "<table>\n",
       "<thead>\n",
       "<tr><th>model_id                                 </th><th style=\"text-align: right;\">  mean_per_class_error</th><th style=\"text-align: right;\">  logloss</th><th style=\"text-align: right;\">  rmse</th><th style=\"text-align: right;\">  mse</th></tr>\n",
       "</thead>\n",
       "<tbody>\n",
       "<tr><td>GLM_grid_1_AutoML_20190411_180444_model_1</td><td style=\"text-align: right;\">                   nan</td><td style=\"text-align: right;\">      nan</td><td style=\"text-align: right;\">   nan</td><td style=\"text-align: right;\">  nan</td></tr>\n",
       "<tr><td>GLM_grid_1_AutoML_20190411_203300_model_1</td><td style=\"text-align: right;\">                   nan</td><td style=\"text-align: right;\">      nan</td><td style=\"text-align: right;\">   nan</td><td style=\"text-align: right;\">  nan</td></tr>\n",
       "<tr><td>GLM_grid_1_AutoML_20190411_211049_model_1</td><td style=\"text-align: right;\">                   nan</td><td style=\"text-align: right;\">      nan</td><td style=\"text-align: right;\">   nan</td><td style=\"text-align: right;\">  nan</td></tr>\n",
       "<tr><td>GLM_grid_1_AutoML_20190411_192454_model_1</td><td style=\"text-align: right;\">                   nan</td><td style=\"text-align: right;\">      nan</td><td style=\"text-align: right;\">   nan</td><td style=\"text-align: right;\">  nan</td></tr>\n",
       "</tbody>\n",
       "</table>"
      ]
     },
     "metadata": {},
     "output_type": "display_data"
    },
    {
     "name": "stdout",
     "output_type": "stream",
     "text": [
      "\n"
     ]
    }
   ],
   "source": [
    "print(aml.leaderboard)"
   ]
  },
  {
   "cell_type": "code",
   "execution_count": 15,
   "metadata": {},
   "outputs": [],
   "source": [
    "best_model = h2o.get_model(aml.leaderboard[2,'model_id'])"
   ]
  },
  {
   "cell_type": "code",
   "execution_count": 16,
   "metadata": {},
   "outputs": [
    {
     "data": {
      "text/plain": [
       "'xgboost'"
      ]
     },
     "execution_count": 16,
     "metadata": {},
     "output_type": "execute_result"
    }
   ],
   "source": [
    "best_model.algo"
   ]
  },
  {
   "cell_type": "code",
   "execution_count": 17,
   "metadata": {},
   "outputs": [],
   "source": [
    "import matplotlib.pyplot as plt\n",
    "%matplotlib inline\n",
    "\n",
    "import warnings\n",
    "import matplotlib.cbook\n",
    "warnings.filterwarnings(\"ignore\", category = matplotlib.cbook.mplDeprecation)"
   ]
  },
  {
   "cell_type": "code",
   "execution_count": 18,
   "metadata": {},
   "outputs": [
    {
     "data": {
      "image/png": "[encoded data removed]",
      "text/plain": [
       "<Figure size 1008x720 with 1 Axes>"
      ]
     },
     "metadata": {
      "needs_background": "light"
     },
     "output_type": "display_data"
    }
   ],
   "source": [
    "best_model.varimp_plot()"
   ]
  },
  {
   "cell_type": "code",
   "execution_count": 19,
   "metadata": {},
   "outputs": [],
   "source": [
    "df[y] = df[y].asfactor()"
   ]
  },
  {
   "cell_type": "code",
   "execution_count": 20,
   "metadata": {
    "scrolled": true
   },
   "outputs": [
    {
     "name": "stdout",
     "output_type": "stream",
     "text": [
      "Rows:4447\n",
      "Cols:19\n",
      "\n",
      "\n"
     ]
    },
    {
     "data": {
      "text/html": [
       "<table>\n",
       "<thead>\n",
       "<tr><th>       </th><th>transaction_real_price  </th><th>city              </th><th>exclusive_use_area  </th><th>floor             </th><th>total_parking_capacity_in_site  </th><th>total_household_count_in_sites  </th><th>apartment_building_count_in_sites  </th><th>supply_area       </th><th>total_household_count_of_area_type  </th><th>room_count        </th><th>bathroom_count    </th><th>heat_fuel_cogeneration  </th><th>heat_fuel_gas     </th><th>heat_type_central  </th><th>heat_type_district  </th><th>heat_type_individual  </th><th>front_door_structure_corridor  </th><th>front_door_structure_mixed  </th><th>front_door_structure_stairway  </th></tr>\n",
       "</thead>\n",
       "<tbody>\n",
       "<tr><td>type   </td><td>enum                    </td><td>int               </td><td>real                </td><td>int               </td><td>int                             </td><td>int                             </td><td>int                                </td><td>real              </td><td>int                                 </td><td>int               </td><td>int               </td><td>int                     </td><td>int               </td><td>int                </td><td>int                 </td><td>int                   </td><td>int                            </td><td>int                         </td><td>int                            </td></tr>\n",
       "<tr><td>mins   </td><td>                        </td><td>0.0               </td><td>24.2475             </td><td>1.0               </td><td>0.0                             </td><td>100.0                           </td><td>1.0                                </td><td>33.59             </td><td>0.0                                 </td><td>0.0               </td><td>0.0               </td><td>0.0                     </td><td>0.0               </td><td>0.0                </td><td>0.0                 </td><td>0.0                   </td><td>0.0                            </td><td>0.0                         </td><td>0.0                            </td></tr>\n",
       "<tr><td>mean   </td><td>                        </td><td>0.633235889363616 </td><td>80.43324200584667   </td><td>10.161457162131775</td><td>1320.9788621542616              </td><td>1191.7533168428156              </td><td>12.970991679784124                 </td><td>103.30118956599955</td><td>292.6532493816056                   </td><td>2.9759388351697784</td><td>1.597031706768608 </td><td>0.2397121655048347      </td><td>0.7602878344951652</td><td>0.08162806386327862</td><td>0.24061164830222623 </td><td>0.6777602878344952    </td><td>0.259051045648752              </td><td>0.016865302451090622        </td><td>0.7240836519001574             </td></tr>\n",
       "<tr><td>maxs   </td><td>                        </td><td>1.0               </td><td>266.8181            </td><td>66.0              </td><td>9766.0                          </td><td>6864.0                          </td><td>124.0                              </td><td>343.89            </td><td>2960.0                              </td><td>6.0               </td><td>4.0               </td><td>1.0                     </td><td>1.0               </td><td>1.0                </td><td>1.0                 </td><td>1.0                   </td><td>1.0                            </td><td>1.0                         </td><td>1.0                            </td></tr>\n",
       "<tr><td>sigma  </td><td>                        </td><td>0.4819755547191596</td><td>28.772107257421734  </td><td>7.028892141141552 </td><td>1448.080749614069               </td><td>1135.12591706417                </td><td>14.331711124397955                 </td><td>33.90022505192435 </td><td>329.45238690672653                  </td><td>0.6674127834544982</td><td>0.5081169355394869</td><td>0.4269557765991174      </td><td>0.4269557765991174</td><td>0.27382801949303126</td><td>0.427502959168945   </td><td>0.46738678111809034   </td><td>0.43816295324580384            </td><td>0.12878118423684082         </td><td>0.4470251147192063             </td></tr>\n",
       "<tr><td>zeros  </td><td>                        </td><td>1631              </td><td>0                   </td><td>0                 </td><td>3                               </td><td>0                               </td><td>0                                  </td><td>0                 </td><td>54                                  </td><td>8                 </td><td>8                 </td><td>3381                    </td><td>1066              </td><td>4084               </td><td>3377                </td><td>1433                  </td><td>3295                           </td><td>4372                        </td><td>1227                           </td></tr>\n",
       "<tr><td>missing</td><td>0                       </td><td>0                 </td><td>0                   </td><td>0                 </td><td>0                               </td><td>0                               </td><td>0                                  </td><td>0                 </td><td>0                                   </td><td>0                 </td><td>0                 </td><td>0                       </td><td>0                 </td><td>0                  </td><td>0                   </td><td>0                     </td><td>0                              </td><td>0                           </td><td>0                              </td></tr>\n",
       "<tr><td>0      </td><td>334000000               </td><td>1.0               </td><td>84.94               </td><td>12.0              </td><td>3481.0                          </td><td>2678.0                          </td><td>25.0                               </td><td>102.02            </td><td>2254.0                              </td><td>3.0               </td><td>2.0               </td><td>0.0                     </td><td>1.0               </td><td>0.0                </td><td>0.0                 </td><td>1.0                   </td><td>0.0                            </td><td>0.0                         </td><td>1.0                            </td></tr>\n",
       "<tr><td>1      </td><td>400000000               </td><td>1.0               </td><td>114.88              </td><td>17.0              </td><td>1665.0                          </td><td>2017.0                          </td><td>22.0                               </td><td>137.59            </td><td>325.0                               </td><td>4.0               </td><td>2.0               </td><td>0.0                     </td><td>1.0               </td><td>0.0                </td><td>0.0                 </td><td>1.0                   </td><td>0.0                            </td><td>0.0                         </td><td>1.0                            </td></tr>\n",
       "<tr><td>2      </td><td>290000000               </td><td>0.0               </td><td>84.96               </td><td>7.0               </td><td>1761.0                          </td><td>1326.0                          </td><td>9.0                                </td><td>109.77            </td><td>209.0                               </td><td>3.0               </td><td>2.0               </td><td>0.0                     </td><td>1.0               </td><td>0.0                </td><td>0.0                 </td><td>1.0                   </td><td>0.0                            </td><td>0.0                         </td><td>1.0                            </td></tr>\n",
       "<tr><td>3      </td><td>156500000               </td><td>0.0               </td><td>85.0                </td><td>3.0               </td><td>2381.0                          </td><td>1391.0                          </td><td>14.0                               </td><td>107.24            </td><td>138.0                               </td><td>3.0               </td><td>2.0               </td><td>0.0                     </td><td>1.0               </td><td>0.0                </td><td>0.0                 </td><td>1.0                   </td><td>0.0                            </td><td>0.0                         </td><td>1.0                            </td></tr>\n",
       "<tr><td>4      </td><td>380000000               </td><td>0.0               </td><td>140.293             </td><td>14.0              </td><td>664.0                           </td><td>388.0                           </td><td>5.0                                </td><td>166.53            </td><td>130.0                               </td><td>5.0               </td><td>2.0               </td><td>0.0                     </td><td>1.0               </td><td>0.0                </td><td>0.0                 </td><td>1.0                   </td><td>0.0                            </td><td>0.0                         </td><td>1.0                            </td></tr>\n",
       "<tr><td>5      </td><td>87000000                </td><td>0.0               </td><td>60.0                </td><td>6.0               </td><td>200.0                           </td><td>124.0                           </td><td>2.0                                </td><td>85.95             </td><td>64.0                                </td><td>3.0               </td><td>1.0               </td><td>1.0                     </td><td>0.0               </td><td>0.0                </td><td>1.0                 </td><td>0.0                   </td><td>1.0                            </td><td>0.0                         </td><td>0.0                            </td></tr>\n",
       "<tr><td>6      </td><td>1530000000              </td><td>1.0               </td><td>219.82              </td><td>35.0              </td><td>1081.0                          </td><td>445.0                           </td><td>2.0                                </td><td>279.31            </td><td>4.0                                 </td><td>3.0               </td><td>4.0               </td><td>1.0                     </td><td>0.0               </td><td>0.0                </td><td>0.0                 </td><td>1.0                   </td><td>0.0                            </td><td>0.0                         </td><td>1.0                            </td></tr>\n",
       "<tr><td>7      </td><td>115000000               </td><td>0.0               </td><td>49.42               </td><td>11.0              </td><td>340.0                           </td><td>720.0                           </td><td>5.0                                </td><td>69.02             </td><td>720.0                               </td><td>2.0               </td><td>1.0               </td><td>0.0                     </td><td>1.0               </td><td>0.0                </td><td>0.0                 </td><td>1.0                   </td><td>1.0                            </td><td>0.0                         </td><td>0.0                            </td></tr>\n",
       "<tr><td>8      </td><td>398000000               </td><td>1.0               </td><td>59.97               </td><td>2.0               </td><td>302.0                           </td><td>636.0                           </td><td>9.0                                </td><td>81.55             </td><td>323.0                               </td><td>2.0               </td><td>1.0               </td><td>0.0                     </td><td>1.0               </td><td>0.0                </td><td>0.0                 </td><td>1.0                   </td><td>1.0                            </td><td>0.0                         </td><td>0.0                            </td></tr>\n",
       "<tr><td>9      </td><td>94500000                </td><td>0.0               </td><td>45.5                </td><td>4.0               </td><td>230.0                           </td><td>996.0                           </td><td>7.0                                </td><td>63.17             </td><td>996.0                               </td><td>3.0               </td><td>1.0               </td><td>0.0                     </td><td>1.0               </td><td>0.0                </td><td>0.0                 </td><td>1.0                   </td><td>1.0                            </td><td>0.0                         </td><td>0.0                            </td></tr>\n",
       "</tbody>\n",
       "</table>"
      ]
     },
     "metadata": {},
     "output_type": "display_data"
    }
   ],
   "source": [
    "df.describe()"
   ]
  },
  {
   "cell_type": "code",
   "execution_count": null,
   "metadata": {},
   "outputs": [],
   "source": [
    "# Set up AutoML\n",
    "\n",
    "aml = H2OAutoML(max_runtime_secs=run_time,exclude_algos = ['DeepLearning'])\n",
    "\n",
    "model_start_time = time.time()\n",
    "  \n",
    "try:\n",
    "  aml.train(x=X,y=y,training_frame=df)  # Change training_frame=train\n",
    "except Exception as e:\n",
    "  logging.critical('aml.train') \n",
    "  h2o.download_all_logs(dirname=logs_path, filename=logfile)      \n",
    "  h2o.cluster().shutdown()   \n",
    "  sys.exit(4)\n",
    "\n",
    "meta_data={}\n",
    "meta_data['model_execution_time'] = {\"regression\":(time.time() - model_start_time)}\n",
    "\n",
    "meta_data\n",
    "\n",
    "print(aml.leaderboard)\n",
    "\n",
    "best_model = h2o.get_model(aml.leaderboard[2,'model_id'])\n",
    "\n",
    "best_model.algo\n",
    "\n",
    "import matplotlib.pyplot as plt\n",
    "%matplotlib inline\n",
    "\n",
    "import warnings\n",
    "import matplotlib.cbook\n",
    "warnings.filterwarnings(\"ignore\", category = matplotlib.cbook.mplDeprecation)\n",
    "\n",
    "best_model.varimp_plot()\n",
    "\n",
    "df[y] = df[y].asfactor()\n",
    "\n",
    "df.describe()"
   ]
  },
  {
   "cell_type": "code",
   "execution_count": null,
   "metadata": {},
   "outputs": [],
   "source": []
  },
  {
   "cell_type": "code",
   "execution_count": null,
   "metadata": {},
   "outputs": [],
   "source": []
  },
  {
   "cell_type": "code",
   "execution_count": null,
   "metadata": {},
   "outputs": [],
   "source": []
  },
  {
   "cell_type": "code",
   "execution_count": null,
   "metadata": {},
   "outputs": [],
   "source": []
  },
  {
   "cell_type": "code",
   "execution_count": null,
   "metadata": {},
   "outputs": [],
   "source": []
  }
 ],
 "metadata": {
  "kernelspec": {
   "display_name": "Python 3",
   "language": "python",
   "name": "python3"
  },
  "language_info": {
   "codemirror_mode": {
    "name": "ipython",
    "version": 3
   },
   "file_extension": ".py",
   "mimetype": "text/x-python",
   "name": "python",
   "nbconvert_exporter": "python",
   "pygments_lexer": "ipython3",
   "version": "3.7.1"
  }
 },
 "nbformat": 4,
 "nbformat_minor": 2
}
